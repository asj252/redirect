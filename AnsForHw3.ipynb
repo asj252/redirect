{
 "cells": [
  {
   "cell_type": "markdown",
   "id": "bb0dea41-5d06-4d9c-b369-c924072a4b21",
   "metadata": {},
   "source": [
    "# Answer For Homework 3"
   ]
  },
  {
   "cell_type": "markdown",
   "id": "3c8a7ce9-9847-4b7c-98fc-cab53ee79101",
   "metadata": {
    "tags": []
   },
   "source": [
    "手写拍照，上传照片在附件。非手写者0分。"
   ]
  },
  {
   "cell_type": "markdown",
   "id": "069b3a3a-95e2-4eb4-84f6-561fab95d61d",
   "metadata": {},
   "source": [
    "***Exercise 1:***\n",
    "\n",
    "Given three 3-dimensional vectors $\\mathbf{u_1}=\\begin{bmatrix}u_{11}\\\\u_{12}\\\\u_{13}\\end{bmatrix}$ ,  $\\mathbf{u_2}$, $\\mathbf{u_3}$ that are linearly dependent, how can we  determine their exact relationship.\n",
    "\n",
    "假设有三个线性相关的三维向量 $\\mathbf{u_1}$，$\\mathbf{u_2}$，$\\mathbf{u_3}$，如何确定它们之间的确切关系。"
   ]
  },
  {
   "cell_type": "markdown",
   "id": "890f9028-4840-425a-b167-41793770012e",
   "metadata": {},
   "source": [
    "Ans: Assuming $\\mathbf{u}_2 \\nparallel \\mathbf{u}_3$, then $\\mathbf{u}_2 \\times \\mathbf{u}_3\\neq \\vec{0}$. Therefore $\\mathtt{det}\\begin{pmatrix}\n",
    "u_{21} & u_{31}  \\\\ u_{22} & u_{32} \n",
    "\\end{pmatrix}$, $\\mathtt{det}\\begin{pmatrix}\n",
    "u_{22} & u_{32}  \\\\ u_{23} & u_{33} \n",
    "\\end{pmatrix}$,$\\mathtt{det}\\begin{pmatrix}\n",
    "u_{21} & u_{31}  \\\\ u_{23} & u_{33} \n",
    "\\end{pmatrix}$ can't be all zeros.\n",
    "We could assume $\\mathtt{det}\\begin{pmatrix}\n",
    "u_{21} & u_{31}  \\\\ u_{22} & u_{32} \n",
    "\\end{pmatrix} \\neq 0 $.\n",
    "\n",
    "$\\mathbf{u}_1$ lies in the plane spanned by $\\mathbf{u}_2$,$\\mathbf{u}_3$.\n",
    "$\\mathbf{u}_1 = a \\mathbf{u}_2 + b \\mathbf{u}_3$.\n",
    "In other words,\n",
    "$$\\begin{bmatrix}\n",
    "u_{11} \\\\ u_{12} \n",
    "\\end{bmatrix}=\\begin{bmatrix}\n",
    "u_{21} & u_{31}  \\\\ u_{22} & u_{32} \n",
    "\\end{bmatrix}\\begin{bmatrix}\n",
    "a   \\\\ b  \n",
    "\\end{bmatrix}$$\n",
    "Since $\\mathtt{det}\\begin{pmatrix}\n",
    "u_{21} & u_{31}  \\\\ u_{22} & u_{32} \n",
    "\\end{pmatrix} \\neq 0 $, we could invert the equation and solve for $\\begin{bmatrix}\n",
    "a   \\\\ b  \n",
    "\\end{bmatrix}$\n"
   ]
  },
  {
   "cell_type": "markdown",
   "id": "f1cd393f-10d3-4684-92ba-4ea4877f3d5a",
   "metadata": {},
   "source": [
    "***Exercise 2:***\n",
    "\n",
    "Given three n-dimensional vectors $\\mathbf{u_1}$, $\\mathbf{u_2}$, $\\mathbf{u_3}$, how can we determine if they are linearly independent?\n",
    "\n",
    "给定三个n维向量 $\\mathbf{u_1}$，$\\mathbf{u_2}$，$\\mathbf{u_3}$，我们如何确定它们是否线性无关？"
   ]
  },
  {
   "cell_type": "markdown",
   "id": "a005c371-57c6-4fc6-ac2b-afc12441fc00",
   "metadata": {},
   "source": [
    "Ans: Assuming $\\mathbf{u}_2 \\nparallel \\mathbf{u}_3$, therefore $\\mathbf{u}_2 \\neq k\\mathbf{u}_3 ,\\forall k$. First, select some $i$  such that $u_{2i} \\neq 0$ ,and compute $q$ such that $u_{3i}= q u_{2i}$. Since $\\mathbf{u}_2 \\neq q\\mathbf{u}_3$, we could find $j\\neq i $ such that $u_{3j} \\neq q u_{2j}$.\n",
    "\n",
    "Next, compute $\\mathtt{det}\\begin{pmatrix}\n",
    "u_{2i} & u_{3i}  \\\\ u_{2j} & u_{3j} \n",
    "\\end{pmatrix}=\\mathtt{det}\\begin{pmatrix}\n",
    "u_{2i} & q u_{2i}  \\\\ u_{2j} & u_{3j} \n",
    "\\end{pmatrix} = u_{2i}(u_{3j}-qu_{2j})\\neq 0$.\n",
    "Assuming $\\mathbf{u}_1 = a \\mathbf{u}_2 + b \\mathbf{u}_3$, we have \n",
    "$$\\begin{bmatrix}\n",
    "u_{1i} \\\\ u_{1j} \n",
    "\\end{bmatrix}=\\begin{bmatrix}\n",
    "u_{2i} & u_{3i}  \\\\ u_{2j} & u_{3j} \n",
    "\\end{bmatrix}\\begin{bmatrix}\n",
    "a   \\\\ b  \n",
    "\\end{bmatrix}$$\n",
    "Since $\\mathtt{det}\\begin{pmatrix}\n",
    "u_{2i} & u_{3i}  \\\\ u_{2j} & u_{3j} \n",
    "\\end{pmatrix} \\neq 0 $, we could invert the equation and solve for $\\begin{bmatrix}\n",
    "a   \\\\ b  \n",
    "\\end{bmatrix}$ and check whether they are linear dependant."
   ]
  },
  {
   "cell_type": "markdown",
   "id": "7a781afb-0bc7-4fde-833f-473f78625e6b",
   "metadata": {},
   "source": [
    "***Research 1:***\n",
    "list some important scientific and engineering developments with eigenvalue and eigenvector decomposition:\n",
    "\n",
    "列举一些使用特征值和特征向量分解的重要科学和工程发展:"
   ]
  },
  {
   "cell_type": "markdown",
   "id": "49c605e8-80ef-496c-a341-c8ef5e62b0e2",
   "metadata": {},
   "source": [
    "***Exercise 3:***\n",
    "$$\\mathbf{A}=\\begin{bmatrix}\n",
    "0 & 0 & 0 &0&0\\\\\n",
    "1 & 0 & 0 &0&0 \\\\\n",
    "0 & 1&0& 0&0\\\\\n",
    "0 & 0 & 1 &0&0\\\\\n",
    "0 & 0 & 0 &1&0\\\\\n",
    "\\end{bmatrix}$$\n",
    "\n",
    "Compute  $\\mathbf{A}^2$, $\\mathbf{A}^3$, $\\mathbf{A}^4$"
   ]
  },
  {
   "cell_type": "markdown",
   "id": "7682d826-d705-4226-a8fa-0e155e69c404",
   "metadata": {},
   "source": [
    "$\\mathbf{A}^2=\\begin{bmatrix}\n",
    "0 & 0 & 0 &0&0\\\\\n",
    "0 & 0 & 0 &0&0 \\\\\n",
    "1 & 0&0& 0&0\\\\\n",
    "0 & 1 & 0 &0&0\\\\\n",
    "0 & 0 & 1 &0&0\\\\\n",
    "\\end{bmatrix}$\n",
    "$\\mathbf{A}^3=\\begin{bmatrix}\n",
    "0 & 0 & 0 &0&0\\\\\n",
    "0 & 0 & 0 &0&0 \\\\\n",
    "0 & 0&0& 0&0\\\\\n",
    "1 & 0 & 0 &0&0\\\\\n",
    "0 & 1 & 0 &0&0\\\\\n",
    "\\end{bmatrix}$\n",
    "\n",
    "$\\mathbf{A}^4=\\begin{bmatrix}\n",
    "0 & 0 & 0 &0&0\\\\\n",
    "0 & 0 & 0 &0&0 \\\\\n",
    "0 & 0&0& 0&0\\\\\n",
    "0 & 0 & 0 &0&0\\\\\n",
    "1 & 0 & 0 &0&0\\\\\n",
    "\\end{bmatrix}$"
   ]
  },
  {
   "cell_type": "markdown",
   "id": "acc24141-454a-4873-b65d-5128de73b6cd",
   "metadata": {},
   "source": [
    "A is nilpotent"
   ]
  },
  {
   "cell_type": "code",
   "execution_count": null,
   "id": "a8ca12a8-2c7c-4f0c-b40e-33d54a7051eb",
   "metadata": {},
   "outputs": [],
   "source": []
  }
 ],
 "metadata": {
  "kernelspec": {
   "display_name": "Python 3 (ipykernel)",
   "language": "python",
   "name": "python3"
  },
  "language_info": {
   "codemirror_mode": {
    "name": "ipython",
    "version": 3
   },
   "file_extension": ".py",
   "mimetype": "text/x-python",
   "name": "python",
   "nbconvert_exporter": "python",
   "pygments_lexer": "ipython3",
   "version": "3.12.1"
  }
 },
 "nbformat": 4,
 "nbformat_minor": 5
}
