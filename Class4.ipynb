{
 "cells": [
  {
   "cell_type": "markdown",
   "id": "d14d5fe1-853f-451e-9b55-9fe2acb89893",
   "metadata": {},
   "source": [
    "# Linear Algebra Crash Course (with Python) Class 4\n",
    "\n",
    "# Chap 4: Abstract linear algebra"
   ]
  },
  {
   "cell_type": "markdown",
   "id": "5ee00475-7302-480f-925b-a0bcf1ababb5",
   "metadata": {},
   "source": [
    "## 常用表示法\n",
    "\n",
    "- $\\{ \\mathbf{v}_i\\}_i=\\{ \\boldsymbol{\\vec{v_i}}\\}_i$ 用来表示一个向量集合，假设这个集合的大小是 $n$， 這個表示相當於 $\\{ \\boldsymbol{\\vec{v_1}},\\boldsymbol{\\vec{v_2}},\\dots,\\boldsymbol{\\vec{v_n}}\\}$。\n",
    "\n",
    "- $\\#\\{ \\boldsymbol{\\vec{v_i}}\\}$ 用来表示一个向量集合的大小，在不會造成混淆的情況下，一般用 $n$ 表示这个集合的大小，即$\\#\\{ \\boldsymbol{\\vec{v_i}}\\}=n$ 。\n",
    "\n",
    "- 核空间：Kernal of $A$, $Ker(A) \\triangleq \\{\\mathbf{v}|A\\mathbf{v}=0\\}$\n",
    "\n",
    "- 象空间：Image of $A$, $Im(A) \\triangleq\\{A\\mathbf{v}|\\forall \\mathbf{v}\\}$\n",
    "\n",
    "- $A=(a_{ij})_{ij}$ ，用來表示一個矩陣，$a_{ij}$ 表示的是第 $i$ 行第 $j$ 列的元素。\n",
    "\n",
    "- $f: C\\rightarrow D$ , $f$ 是一个函数，来源属于 $C$, 结果属于 $D$。\n",
    "\n",
    "- $\\{\\emptyset\\}$ 表示空集合。 \n",
    "\n",
    "- 当 $\\mathbf{v}\\in\\mathbb{R}^n$ ,我们用 $\\mathbf{v}^\\perp$ 来表示一组 $n-1$ 个互相垂直（线性独立），与 $\\mathbf{v}$ 垂直的单位向量集。自然地我们有$\\mathbf{v} \\bigoplus span(\\mathbf{v}^\\perp)=\\mathbb{R}^n$。\n",
    "- $\\delta_{ij}=1$ ，如果$i=j$, $\\delta_{ij}=0$ 如果$i\\neq j$。"
   ]
  },
  {
   "cell_type": "markdown",
   "id": "8e599f3e-d0b3-4621-8e77-b51d8b177bd4",
   "metadata": {},
   "source": [
    "## Multiplication of two matrices\n",
    "\n",
    "Consider $\\mathbf{A}=(a_{ij})_{ij}$ as a $p \\times q$ matrix with elements denoted by $a_{ij}$ and $\\mathbf{B}=(b_{jk})_{jk}$ as a $q \\times r$ matrix with elements denoted by $b_{jk}$.\n",
    "\n",
    "We could write down $\\mathbf{AB} \\triangleq (\\sum_{j=1}^{q} a_{ij}b_{jk})_{ik}$"
   ]
  },
  {
   "cell_type": "code",
   "execution_count": 2,
   "id": "cb4552cf-267b-436b-9d7b-2903a41b32d1",
   "metadata": {
    "tags": []
   },
   "outputs": [
    {
     "name": "stdout",
     "output_type": "stream",
     "text": [
      "[[19 22]\n",
      " [43 50]]\n",
      "[[19 22]\n",
      " [43 50]]\n"
     ]
    }
   ],
   "source": [
    "#einstein summation\n",
    "import numpy as np\n",
    "A = np.array([[1,2],[3,4]])\n",
    "B = np.array([[5,6],[7,8]])\n",
    "print(np.dot(A,B))              \n",
    "print(np.einsum(\"ij,jk->ik\",A,B))              "
   ]
  },
  {
   "cell_type": "markdown",
   "id": "2fdcba7c-7420-4778-9eda-f2db97618524",
   "metadata": {
    "tags": []
   },
   "source": [
    "## Multiplication of matrix and vector\n",
    "\n",
    "We could see q dimensional vector, $\\mathbf{v}=(v_{j})_{j}$ as $\\mathbf{v}=(v_{j1})_{j1}$. Therefore following the multiplication of two matrices, we have  $\\mathbf{Av}=(\\sum_{j=1}^{q} a_{ij}v_{j1})_{i1}=(\\sum_{j=1}^{q} a_{ij}v_{j})_{i}$"
   ]
  },
  {
   "cell_type": "code",
   "execution_count": 5,
   "id": "e88d73d6-a4ad-420b-8bc8-fe8b8d45a5f0",
   "metadata": {
    "tags": []
   },
   "outputs": [
    {
     "name": "stdout",
     "output_type": "stream",
     "text": [
      "[19 43]\n",
      "[19 43]\n"
     ]
    }
   ],
   "source": [
    "#einstein summation\n",
    "import numpy as np\n",
    "A = np.array([[1,2],[3,4]])\n",
    "v = np.array([5,7])\n",
    "print(np.dot(A,v))              \n",
    "print(np.einsum(\"ij,j->i\",A,v))  "
   ]
  },
  {
   "cell_type": "markdown",
   "id": "4abaeae4-d248-4bcf-869a-c9371e93af1a",
   "metadata": {},
   "source": [
    "## Inner product\n",
    "\n",
    "If $\\mathbf{u}=(u_i)_i$ and $\\mathbf{v}=(v_i)_i$, are both $q$ dimensional vector, then $\\langle \\mathbf{u},\\mathbf{v}\\rangle \\triangleq \\sum_{i=1}^{q} u_{i}v_{i}$. \n"
   ]
  },
  {
   "cell_type": "code",
   "execution_count": 8,
   "id": "a5c23ff3-3e1c-458c-9c60-1736914318bc",
   "metadata": {
    "tags": []
   },
   "outputs": [
    {
     "name": "stdout",
     "output_type": "stream",
     "text": [
      "11\n",
      "11\n"
     ]
    }
   ],
   "source": [
    "u = np.array([1,2])\n",
    "v = np.array([3,4])\n",
    "print(np.dot(u,v))              \n",
    "print(np.einsum(\"i,i->\",u,v))  "
   ]
  },
  {
   "cell_type": "markdown",
   "id": "c41a540a-8f55-456e-b7bb-200df411d8a9",
   "metadata": {},
   "source": [
    "## Matrix transpose\n",
    "Consider $\\mathbf{A}=(a_{ij})_{ij}$, then $\\mathbf{A}^{\\top}=(a_{ji})_{ij}$. Moreover, \n",
    "$(\\mathbf{AB})^{\\top}=(\\sum_{j=1}^{q} a_{kj}b_{ji})_{ik}=(b_{ji})_{ij}(a_{kj})_{jk}=\\mathbf{B}^{\\top}\\mathbf{A}^{\\top}$"
   ]
  },
  {
   "cell_type": "code",
   "execution_count": 12,
   "id": "8663148f-5c46-4a5c-8fc7-6b8a17f0a53c",
   "metadata": {
    "tags": []
   },
   "outputs": [
    {
     "name": "stdout",
     "output_type": "stream",
     "text": [
      "[[1 3]\n",
      " [2 4]]\n",
      "[[19 43]\n",
      " [22 50]]\n",
      "[[19 43]\n",
      " [22 50]]\n",
      "[[19 43]\n",
      " [22 50]]\n",
      "[[19 43]\n",
      " [22 50]]\n"
     ]
    }
   ],
   "source": [
    "A = np.array([[1,2],[3,4]])\n",
    "print(np.einsum(\"ij->ji\",A))\n",
    "B = np.array([[5,6],[7,8]])\n",
    "print(np.dot(A,B).T) \n",
    "print(np.dot(B.T,A.T)) \n",
    "print(np.einsum(\"ij,jk->ki\",A,B))\n",
    "print(np.einsum(\"kj,ji->ik\",A,B))"
   ]
  },
  {
   "cell_type": "markdown",
   "id": "8620bae6-a797-4d02-9ce1-9c50724f1494",
   "metadata": {
    "tags": []
   },
   "source": [
    "## Inner product and matrix transpose\n",
    "\n",
    "Consider $\\mathbf{u}=(u_i)_i$, $\\mathbf{A}=(a_{ij})_{ij}$  $\\mathbf{v}=(v_j)_j$. We have\n",
    "\n"
   ]
  },
  {
   "cell_type": "markdown",
   "id": "3352ee52-62af-43af-a91f-9af93a11e282",
   "metadata": {},
   "source": [
    "$$\\begin{align*}\n",
    "\\langle \\mathbf{u},\\mathbf{A}\\mathbf{v}\\rangle  &= \\sum_{i=1}^{p} u_{i} (\\sum_{j=1}^{q} a_{ij}v_{j})\\\\\n",
    "&= \\sum_{i=1}^{p}\\sum_{j=1}^{q} (u_{i}a_{ij}v_{j}) \\\\\n",
    "&= \\sum_{j=1}^{q}\\sum_{i=1}^{p} (u_{i}a_{ij}v_{j}) \\\\\n",
    "&= \\sum_{j=1}^{q} v_{j} (\\sum_{i=1}^{p} u_{i}a_{ij}) \\\\\n",
    "&= \\langle \\mathbf{A}^{\\top}\\mathbf{u},\\mathbf{v}\\rangle  \n",
    "\\end{align*}\n",
    "$$"
   ]
  },
  {
   "cell_type": "markdown",
   "id": "3061d403-1dd3-4d59-97c2-d3ef94995286",
   "metadata": {},
   "source": [
    "*Notice that $\\mathbf{A}$ is not necessary a square matrix, and $\\mathbf{u}$,$\\mathbf{v}$ could be different dimensions.* \n",
    "*Notice that this is a **key operation** in many proofs of linear algebra*"
   ]
  },
  {
   "cell_type": "code",
   "execution_count": 22,
   "id": "eb10ca41-7252-407f-9fd9-8e3b7097a580",
   "metadata": {
    "tags": []
   },
   "outputs": [
    {
     "name": "stdout",
     "output_type": "stream",
     "text": [
      "346\n",
      "346\n",
      "346\n"
     ]
    }
   ],
   "source": [
    "u = np.array([1,2,3])\n",
    "v = np.array([3,4])\n",
    "A = np.array([[5,6],[7,8],[9,10]])\n",
    "print(np.linalg.multi_dot([u,A,v]))\n",
    "print(np.dot(A.T,u).dot(v))\n",
    "print(np.dot(np.dot(A.T,u),v))"
   ]
  },
  {
   "cell_type": "markdown",
   "id": "3239b677-d7b2-4a76-8760-08f097220dd3",
   "metadata": {},
   "source": [
    "## Linear space 线性空间\n",
    "\n",
    "给定一个向量集合 $\\{ \\mathbf{v}_i\\}_i$ ，以及一个标量集合 $\\{ x_i\\}_i$，我们有线性组合 $x_1\\mathbf{v}_1 +x_2\\mathbf{v}_2+...+x_n\\mathbf{v}_n$。\n"
   ]
  },
  {
   "cell_type": "code",
   "execution_count": null,
   "id": "6b89577b-8cbd-453d-9262-2260a4c978e3",
   "metadata": {},
   "outputs": [],
   "source": [
    "#np.einsum(\"ij,i->j\",v,x) #这里要注意两个i 要有相同的维数。"
   ]
  },
  {
   "cell_type": "markdown",
   "id": "0b1a5c7f-0dbe-4ebf-a089-06db6d84145d",
   "metadata": {},
   "source": [
    "一个典型的例子是以单位坐标轴向量为向量集合。\n",
    "\n",
    "我们把所有的线性组合收集起来，就形成了一个实线性(生成)空间。计作$span_{\\mathbb{R}}(\\{ \\mathbf{v}_i \\}_i)=\\{x_1\\mathbf{v}_1 +x_2 \\mathbf{v}_2+...+x_n \\mathbf{v}_n |  \\forall x_i \\in \\mathbb{R} \\}$。\n",
    "或者复线性(生成)空间 $span_{\\mathbb{C}}(\\{ \\mathbf{v}_i \\}_i)=\\{x_1\\mathbf{v}_1 +x_2 \\mathbf{v}_2+...+x_n \\mathbf{v}_n |  \\forall x_i \\in \\mathbb{C} \\}$."
   ]
  },
  {
   "cell_type": "markdown",
   "id": "d49bffb5-f564-45d8-97bc-8d42ccf50568",
   "metadata": {},
   "source": [
    "## 线性独立\n",
    "\n",
    "在线性代数中，一組向量集合 $\\{\\mathbf{v}_i\\}_i = \\{\\mathbf{v}_1,\\mathbf{v}_2,...,\\mathbf{v}_n\\}$，如果当中没有一个向量可以被其他向量的线性组合替代，我们则称 $\\{\\mathbf{v}_i\\}_i$ 为线性独立的。换句话说，$x_1\\mathbf{v}_1 +x_2\\mathbf{v}_2+...+x_n\\mathbf{v}_n=0$，若且唯若$x_1=x_2=...=x_n=0$。\n",
    "\n",
    "\n",
    "线性独立是一个非常重要的概念，因为它可以帮助我们理解向量的几何性质以及它们在空间中的相对位置。此外，线性独立还与矩阵的秩有关，矩阵的秩等于其列向量(或行向量)组成的向量集合的线性独立的最大数量，这对于解决许多线性代数中的问题非常有帮助。\n",
    "\n",
    "\n",
    "\n",
    "在实际应用中，我们经常需要判断一组向量是否线性独立，这可以通过高斯消去法实现。"
   ]
  },
  {
   "cell_type": "code",
   "execution_count": null,
   "id": "4795fb26-cc26-40dc-971e-e86b106c7b48",
   "metadata": {},
   "outputs": [],
   "source": [
    "#examplecode \n",
    "\n",
    "A = np.array([[0,1,0,0],[0,0,1,0],[0,1,1,0],[1,0,0,1]])  # your matrix\n",
    "_, inds = sympy.Matrix(A).T.rref()   # to check the rows you need to transpose!\n",
    "inds\n"
   ]
  },
  {
   "cell_type": "markdown",
   "id": "30a88411-e5c2-45dc-a96c-30cd4cc31bdd",
   "metadata": {},
   "source": [
    "***exercise : Show that the vectors $\\begin{bmatrix}1 \\\\ i \\end{bmatrix}$ and $\\begin{bmatrix}1 \\\\ 1 \\end{bmatrix}$ are capable of spanning $\\mathbb{C}^2$ as a complex linear space.***\n",
    "\n",
    "练习：证明向量 $\\begin{bmatrix}1 \\\\i \\end{bmatrix}$ 和 $\\begin{bmatrix}1 \\\\1 \\end{bmatrix}$ 能够作为复数线性空间 $\\mathbb{C}^2$ 的一组基。"
   ]
  },
  {
   "cell_type": "markdown",
   "id": "f5778480-bded-4754-824c-8159972c1719",
   "metadata": {},
   "source": [
    "## 向量空间 $\\mathbb{R}^n$ 的维度\n",
    "\n",
    "首先我们先证明 $\\mathbb{R}^n$ 中一组线性独立向量集合最多有 $n$ 个元素。\n",
    "使用数学归纳法，$\\mathbb{R}^1$ 显然成立。假设 $\\mathbb{R}^n$ 的情况成立，我们现在考虑 $\\mathbb{R}^{n+1}$ 的情况，假设我们有一组 $\\{ \\mathbf{v}_i \\}$ 线性独立向量基底张成 $\\mathbb{R}^{n+1}$，显然我们在这些向量中能找出一个$\\mathbf{v}^{*}$，使得该向量在 ${n+1}$ 位的投影非 0。参考 $LU$ 分解，或是高斯消去法，我们能消去  $\\{\\mathbf{v}_i ：\\mathbf{v}_i \\neq \\mathbf{v}^{*} \\}$ 在${n+1}$ 位的投影，形成新的一组 $\\mathbb{R}^{n}$ 线性独立的基底，因此  $\\#\\{ \\mathbf{v}_i : \\mathbf{v}_i \\neq \\mathbf{v}^{*} \\}\\leq n$ , 显然 $\\#\\{ \\mathbf{v}_i  \\}\\leq n+1$。\n",
    "\n",
    "从这里我们可以推导出*如果 $\\mathbb{R}^n$ 中一组线性独立向量 $\\{ \\mathbf{v}_i\\}_i$ 集合有 $n$ 个元素，则其[[向量空间#线性生成空间|线性生成空间]]，必然为 $\\mathbb{R}^n$* 。若其线性生成空间非 $\\mathbb{R}^n$ ，我们可以找出一个 $\\mathbf{v}^*$ 在  $\\mathbb{R}^n$ 中又不在其线性生成空间中，则我们可以添加  $\\mathbf{v}^*$ 进 $\\{ \\mathbf{v}_i \\}_i$ 使其成为在 $\\mathbb{R}^n$有 $n+1$ 个元素的线性独立集合，显然矛盾。"
   ]
  },
  {
   "cell_type": "markdown",
   "id": "c4dd1ec1-7c04-4200-ae1b-e49923240cf7",
   "metadata": {},
   "source": [
    "线性代数的核心操作，是操作行空间以及列空间。\n",
    "我们先考虑 $n$ 阶方阵的情况，我们将A用两种方式表达出来，一个是行向量 $\\mathbf{x}_i$ 排成一列的，或者是列向量 $\\mathbf{y}_i$ 排成一行。\n",
    "\n",
    "## Operation on row space\n",
    "\n",
    "首先我们看如何操纵行向量，我们构造一个特殊的下三角矩阵，对角线上为1，第一列非0，其它都是0。\n",
    "\n",
    "$$\\left(\\begin{array}{c|c}\n",
    " 1& 0 \\\\ \\hline\n",
    " \\begin{matrix}a\\\\b\\\\c\\\\d\\\\\\vdots\\end{matrix}&  \\textbf{I}_{n-1} \n",
    " \\end{array}\\right)  \n",
    "\\begin{pmatrix}\n",
    " &     \\mathbf{x}_1 & \\\\\n",
    "\\hline\n",
    " &   \\mathbf{x}_2 & \\\\\n",
    " \\hline\n",
    " &   \\mathbf{x}_3 & \\\\\n",
    "\\hline\n",
    " & \\vdots & \\\\\\hline\n",
    " & \\mathbf{x}_n & \\\\\n",
    "\\end{pmatrix}=\\begin{pmatrix}\n",
    " &     \\mathbf{x}_1 & \\\\\n",
    "\\hline\n",
    " &   \\mathbf{x}_2+a\\mathbf{x}_1 & \\\\\n",
    " \\hline\n",
    " &   \\mathbf{x}_3+b\\mathbf{x}_1 & \\\\\n",
    "\\hline\n",
    " & \\vdots & \\\\\\hline\n",
    " & \\mathbf{x}_n+\\dots & \\\\\n",
    "\\end{pmatrix}$$\n",
    "根据矩阵计算的结果，我们不难发现从 $\\mathbf{x}_2$，到$\\mathbf{x}_n$ 都受到了 $\\mathbf{x}_1$  的调整。同时每次操作A时，我们都必须拿矩阵计算，而输出的结果是则 n 个重组过的向量\n",
    "\n",
    "这个运算是 $LU$ 分解或是高斯消去法的基础。"
   ]
  },
  {
   "cell_type": "markdown",
   "id": "a3052580-c6d0-4c27-94ec-1242325f6ea3",
   "metadata": {},
   "source": [
    "## Operation on column space\n",
    "\n",
    "$$\\begin{bmatrix}\n",
    "&     & \\\\\n",
    "&    & \\\\\n",
    " \\mathbf{y}_1&   \\mathbf{y}_2 & \\mathbf{y}_3 & \\dots & \\mathbf{y}_n\\\\ \n",
    " &  & \\\\\n",
    " &  & \\end{bmatrix}\n",
    "\\begin{bmatrix}\n",
    "      a  \\\\\n",
    "    b  \\\\\n",
    "    c  \\\\\n",
    " \\vdots  \\\\\n",
    " \\\\\n",
    "\\end{bmatrix}=\\begin{bmatrix}\n",
    "a\\vec{\\textbf{y}_1}+b\\vec{\\textbf{y}_2}+c\\vec{\\textbf{y}_3}+\\dots\\end{bmatrix}$$\n",
    "\n",
    "根据矩阵计算的结果，我们不难发现输出的结果是 $\\mathbf{y}_i$ 的一个线性组合结果，依旧是一个列向量，同时我们可以把操作$\\mathbf{A}$ 的从一个列向量扩充到任意多个列向量，其结果就是多个线性组合结果，彼此之间也不会互相干涉。\n",
    "\n",
    "这个运算是 $QR$ 分解的基础。"
   ]
  },
  {
   "cell_type": "code",
   "execution_count": null,
   "id": "84347cb2-00d1-442e-989d-385a6aac69ed",
   "metadata": {},
   "outputs": [],
   "source": []
  }
 ],
 "metadata": {
  "kernelspec": {
   "display_name": "Python 3 (ipykernel)",
   "language": "python",
   "name": "python3"
  },
  "language_info": {
   "codemirror_mode": {
    "name": "ipython",
    "version": 3
   },
   "file_extension": ".py",
   "mimetype": "text/x-python",
   "name": "python",
   "nbconvert_exporter": "python",
   "pygments_lexer": "ipython3",
   "version": "3.12.1"
  }
 },
 "nbformat": 4,
 "nbformat_minor": 5
}
