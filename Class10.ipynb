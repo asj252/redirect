{
 "cells": [
  {
   "cell_type": "markdown",
   "id": "87fd90c0-9da0-4340-8ca5-4d515d2a8da5",
   "metadata": {},
   "source": [
    "# Linear Algebra Crash Course (with Python) Class 10\n"
   ]
  },
  {
   "cell_type": "markdown",
   "id": "30735ff9-ee24-4e67-b953-a02128a1e883",
   "metadata": {
    "tags": []
   },
   "source": [
    "## Chap 9 Conti\n",
    "\n",
    "## 用随机矩阵测试SVD"
   ]
  },
  {
   "cell_type": "code",
   "execution_count": 2,
   "id": "8eece242-c1fd-4774-a75c-4d2d575ebba1",
   "metadata": {},
   "outputs": [
    {
     "name": "stdout",
     "output_type": "stream",
     "text": [
      "[[0 3 4 2 3 0 0 0 0 1]\n",
      " [2 2 3 0 4 2 2 4 4 0]\n",
      " [2 0 4 2 1 1 1 3 0 4]\n",
      " [4 4 2 4 0 0 0 3 0 1]\n",
      " [4 3 1 1 2 4 4 3 4 0]\n",
      " [0 4 3 4 4 2 3 1 2 4]\n",
      " [0 4 1 4 0 3 3 1 2 4]\n",
      " [4 1 4 0 4 2 2 4 2 4]\n",
      " [4 0 0 2 2 3 0 3 3 1]\n",
      " [0 3 1 3 1 2 1 4 2 3]]\n"
     ]
    }
   ],
   "source": [
    "import numpy as np\n",
    "#prompt: use np to generate a 10x10 matrix with integer entries\n",
    "M = np.random.randint(low=0, high=5, size=(10, 10))\n",
    "print(M)"
   ]
  },
  {
   "cell_type": "code",
   "execution_count": 10,
   "id": "fe9d059f-7d5a-4728-a811-aaa109e30d2a",
   "metadata": {
    "tags": []
   },
   "outputs": [
    {
     "name": "stdout",
     "output_type": "stream",
     "text": [
      "\n",
      "Reduced Matrix:\n",
      "[[ 7.36481185e-01 -9.27392601e-02 -2.21364647e-01 -1.17513266e-03\n",
      "   1.98605112e-02  2.35973496e-01 -1.71052311e-01  1.29747864e-02\n",
      "  -5.99955208e-02 -5.69369223e-01]\n",
      " [ 6.83556196e-01  1.90142496e-01 -3.24771079e-01  4.89224181e-01\n",
      "  -6.15661681e-01 -9.81814089e-02 -3.53412927e-01  1.27346007e-01\n",
      "  -4.32383271e-01  2.51251625e-01]\n",
      " [-7.98737213e-01  4.82095688e-01  1.53450976e+00 -5.76458346e-01\n",
      "  -7.38471599e-01 -2.33929746e-01 -2.85035555e-01  7.75783151e-01\n",
      "  -1.50107163e+00  6.81624460e-01]\n",
      " [-5.35371249e-01  8.55168234e-02  1.93821685e-01 -8.16434588e-02\n",
      "   8.79176752e-02 -2.66098347e-01  1.99384787e-01 -1.12193673e-01\n",
      "   1.12144791e-01  3.86710678e-01]\n",
      " [ 5.71235620e-01  1.84234015e-01  1.04504774e-01 -2.96344998e-02\n",
      "  -2.44286937e-01 -1.62670745e-01 -1.92231991e-01  1.81183450e-02\n",
      "  -4.22060671e-01 -8.44644197e-02]\n",
      " [ 1.04599375e-01 -2.66131257e-01 -2.52146502e-01  1.81834191e-01\n",
      "  -1.11883017e-01  6.19683073e-01 -2.02233697e-01  3.66618367e-01\n",
      "  -5.51334723e-03 -3.41416962e-01]\n",
      " [ 4.28188286e-01 -2.63094417e-01 -6.95888037e-01  4.90471610e-01\n",
      "  -1.18737297e-01  5.01151072e-01 -2.07598224e-01  1.33254558e-01\n",
      "   2.48831919e-01 -2.76238810e-01]\n",
      " [-1.63296063e+00 -3.18832118e-01  2.70597869e-02  2.76948291e-01\n",
      "  -4.19313764e-02  5.50497668e-01  1.32614263e-01  4.96094646e-01\n",
      "   3.54530110e-01  6.52191270e-01]\n",
      " [-1.30087088e+00 -1.86323753e-01 -1.03212906e-01 -1.78827591e-01\n",
      "   8.25438631e-01 -3.11268112e-01  7.80688122e-01 -5.52778082e-01\n",
      "   1.15798750e+00  4.02506510e-01]\n",
      " [ 1.01408850e+00  5.56225288e-02 -2.30715105e-01 -5.52259873e-01\n",
      "   1.06814063e+00 -7.07485545e-01  4.71744859e-01 -1.18703869e+00\n",
      "   8.24800300e-01 -8.57896627e-01]]\n",
      "\n",
      "Singular Values:\n",
      "[21.35650179  6.42751961  6.11006504  5.44074592  3.84992107  3.62042593\n",
      "  3.11471354  2.24214663  0.99476943  0.0678798 ]\n",
      "\n",
      "Maximum Absolute Difference: 1.6329606264294043\n",
      "\n",
      "Frobenius Norm of difference: 5.369387279844832\n",
      "\n",
      "Frobenius Norm of original matrix: 24.657656011875904\n"
     ]
    }
   ],
   "source": [
    "#prompt:use svd and einsum to gain the reduced matrix\n",
    "# Perform Singular Value Decomposition (SVD)\n",
    "U, sigma, VT = np.linalg.svd(M)\n",
    "\n",
    "# Set the desired rank(秩) for the reduced matrix\n",
    "rank = 5\n",
    "# Reconstruct the reduced matrix using the selected rank\n",
    "reducedM = np.einsum('ij,j,jk->ik', U[:, :rank], sigma[:rank], VT[:rank, :])\n",
    "print(\"\\nReduced Matrix:\")\n",
    "print(M-reducedM)\n",
    "\n",
    "\n",
    "print(\"\\nSingular Values:\")\n",
    "print(sigma)\n",
    "# prompt:use np to compute the maximum for the absolute value of a matrix\n",
    "# Compute maximum absolute value of the matrix\n",
    "max_abs_value = np.max(np.abs(M-reducedM))\n",
    "print(\"\\nMaximum Absolute Difference:\", max_abs_value)\n",
    "\n",
    "# Compute the Frobenius norm of the matrix\n",
    "frobenius_norm = np.linalg.norm(M-reducedM, ord='fro')\n",
    "print(\"\\nFrobenius Norm of difference:\", frobenius_norm)\n",
    "print(\"\\nFrobenius Norm of original matrix:\", np.linalg.norm(M, ord='fro'))"
   ]
  },
  {
   "cell_type": "code",
   "execution_count": 11,
   "id": "7b4a4e03-4b50-4dfa-8330-6c1e51aaa4d4",
   "metadata": {
    "tags": []
   },
   "outputs": [
    {
     "name": "stdout",
     "output_type": "stream",
     "text": [
      "\n",
      "Singular Values:\n",
      "[2.13565018e+01 6.42751961e+00 6.11006504e+00 5.44074592e+00\n",
      " 3.84992107e+00 1.09987108e-15 6.52517038e-16 4.90310687e-16\n",
      " 2.72593069e-16 5.36294567e-17]\n"
     ]
    }
   ],
   "source": [
    "U2, sigma2, VT2 = np.linalg.svd(reducedM)\n",
    "print(\"\\nSingular Values:\")\n",
    "print(sigma2)"
   ]
  },
  {
   "cell_type": "code",
   "execution_count": 16,
   "id": "c99757a6-4e47-4bb3-898d-bcd2586f4acb",
   "metadata": {
    "tags": []
   },
   "outputs": [
    {
     "name": "stdout",
     "output_type": "stream",
     "text": [
      "[[ 0.    -0.     0.     0.    -0.293  0.564 -0.456  0.026  0.543 -0.316]\n",
      " [ 0.     0.    -0.     0.    -0.756 -0.716 -0.455 -0.008 -0.401 -0.243]\n",
      " [ 0.    -0.    -0.    -0.     0.246 -0.689 -0.355 -0.235  0.229  0.417]\n",
      " [ 0.    -0.     0.     0.     0.059 -0.352  0.285  0.111 -0.423  0.205]\n",
      " [ 0.     0.     0.    -0.     0.933 -0.135 -0.512  0.085 -0.033 -0.146]\n",
      " [ 0.     0.    -0.    -0.    -0.618  0.514 -0.048 -0.246  0.815 -0.211]\n",
      " [ 0.    -0.    -0.    -0.     1.377  0.209  0.096 -0.295  0.264 -0.207]\n",
      " [ 0.     0.     0.     0.    -0.223 -0.306  1.305 -0.667  0.021  0.559]\n",
      " [ 0.     0.    -0.     0.     0.235  0.095  0.758  0.666 -0.391  0.103]\n",
      " [ 0.     0.    -0.     0.    -0.154  0.789 -0.138  0.501 -0.604  0.003]]\n",
      "[[-0.755  1.037  0.658 -0.866 -0.    -0.26  -0.025 -0.192  0.139 -0.204]\n",
      " [-0.809 -0.376 -0.178 -0.342 -0.     0.611 -0.186 -0.279 -1.006  0.217]\n",
      " [-0.588 -0.578  0.074 -0.413 -0.    -0.69   0.166  1.21   0.213 -0.434]\n",
      " [-0.507  0.278  1.439  1.034  0.     0.2    0.128  0.147 -0.058 -0.034]\n",
      " [-0.668  0.905 -0.955  0.75   0.     0.096  0.02   0.159 -0.207 -0.021]\n",
      " [-0.644 -0.717 -0.242  1.012  0.    -0.509 -0.154 -0.421  0.102 -0.319]\n",
      " [-0.402 -0.764  0.467 -0.379 -0.     0.075 -0.37  -0.595 -0.255  0.428]\n",
      " [-0.619  0.477 -0.405 -0.209 -0.    -0.261 -0.369 -0.117  0.183  0.571]\n",
      " [-0.528 -0.214 -0.275 -0.341 -0.     0.191  0.625 -0.5    0.078 -1.247]\n",
      " [-0.698 -0.428 -0.177 -0.061 -0.     0.43   0.2    0.465  0.907  0.865]]\n"
     ]
    }
   ],
   "source": [
    "# Set the print options to display three decimal places\n",
    "np.set_printoptions(precision=3, suppress=True)\n",
    "print(U-U2)\n",
    "print(U+U2)\n",
    "#这里可以看到 SVD 的唯一性，以及特征值相同，取正交基底的随意性。"
   ]
  },
  {
   "cell_type": "code",
   "execution_count": 12,
   "id": "c69ddc73-ce5c-4728-a802-6bb108aca05e",
   "metadata": {
    "tags": []
   },
   "outputs": [],
   "source": [
    "R = np.random.rand(50, 50) -0.5"
   ]
  },
  {
   "cell_type": "code",
   "execution_count": 13,
   "id": "30f152f6-7bf6-4f42-b0c7-7a3981ddfa46",
   "metadata": {
    "tags": []
   },
   "outputs": [],
   "source": [
    "import matplotlib.pyplot as plt\n",
    "U, sigma, VT = np.linalg.svd(R)"
   ]
  },
  {
   "cell_type": "code",
   "execution_count": 15,
   "id": "41078f8f-9ab6-498b-b0d9-df524f6a877f",
   "metadata": {
    "tags": []
   },
   "outputs": [
    {
     "data": {
      "image/png": "[encoded data removed]",
      "text/plain": [
       "<Figure size 640x480 with 1 Axes>"
      ]
     },
     "metadata": {},
     "output_type": "display_data"
    }
   ],
   "source": [
    "plt.plot(sigma[:])\n",
    "plt.show()"
   ]
  },
  {
   "cell_type": "markdown",
   "id": "982c48d0-0f84-4907-af86-eff7bb8fb635",
   "metadata": {},
   "source": [
    "### SVD应用于图片压缩"
   ]
  },
  {
   "cell_type": "code",
   "execution_count": 16,
   "id": "4aa14144-4fb4-49d2-8ddc-aa144c1eb144",
   "metadata": {
    "tags": []
   },
   "outputs": [],
   "source": [
    "from PIL import Image\n",
    "import math"
   ]
  },
  {
   "cell_type": "code",
   "execution_count": 17,
   "id": "6d444d14-add7-4e8a-b4fd-836e3fa471f7",
   "metadata": {
    "tags": []
   },
   "outputs": [],
   "source": [
    "def imgCompress(channel,percent):\n",
    "    U, sigma, VT = np.linalg.svd(channel)\n",
    "    m = U.shape[0]\n",
    "    n = VT.shape[0]\n",
    "    reChannel = np.zeros((m,n))\n",
    "# 逐渐添加奇异值\n",
    "    for k in range(len(sigma)):\n",
    "        reChannel = reChannel + sigma[k]* np.dot(U[:,k].reshape(m,1),VT[k,:].reshape(1,n))\n",
    "        if float(k)/len(sigma) > percent:\n",
    "            # normalized rechannel and exit\n",
    "            reChannel[reChannel < 0] = 0\n",
    "            reChannel[reChannel > 255] = 255\n",
    "            break\n",
    "\n",
    "    return np.rint(reChannel).astype(\"uint8\")"
   ]
  },
  {
   "cell_type": "code",
   "execution_count": 18,
   "id": "01731131-d9e3-4c30-82b5-476d33ad4529",
   "metadata": {
    "tags": []
   },
   "outputs": [],
   "source": [
    "# 使用 einsum 得到更简洁可读的程式\n",
    "def imgCompress2(channel,percent):\n",
    "    U, sigma, VT = np.linalg.svd(channel)\n",
    "    rank = math.ceil(len(sigma)*percent)\n",
    "    \n",
    "    reChannel = np.einsum('ij,j,jk->ik', U[:, :rank], sigma[:rank], VT[:rank, :])\n",
    "    reChannel[reChannel < 0] = 0\n",
    "    reChannel[reChannel > 255] = 255\n",
    "\n",
    "    return np.rint(reChannel).astype(\"uint8\")"
   ]
  },
  {
   "cell_type": "code",
   "execution_count": 19,
   "id": "66af119e-2277-4cc1-be9b-70f9e703c679",
   "metadata": {
    "tags": []
   },
   "outputs": [],
   "source": [
    "oriImage = Image.open(r'./images/bird.png', 'r')\n",
    "## first r stands for raw string\n",
    "imgArray = np.array(oriImage)\n",
    "\n",
    "R = imgArray[:, :, 0]\n",
    "G = imgArray[:, :, 1]\n",
    "B = imgArray[:, :, 2]\n",
    "A = imgArray[:, :, 3]"
   ]
  },
  {
   "cell_type": "code",
   "execution_count": 20,
   "id": "51a02a1b-525c-4cfe-acce-c8e2c253cc0f",
   "metadata": {
    "tags": []
   },
   "outputs": [
    {
     "name": "stdout",
     "output_type": "stream",
     "text": [
      "(1024, 960, 4)\n"
     ]
    }
   ],
   "source": [
    "print(imgArray.shape)"
   ]
  },
  {
   "cell_type": "code",
   "execution_count": 21,
   "id": "a7b04a37-437b-40c2-a469-30aceb525e90",
   "metadata": {
    "tags": []
   },
   "outputs": [],
   "source": [
    "# 取前p比例的奇异值,并储存其还原出来的矩阵\n",
    "for p in [0.001,0.005,0.01,0.02,0.03,0.04,0.05,0.1,0.2,0.3,0.4,0.5,0.6,0.7,0.8,0.9]:\n",
    "#for p in [0.001,0.005,0.01]:\n",
    "    reR = imgCompress(R, p)\n",
    "    reG = imgCompress(G, p)\n",
    "    reB = imgCompress(B, p)\n",
    "    reA = imgCompress(A, p)\n",
    "    reI = np.stack((reR, reG, reB, reA), 2)\n",
    "\n",
    "    Image.fromarray(reI).save(\"./images/bird\"+\"{}\".format(p)+\"img.png\")"
   ]
  },
  {
   "cell_type": "code",
   "execution_count": 45,
   "id": "27217339-9cf4-40a1-aba9-f2fd7fc6c5d5",
   "metadata": {
    "tags": []
   },
   "outputs": [
    {
     "data": {
      "image/png": "[encoded data removed]",
      "text/plain": [
       "<Figure size 640x480 with 1 Axes>"
      ]
     },
     "metadata": {},
     "output_type": "display_data"
    }
   ],
   "source": [
    "import matplotlib.pyplot as plt\n",
    "U, sigma, VT = np.linalg.svd(R)\n",
    "plt.plot(sigma)\n",
    "plt.show()"
   ]
  },
  {
   "cell_type": "code",
   "execution_count": null,
   "id": "9cb2badb-5266-4179-9c08-5cd773f1d898",
   "metadata": {},
   "outputs": [],
   "source": []
  }
 ],
 "metadata": {
  "kernelspec": {
   "display_name": "Python 3 (ipykernel)",
   "language": "python",
   "name": "python3"
  },
  "language_info": {
   "codemirror_mode": {
    "name": "ipython",
    "version": 3
   },
   "file_extension": ".py",
   "mimetype": "text/x-python",
   "name": "python",
   "nbconvert_exporter": "python",
   "pygments_lexer": "ipython3",
   "version": "3.12.1"
  }
 },
 "nbformat": 4,
 "nbformat_minor": 5
}
