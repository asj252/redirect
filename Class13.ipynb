{
 "cells": [
  {
   "cell_type": "markdown",
   "id": "87fd90c0-9da0-4340-8ca5-4d515d2a8da5",
   "metadata": {},
   "source": [
    "# Linear Algebra Crash Course (with Python) Class 13\n"
   ]
  },
  {
   "attachments": {},
   "cell_type": "markdown",
   "id": "30735ff9-ee24-4e67-b953-a02128a1e883",
   "metadata": {
    "tags": []
   },
   "source": [
    "## Chap 12 量子讯息论\n",
    "\n",
    "量子讯息论其实是量子力学的一个简化,一般来说电子受激活之后，运行轨道会跃升，之后有几率衰变，因此在 $n$ 状态上有概率分布。简化之后剩下两个状态：基态\n",
    "$$|0 \\rangle = \\begin{bmatrix} 1 \\\\ 0 \\end{bmatrix}$$\n",
    "以及激活态\n",
    "$$|1 \\rangle = \\begin{bmatrix} 0 \\\\ 1 \\end{bmatrix}$$\n",
    "因此我们可以用复线性代数来表示电子的状态 $$\\mathbf{v}=a|0 \\rangle+b|1 \\rangle$$\n",
    "$a,b\\in \\mathbb{C}$ 同时我们定义每个状态能被侦测到的几率为$|a|^2$ or $|b|^2$,因此   $|a|^2 +|b|^2 =1$ 或者写作 $|\\mathbf{v}|=1$ 也就是在复平面的单位圆上。\n",
    "\n",
    "量子计算相当于用一个复正交矩阵(酉矩阵) $\\mathbf{H}$，作用于 $\\mathbf{v}$，显然 $|\\mathbf{Hv}|=1$\n",
    "\n",
    "如果我们有两个想象中的电子，我们可以将其状态写作 \n",
    "\n",
    "$$\\mathbf{v}=a|0 \\rangle|0 \\rangle+b|0 \\rangle|1 \\rangle + c|1 \\rangle|0 \\rangle+d|1 \\rangle|1 \\rangle$$\n",
    "\n",
    "当然我们依旧有 $|a|^2+|b|^2+|c|^2+|d|^2 =1$\n",
    "\n"
   ]
  },
  {
   "cell_type": "markdown",
   "id": "8073f0d3-bed3-411b-a180-575f132b3c9d",
   "metadata": {},
   "source": [
    "从另外一个角度来看，如果这两个电子的概率可以写成 $(a|0 \\rangle+b|1 \\rangle)\\otimes (a'|0 \\rangle+b'|1 \\rangle)=  aa'|0 \\rangle|0 \\rangle+ab'|0 \\rangle | 1 \\rangle + a'b|1 \\rangle | 0 \\rangle + a'b|1 \\rangle | 0 \\rangle$\n",
    "\n",
    "显然 $|aa'|^2+ |ab'|^2 + |bb'|^2 + |bb'|^2 = (|a|^2 + |b|^2)(|a'|^2 + |b'|^2) =1$\n"
   ]
  },
  {
   "cell_type": "markdown",
   "id": "5fa7192a-383c-4f74-9682-ff6473827aca",
   "metadata": {},
   "source": [
    "## 条件概率\n",
    "\n",
    "如果我们测得第一种电子的状态为 $|0 \\rangle$, 这相当于我们排除了 $|1 \\rangle|0 \\rangle$,$|1 \\rangle|1 \\rangle$ 两种状态。\n",
    "剩下的概率以及状态可以写成\n",
    "$$aa'|0 \\rangle|0 \\rangle+ab'|0 \\rangle | 1 \\rangle$$\n",
    "\n",
    "显然这概率必须做归一化处理，意味着剩下的概率以及状态可以写成\n",
    "$$\\frac{a}{|a|}a'|0 \\rangle|0 \\rangle+\\frac{a}{|a|}b'|0 \\rangle | 1 \\rangle$$\n",
    "\n",
    "显然测量或为未测量第一个电子不会影响第二个电子的概率分布。"
   ]
  },
  {
   "cell_type": "markdown",
   "id": "7aaacde9-3b6f-422e-b8e2-5a78f4314c1b",
   "metadata": {},
   "source": [
    "## 量子纠缠\n",
    "\n",
    "我们现在考虑一个双电子的概率分布为\n",
    "\n",
    "$$\\mathbf{v}=\\frac{i}{\\sqrt{2}}|0 \\rangle|0 \\rangle+ \\frac{1}{\\sqrt{2}} |1 \\rangle|1 \\rangle$$\n",
    "\n",
    "这种状态我们称之为量子纠缠，意味着当我们测量第一个量子得到 $0 \\rangle$ 时，第二个量子必然为 $0 \\rangle$。反之，当我们测量第一个量子得到 $1 \\rangle$ 时，第二个量子必然为 $1 \\rangle$。\n",
    "\n",
    "我们现在考虑一个更加\"自然\"的例子，我们考虑第一个电子有 $m$ 个状态，第二个电子有 $n$ 个状态"
   ]
  }
 ],
 "metadata": {
  "kernelspec": {
   "display_name": "Python 3 (ipykernel)",
   "language": "python",
   "name": "python3"
  },
  "language_info": {
   "codemirror_mode": {
    "name": "ipython",
    "version": 3
   },
   "file_extension": ".py",
   "mimetype": "text/x-python",
   "name": "python",
   "nbconvert_exporter": "python",
   "pygments_lexer": "ipython3",
   "version": "3.12.1"
  }
 },
 "nbformat": 4,
 "nbformat_minor": 5
}
