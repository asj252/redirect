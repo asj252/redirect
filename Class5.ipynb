{
 "cells": [
  {
   "cell_type": "markdown",
   "id": "54db5a2b-7fe5-459b-a16d-31f09786fd43",
   "metadata": {},
   "source": [
    "# Linear Algebra Crash Course (with Python) Class 5\n",
    "\n",
    "## Chap 5: Some row or column operations"
   ]
  },
  {
   "cell_type": "markdown",
   "id": "f3f1479f-1967-42c7-8cfd-4954ff9bc56a",
   "metadata": {},
   "source": [
    "### QR 分解\n",
    "\n",
    "考虑 $\\mathbf{V}=[\\mathbf{v}_1, \\mathbf{v}_2,\\dots,\\mathbf{v}_n]$, $\\mathbf{v}_i$ 在某个有内积的线性空间。我们希望产生 $\\mathbf{Q}=[\\mathbf{q}_1,\\mathbf{q}_2,\\dots,\\mathbf{q}_n]$, 其中 $\\mathbf{q}_1 \\perp \\mathbf{q}_2 \\dots \\perp\\mathbf{q}_n$ 与 $|\\mathbf{q}_i|=1$,即 $\\mathbf{q}_i$ 为单位向量，彼此互相垂直。并且有一个上三角矩阵 $\\mathbf{R}=[\\mathbf{r}_1, \\mathbf{r}_2,\\dots,\\mathbf{r}_n]$ 使得 $\\mathbf{Q}\\mathbf{R}=\\mathbf{V}$."
   ]
  },
  {
   "cell_type": "markdown",
   "id": "d5a94106-2194-41c4-a0f9-22053a902c54",
   "metadata": {},
   "source": [
    "我们使用数学归纳法来解决这个问题。 首先当 $n=1$, 我们可以令 $\\mathbf{q}_1 = \\mathbf{v}_1 /|\\mathbf{v}_1| $. (注意有内积则有长度)。\n",
    "当 $n=i$ 成立，我们现在多加上  $\\mathbf{v}_{i+1}$, 希望获得 $\\mathbf{q}_{i+1}$。首先我们考虑 $\\mathbf{v}_{i+1}$ 与 $\\{\\mathbf{q}_1, \\mathbf{q}_2,\\dots,\\mathbf{q}_i\\}$ 不垂直的地方，并且加以去除，得到 $\\mathbf{v}^*_{i+1}$ 与$\\{\\mathbf{q}_1, \\mathbf{q}_2,\\dots,\\mathbf{q}_i\\}$ 皆垂直, 若 $\\mathbf{v}^*_{i+1}=0$ 则显然 $\\mathbf{v}_{i+1}$ 是 $\\{\\mathbf{q}_1, \\mathbf{q}_2,\\dots,\\mathbf{q}_i\\}$ 的一线性组合。若 $\\mathbf{v}^*_{i+1}\\neq 0$ 则令 $\\mathbf{q}_{i+1} = \\mathbf{v}^*_{i+1} /|\\mathbf{v}^*_{i+1}| $。"
   ]
  },
  {
   "cell_type": "markdown",
   "id": "64153af0-81b4-4bce-a520-ff0bab411eb2",
   "metadata": {},
   "source": [
    "注：如果 $\\mathbf{v}_1, \\mathbf{v}_2,\\dots,\\mathbf{v}_n$ 彼此不互相独立，我们得到的 $\\#\\{\\mathbf{q}_i\\}$ 数目会小于 $n$,但我们可以随机从空间找出向量，继续补完$\\mathbf{Q}$ 矩阵。 "
   ]
  },
  {
   "cell_type": "markdown",
   "id": "9fe7d218-1e89-463c-8243-1c11383f38b5",
   "metadata": {
    "tags": []
   },
   "source": [
    "### 高斯消去法与LU分解\n",
    "考虑以下一次线性方程组\n",
    "$$\\left\\{\n",
    "\\begin{align*}\n",
    "x & + 2y& &= a\\quad (1)\\\\\n",
    "2x & + y&+2z&= b\\quad  (2)\\\\\n",
    "&  + 2y&+z&= c\\quad  (3)\\end{align*}\n",
    "\\right.$$\n",
    "\n",
    "显然我们可以把它改写成 \n",
    "$$\\mathbf{M}= \\begin{bmatrix} 1&2&0\\\\ 2&1&2\\\\0&2&1  \\end{bmatrix},\\mathbf{x}= \\begin{bmatrix} x\\\\ y\\\\z  \\end{bmatrix}, \\mathbf{b}= \\begin{bmatrix} a\\\\ b\\\\c  \\end{bmatrix}$$\n",
    "$$\\mathbf{Mx}=\\mathbf{b}$$"
   ]
  },
  {
   "cell_type": "markdown",
   "id": "b27a0eb0-d9d3-4f20-9385-33e86c1aecae",
   "metadata": {},
   "source": [
    "一般来说中学解这个方程式的时候会说将$(2)$减去2倍的(1)，把第一列的其他元素化成0。\n",
    "我们可以将这个运算写成矩阵 $\\mathbf{A}$。(注意到$A$ 是一个下三角矩阵。)\n",
    "$$\\mathbf{A}_1= \\begin{bmatrix} 1&0&0\\\\ -2&1&0\\\\0&0&1  \\end{bmatrix}$$\n",
    "显然\n",
    "$$\\mathbf{A}_1\\mathbf{Mx}=\\mathbf{A}_1\\mathbf{b}$$\n",
    "\n",
    "我们创造一个新矩阵 $[\\mathbf{M}\\;\\mathbf{b}]$, 并且计算 $\\mathbf{A}_1[\\mathbf{M}\\;\\mathbf{b}]$\n",
    "\n",
    " $$\\mathbf{A}_1[\\mathbf{M}\\;\\mathbf{b}]=\\begin{bmatrix} 1&2&0& a\\\\0&-3&2& b-2a\\\\0&2&1&c  \\end{bmatrix}$$\n",
    " "
   ]
  },
  {
   "cell_type": "markdown",
   "id": "ad8742a6-d6ef-40bc-85a1-be6fd3afc503",
   "metadata": {},
   "source": [
    " 这时候我们有两个选择，可以将第二行减去第一行以及第三行，将第二列的其他元素化成0。下次将第三列的其他元素化成0...*如果我们足够幸运*，可以一直进行下去，我们把这些矩阵合在一起成为 $\\mathbf{A}=\\mathbf{A}_k \\dots \\mathbf{A}_1$,则有 $\\mathbf{AM}=\\mathbf{D}$,\n",
    "  $\\mathbf{AMx}=\\mathbf{Dx}=\\mathbf{Ab}$, 显然我们可以简单地解出这矩阵。 "
   ]
  },
  {
   "cell_type": "markdown",
   "id": "066322af-d2e3-423a-8359-b0468956c2bb",
   "metadata": {},
   "source": [
    "第二个选择则是不管上面的行数，只用第二行减去第三行及以下，用第三行减去第四行及以下...*如果我们足够幸运*，可以一直进行下去，我们把这些矩阵合在一起成为\n",
    " $\\mathbf{L}=\\mathbf{A}_k \\dots \\mathbf{A}_1$,$\\mathbf{L}$ 是一个下三角矩阵，而 $\\mathbf{LM}=\\mathbf{U}$ 是一个上三角矩阵，则 $\\mathbf{LMx}=\\mathbf{Ux}=\\mathbf{Lb}$, 也是相对比较好解的方程组。\n",
    "\n",
    " "
   ]
  },
  {
   "cell_type": "markdown",
   "id": "8c806661-2e7c-4ae1-bcf8-5c467dd11038",
   "metadata": {},
   "source": [
    "** 为什么上(下)三角矩阵构成的方程组容易取得答案。**"
   ]
  }
 ],
 "metadata": {
  "kernelspec": {
   "display_name": "Python 3 (ipykernel)",
   "language": "python",
   "name": "python3"
  },
  "language_info": {
   "codemirror_mode": {
    "name": "ipython",
    "version": 3
   },
   "file_extension": ".py",
   "mimetype": "text/x-python",
   "name": "python",
   "nbconvert_exporter": "python",
   "pygments_lexer": "ipython3",
   "version": "3.12.1"
  }
 },
 "nbformat": 4,
 "nbformat_minor": 5
}
