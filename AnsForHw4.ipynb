{
 "cells": [
  {
   "cell_type": "markdown",
   "id": "47a66d3b-f417-4aa4-9f6a-68d356ca343c",
   "metadata": {},
   "source": [
    "手写拍照，上传照片在附件。非手写者0分。\n",
    "\n",
    "***exercise : Show that the vectors $\\begin{bmatrix}1 \\\\ i \\end{bmatrix}$ and $\\begin{bmatrix}1 \\\\ 1 \\end{bmatrix}$ are capable of spanning $\\mathbb{C}^2$ as a complex linear space.***\n",
    "\n",
    "练习：证明向量 $\\begin{bmatrix}1 \\\\i \\end{bmatrix}$ 和 $\\begin{bmatrix}1 \\\\1 \\end{bmatrix}$ 能够作为复数线性空间 $\\mathbb{C}^2$ 的一组基。\n"
   ]
  },
  {
   "cell_type": "markdown",
   "id": "32dd7c7d-540b-4573-b18f-569883786ebb",
   "metadata": {},
   "source": [
    "To solve this problem, we need to show that any vector in $\\mathbb{C}^2$ can be expressed as a linear combination of the vectors $\\begin{bmatrix}1 \\\\i \\end{bmatrix}$ and $\\begin{bmatrix}1 \\\\1 \\end{bmatrix}$.\n",
    "\n",
    "Let $\\begin{bmatrix}a \\\\b \\end{bmatrix}$ be an arbitrary vector in $\\mathbb{C}^2$, where $a$ and $b$ are complex numbers. We want to find complex numbers $x$ and $y$ such that $\\begin{bmatrix}a \\\\b \\end{bmatrix} = x\\begin{bmatrix}1 \\\\i \\end{bmatrix} + y\\begin{bmatrix}1 \\\\1 \\end{bmatrix}$.\n",
    "\n",
    "Setting up the equation, we have:\n",
    "$a = x + y$\n",
    "$b = ix + y$\n",
    "\n",
    "We can solve this system of equations to find the values of $x$ and $y$. Subtracting the second equation from the first equation, we get:\n",
    "$a - b = (1 - i)x$\n",
    "\n",
    "Simplifying, we have:\n",
    "$x = \\frac{a - b}{1 - i}$\n",
    "\n",
    "Substituting this value of $x$ into either of the original equations, we can solve for $y$:\n",
    "$y = a - x = a - \\frac{a - b}{1 - i} = \\frac{b - ia}{1 - i}$\n",
    "\n",
    "Therefore, we have found that for any vector $\\begin{bmatrix}a \\\\b \\end{bmatrix}$ in $\\mathbb{C}^2$, we can express it as a linear combination of $\\begin{bmatrix}1 \\\\i \\end{bmatrix}$ and $\\begin{bmatrix}1 \\\\1 \\end{bmatrix}$ by choosing appropriate values of $x$ and $y$. This shows that the vectors $\\begin{bmatrix}1 \\\\i \\end{bmatrix}$ and $\\begin{bmatrix}1 \\\\1 \\end{bmatrix}$ span $\\mathbb{C}^2$ as a complex linear space."
   ]
  },
  {
   "cell_type": "code",
   "execution_count": null,
   "id": "21e313fa-f119-46a1-8fe2-882e00d18036",
   "metadata": {},
   "outputs": [],
   "source": []
  }
 ],
 "metadata": {
  "kernelspec": {
   "display_name": "Python 3 (ipykernel)",
   "language": "python",
   "name": "python3"
  },
  "language_info": {
   "codemirror_mode": {
    "name": "ipython",
    "version": 3
   },
   "file_extension": ".py",
   "mimetype": "text/x-python",
   "name": "python",
   "nbconvert_exporter": "python",
   "pygments_lexer": "ipython3",
   "version": "3.12.1"
  }
 },
 "nbformat": 4,
 "nbformat_minor": 5
}
