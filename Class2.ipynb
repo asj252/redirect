{
 "cells": [
  {
   "cell_type": "markdown",
   "id": "01a61aad-6120-4d40-ab32-71825634d830",
   "metadata": {
    "tags": []
   },
   "source": [
    "# Linear algebra Crash Course (with Python) Class 2 \n",
    "\n",
    "# Chap 2: 3d linear transformation\n",
    "\n",
    "## Interactive figure\n",
    "How is the interactive figure possible? It's because of the 3d linear transformation."
   ]
  },
  {
   "cell_type": "code",
   "execution_count": 1,
   "id": "d51cd368-5233-4cf2-a6ac-44dd73c6676f",
   "metadata": {
    "tags": []
   },
   "outputs": [
    {
     "name": "stdout",
     "output_type": "stream",
     "text": [
      "Using matplotlib backend: <object object at 0x000001EB9B8A7550>\n"
     ]
    }
   ],
   "source": [
    "matplotlib"
   ]
  },
  {
   "cell_type": "code",
   "execution_count": 2,
   "id": "05270f99-caf3-4c56-96c6-be7a2d844c2c",
   "metadata": {
    "tags": []
   },
   "outputs": [],
   "source": [
    "matplotlib qt"
   ]
  },
  {
   "cell_type": "code",
   "execution_count": 3,
   "id": "b33993a3-9840-4167-bd43-9798e2274cc3",
   "metadata": {
    "tags": []
   },
   "outputs": [
    {
     "name": "stdout",
     "output_type": "stream",
     "text": [
      "Using matplotlib backend: QtAgg\n"
     ]
    }
   ],
   "source": [
    "matplotlib"
   ]
  },
  {
   "cell_type": "code",
   "execution_count": 4,
   "id": "e3dc9d6f-e7df-4f38-8f17-4aa8e5bbaf5c",
   "metadata": {
    "tags": []
   },
   "outputs": [],
   "source": [
    "import matplotlib.pyplot as plt"
   ]
  },
  {
   "cell_type": "code",
   "execution_count": 6,
   "id": "2c46d553-c4f2-4dcf-8680-84e8a1b156ac",
   "metadata": {
    "tags": []
   },
   "outputs": [],
   "source": [
    "# Define the coordinates for the dinosaur shape\n",
    "x = [6,3,1,-1,-2,-3,-4,-5,-5,-2,-5,-4,-2,-1,0,-1,1,2,1,3,5,6]\n",
    "y = [4,1,2,5,5,4,4,3,2,2,1,0,1,0,-3,-4,-4,-3,-2,-1,1,4]\n",
    "# Create a figure and axis\n",
    "ax = plt.figure().add_subplot(projection='3d')\n",
    "\n",
    "# Plot the dinosaur shape\n",
    "ax.plot(x, y,zs=1, zdir='z', label='curve in (x, y)')  # Use 'green' for the line color\n",
    "# Set the limits of the plot\n",
    "ax.set_xlim(min(x) - 1, max(x) + 1)  # Adjust the x-axis limits\n",
    "ax.set_ylim(min(y) - 1, max(y) + 1)  # Adjust the y-axis limits\n",
    "ax.set_zlim( - 2, 2)\n",
    "plt.gca().set_aspect('equal') #get current axes and set the aspect ratio\n",
    "\n",
    "# Display the plot\n",
    "plt.show()"
   ]
  },
  {
   "cell_type": "code",
   "execution_count": 7,
   "id": "8cb17220-52ea-45b2-8f67-5e6a01f6d34f",
   "metadata": {
    "tags": []
   },
   "outputs": [],
   "source": [
    "import numpy as np\n",
    "\n",
    "ax = plt.figure().add_subplot(projection='3d')\n",
    "\n",
    "# Make the grid\n",
    "x = np.zeros(3)\n",
    "y = np.zeros(3)\n",
    "z = np.zeros(3)\n",
    "\n",
    "\n",
    "# Make the direction data for the arrows\n",
    "u = [1,0,0]\n",
    "v = [0,1,0]\n",
    "w = [0,0,1]\n",
    "\n",
    "ax.quiver(x, y, z, u, v, w, length=1, normalize=False)\n",
    "ax.set_xlim(-1, 1)\n",
    "ax.set_ylim(-1, 1)\n",
    "ax.set_zlim(-1, 1)\n",
    "\n",
    "plt.show()"
   ]
  },
  {
   "cell_type": "code",
   "execution_count": 11,
   "id": "d55a89af-2b73-4ede-831c-d5bf55457daf",
   "metadata": {
    "tags": []
   },
   "outputs": [
    {
     "name": "stdout",
     "output_type": "stream",
     "text": [
      "(10, 10)\n"
     ]
    }
   ],
   "source": [
    "fig = plt.figure()\n",
    "ax = fig.add_subplot(projection='3d')\n",
    "\n",
    "# Make data\n",
    "rows,cols =(10,10)\n",
    "\n",
    "x1 =np.tile( np.linspace(-2, 2 , cols),(rows,1))\n",
    "print(x1.shape)\n",
    "y1 = x1.T\n",
    "z1 = 2*x1 + y1\n",
    "\n",
    "# Plot the surface\n",
    "\n",
    "ax.plot_surface(x1, y1, z1)\n",
    "\n",
    "#ax.quiver(x, y, z, u, v, w, length=1, normalize=False)\n",
    "\n",
    "# Set an equal aspect ratio\n",
    "ax.set_aspect('equal')\n",
    "\n",
    "plt.show()"
   ]
  },
  {
   "cell_type": "markdown",
   "id": "6e86af4f-72c7-4086-ad23-4bc940df1a91",
   "metadata": {},
   "source": [
    "Plane is a bit boring, let's try to put the dinasour on the plane."
   ]
  },
  {
   "cell_type": "code",
   "execution_count": 12,
   "id": "2bb95dfa-ce6b-4b3a-934f-44b8a26d0a9c",
   "metadata": {
    "tags": []
   },
   "outputs": [],
   "source": [
    "# Define the coordinates for the dinosaur shape\n",
    "x =np.array([6,3,1,-1,-2,-3,-4,-5,-5,-2,-5,-4,-2,-1,0,-1,1,2,1,3,5,6])\n",
    "y = np.array([4,1,2,5,5,4,4,3,2,2,1,0,1,0,-3,-4,-4,-3,-2,-1,1,4])\n",
    "#!!!!!!!!!!!\n",
    "z = 2*x+y\n",
    "#!!!!!!!!!!!\n",
    "\n",
    "# Create a figure and axis\n",
    "ax = plt.figure().add_subplot(projection='3d')\n",
    "\n",
    "# Plot the dinosaur shape\n",
    "ax.plot(x, y,z, zdir='z', label='dinosaur in projection')  \n",
    "ax.plot(x, y,zs=0, zdir='z', color='green')  # Use 'green' for the line color\n",
    "\n",
    "# Set the limits of the plot\n",
    "ax.set_xlim(min(x) - 1, max(x) + 1)  # Adjust the x-axis limits\n",
    "ax.set_ylim(min(y) - 1, max(y) + 1)  # Adjust the y-axis limits\n",
    "ax.set_zlim( - 10, 10)\n",
    "plt.gca().set_aspect('equal') #get current axes and set the aspect ratio\n",
    "\n",
    "# Display the plot\n",
    "plt.show()"
   ]
  },
  {
   "cell_type": "markdown",
   "id": "3f77ccbe-8ab8-49eb-aff2-e7e501ea3f36",
   "metadata": {},
   "source": [
    "This looks a bit funny. The prolonged dinasour is just looked like a shadow of the original dinasour. Could you measure the angle between the projected plane and the x-y plane?"
   ]
  },
  {
   "cell_type": "code",
   "execution_count": 13,
   "id": "cb8dffc1-19aa-42d4-ac1b-9f01c83c17a2",
   "metadata": {
    "tags": []
   },
   "outputs": [],
   "source": [
    "import numpy as np\n",
    "import matplotlib.pyplot as plt\n",
    "from mpl_toolkits.mplot3d import Axes3D\n",
    "\n",
    "fig = plt.figure()\n",
    "ax = fig.add_subplot(111, projection='3d')\n",
    "\n",
    "# Define the function for a sphere\n",
    "def sphere(radius, v, h):\n",
    "    phi, theta = np.mgrid[0.0:2.0*np.pi:20j, 0.0:np.pi:10j]\n",
    "    x = radius*np.cos(phi)*np.sin(theta) + v\n",
    "    y = radius*np.sin(phi)*np.sin(theta) + h\n",
    "    z = radius*np.cos(theta)\n",
    "    return x, y, z\n",
    "\n",
    "# Draw the eyes\n",
    "x, y, z = sphere(0.2, 0.5, -0.5)\n",
    "ax.plot_surface(x, y, z, color='b')\n",
    "x, y, z = sphere(0.2, -0.5, -0.5)\n",
    "ax.plot_surface(x, y, z, color='b')\n",
    "\n",
    "# Draw the mouth\n",
    "x = np.linspace(-1, 0, 100) \n",
    "y = 0.5*np.sin(x*np.pi) - 1.2\n",
    "z = np.zeros_like(x)\n",
    "ax.plot(x +0.5, y, z, 'r')\n",
    "ax.set_aspect('equal')\n",
    "plt.show()"
   ]
  },
  {
   "cell_type": "markdown",
   "id": "a1aa6279-6faa-4005-8796-8d0b84f7f2dd",
   "metadata": {},
   "source": [
    "Once again we want to fill the 3-d space with parallelepipedon by the vector $\\mathbf{u}_1$,$\\mathbf{u}_2$,$\\mathbf{u}_3$. It is quite obivious that we could do that as long as $\\mathbf{u}_1$,$\\mathbf{u}_2$,$\\mathbf{u}_3$ are linear independent.\n",
    "\n",
    "\n",
    "Similiar to the 2d case, we could represent a vector in two different coordinate systems and use a matrix to connect them.\n",
    "\n",
    "$$\\begin{bmatrix}\\mathbf{u}_1 & \\mathbf{u}_2 & \\mathbf{u}_3  \\end{bmatrix}\\begin{bmatrix} x \\\\ y \\\\ z \\end{bmatrix}_{\\mathbf{u}_1,\\mathbf{u}_2,\\mathbf{u}_3 }= \\begin{bmatrix} \\alpha \\\\ \\beta \\\\ \\gamma \\end{bmatrix}_{\\mathbf{e}_1,\\mathbf{e}_2,\\mathbf{e}_3 }$$\n",
    "which naturally relate to the equation.\n",
    "\n",
    "$$\\mathbf{M}\\mathbf{x}=\\vec{\\mathbf{\\alpha}}$$\n",
    "\n",
    "where $$\\mathbf{M}= \\begin{bmatrix}\\mathbf{u}_1 & \\mathbf{u}_2 & \\mathbf{u}_3 \\end{bmatrix}$$ \n",
    "\n",
    "On the other hand, you can see $\\mathbf{M}$ a linear map sending $\\mathbf{e}_1$ to $\\mathbf{u}_1$, sending $\\mathbf{e}_2$ to $\\mathbf{u}_2$,  sending $\\mathbf{e}_3$ to $\\mathbf{u}_3$. In this way, we can stay in the same cartesian coordinates. Both views have their pros and cons, and be ready to swtich if necessary.\n"
   ]
  },
  {
   "cell_type": "markdown",
   "id": "e3b0408c-b553-4abd-84b9-399b1077a14f",
   "metadata": {},
   "source": [
    "***exercise: $\\mathbf{v}_1,\\mathbf{v}_2,\\mathbf{v}_3$ are 3-dimensional column vectors. Let $\\mathbf{V}=\\begin{bmatrix}\\mathbf{v}_1 & \\mathbf{v}_2 & \\mathbf{v}_3 \\end{bmatrix}$ and $\\mathbf{D}=\\begin{bmatrix}d_1 & 0 & 0 \\\\0 & d_2 & 0 \\\\0 &0 & d_3 \\end{bmatrix}$. Compute $\\mathbf{V}\\mathbf{D}$ and $\\mathbf{D} \\mathbf{V}^{\\top}$ in terms of $\\mathbf{v}_1,\\mathbf{v}_2,\\mathbf{v}_3$***"
   ]
  },
  {
   "cell_type": "markdown",
   "id": "26be9f6a-27a4-4bd1-98f5-4c6035ab1a37",
   "metadata": {},
   "source": [
    "***练习：我们有三个三维列向量 $\\mathbf{v}_1,\\mathbf{v}_2,\\mathbf{v}_3$,将其并排在一起得到一个3x3的矩阵 $\\mathbf{V}$，另外我们有3x3对角线矩阵 $\\mathbf{D}$ 。计算 $\\mathbf{V}\\mathbf{D}$与 $\\mathbf{D} \\mathbf{V}^{\\top}$,并用 $\\mathbf{v}_1,\\mathbf{v}_2,\\mathbf{v}_3$ 表示其计算结果。***"
   ]
  },
  {
   "cell_type": "markdown",
   "id": "0cea5960-5533-4a22-881c-7195ce0f799e",
   "metadata": {},
   "source": [
    "***exercise: compute the following,***  \n",
    "(1).$\\begin{pmatrix}3&-2&1 \\\\ 1 &-1&2\\end{pmatrix}\\begin{pmatrix}-1&5\\\\-2&4\\\\3&-1 \\end{pmatrix}\n",
    "$\n",
    "(2).$\\begin{pmatrix}3&1&2&-1 \\\\ 0 &3&1&0 \\\\1&0&1&0 \\end{pmatrix}\\begin{pmatrix}0&5\\\\2&0\\\\0&-1\\\\-3&0 \\end{pmatrix}\n",
    "$\n",
    "(3).$\\begin{pmatrix}1 \\\\ 2 \\\\ 3 \\\\ 4\\end{pmatrix}\\begin{pmatrix}4&3&2&1 \\end{pmatrix}\n",
    "$  \n",
    "(4).$\\begin{pmatrix}4&3&2&1 \\end{pmatrix}\\begin{pmatrix}1 \\\\ 2 \\\\ 3 \\\\ 4\\end{pmatrix}\n",
    "$\n",
    "(5).$\\begin{pmatrix}0&-1&0 \\\\ 1 &0&1 \\\\ 0 &1&0 \\end{pmatrix}^4\n",
    "$\n",
    "(6).$\\begin{pmatrix}2&1&0 \\\\ 0 &2&1 \\\\ 0 &0&2 \\end{pmatrix}^4\n",
    "$\n",
    "(7).$\\begin{pmatrix}a&0&0 \\\\ 0&b&0 \\\\ 0 &0&c \\end{pmatrix}^n\n",
    "$\n",
    "(8).$\\begin{pmatrix}1&1 \\\\ 1 &1 \\end{pmatrix}^n\n",
    "$"
   ]
  },
  {
   "cell_type": "markdown",
   "id": "8d0bb951-16c3-407f-934a-1d9b7c8111ee",
   "metadata": {
    "tags": []
   },
   "source": [
    "2d linear transformation is a degenerated case for 3d linear transformation as you could embeded a 2d linear transformation into 3d linear transformation in this way.\n",
    "\n",
    "$$\\mathbf{M}=\\begin{bmatrix}a & b & 0 \\\\c & d & 0 \\\\0 &0 &0 \\end{bmatrix}$$"
   ]
  },
  {
   "cell_type": "markdown",
   "id": "fd5d65ea-5b6c-4589-b7b1-a3dcfacb7219",
   "metadata": {},
   "source": [
    "### Determinant\n",
    "\n",
    "The determinant of a 3 by 3 matrix $\\mathbf{M}=\\begin{bmatrix}\\mathbf{u}_1&\\mathbf{u}_2&\\mathbf{u}_3\\end{bmatrix}=\\begin{bmatrix}a & d & g \\\\b & e & h \\\\c &f &m \\end{bmatrix}$:\n",
    "\n",
    "$$\\mathtt{det}(\\mathbf{M})\\stackrel{\\triangle}= aem+bfg+cdh-afh-bdm-ceg$$\n",
    "\n",
    "$$\\begin{align*}\n",
    "\\mathtt{det}(\\mathbf{M}) &= aem+bfg+cdh-afh-bdm-ceg \\\\\n",
    " &=a(em -fh) +b(fg-dm)+c(dh-eg) \\\\\n",
    " &=a \\cdot\\mathtt{det}(\\begin{bmatrix}e & f\\\\h&m \\end{bmatrix})+b \\cdot \\mathtt{det}(\\begin{bmatrix}f & d\\\\m&g \\end{bmatrix})+c \\cdot \\mathtt{det}(\\begin{bmatrix}d & e\\\\g&h \\end{bmatrix})\\\\\n",
    " &= \\begin{bmatrix}a\\\\b\\\\c \\end{bmatrix}\\cdot(\\begin{bmatrix}d\\\\e\\\\f \\end{bmatrix}\\wedge \\begin{bmatrix}g\\\\h\\\\m \\end{bmatrix} )= \\mathbf{u}_1 \\cdot(\\mathbf{u}_2 \\wedge \\mathbf{u}_3) \n",
    "\\end{align*}\n",
    "$$"
   ]
  },
  {
   "cell_type": "code",
   "execution_count": 1,
   "id": "1042341e-995f-424a-a69d-518aab5fc729",
   "metadata": {
    "tags": []
   },
   "outputs": [],
   "source": [
    "import sympy as sp\n",
    "a,b,c,d,e,f,g,h,m = sp.symbols(\"a,b,c,d,e,f,g,h,m\",real=True)"
   ]
  },
  {
   "cell_type": "code",
   "execution_count": 16,
   "id": "97b63ecc-578c-469f-bf1f-4e5222adff09",
   "metadata": {
    "tags": []
   },
   "outputs": [
    {
     "data": {
      "text/latex": [
       "$\\displaystyle a e m - a f h - b d m + b f g + c d h - c e g$"
      ],
      "text/plain": [
       "a*e*m - a*f*h - b*d*m + b*f*g + c*d*h - c*e*g"
      ]
     },
     "execution_count": 16,
     "metadata": {},
     "output_type": "execute_result"
    }
   ],
   "source": [
    "M=sp.Matrix([[a,b,c],[d,e,f],[g,h,m]])\n",
    "M.det()"
   ]
  },
  {
   "cell_type": "code",
   "execution_count": 19,
   "id": "cd02a474-82b3-408f-beeb-70a0831e8572",
   "metadata": {
    "tags": []
   },
   "outputs": [
    {
     "data": {
      "text/latex": [
       "$\\displaystyle a e m - a f h - b d m + b f g + c d h - c e g$"
      ],
      "text/plain": [
       "a*e*m - a*f*h - b*d*m + b*f*g + c*d*h - c*e*g"
      ]
     },
     "execution_count": 19,
     "metadata": {},
     "output_type": "execute_result"
    }
   ],
   "source": [
    "M.T.det()"
   ]
  },
  {
   "cell_type": "code",
   "execution_count": 20,
   "id": "4770ff10-b29d-465a-9f9d-d76231935731",
   "metadata": {
    "tags": []
   },
   "outputs": [
    {
     "name": "stdout",
     "output_type": "stream",
     "text": [
      "a*(e*m - f*h) + b*(-d*m + f*g) + c*(d*h - e*g)\n",
      "a*(e*m - f*h) + b*(-d*m + f*g) + c*(d*h - e*g)\n"
     ]
    }
   ],
   "source": [
    "from sympy.vector import CoordSys3D\n",
    "N = CoordSys3D('N')\n",
    "\n",
    "u1= a*N.i+b*N.j + c*N.k\n",
    "u2= d*N.i+e*N.j + f*N.k\n",
    "u3= g*N.i+h*N.j + m*N.k\n",
    "print(u1 & (u2.cross(u3)))\n",
    "print(u1.dot(u2.cross(u3)))            "
   ]
  },
  {
   "cell_type": "markdown",
   "id": "fccfb920-40c4-4486-945a-79d3884e0827",
   "metadata": {},
   "source": [
    "### Determinant and Volume\n",
    "In 3 dimensional world, $\\mathbf{u}_2 \\wedge \\mathbf{u}_3$ is a vector perpendicular to the plane spanned by $\\mathbf{u}_2 $ and $ \\mathbf{u}_3$ and has the length of $\\mathtt{sin} \\theta |\\mathbf{u}_2||\\mathbf{u}_3|$ ={ area of parallelogram made by the vectors: $\\vec{\\mathbf{0}},\\mathbf{u}_2 ,\\mathbf{u}_3,\\mathbf{u}_2 +\\mathbf{u}_3 $}. Therefore by the definition of volume, $\\mathtt{det}(M)=\\mathbf{u}_1 \\cdot(\\mathbf{u}_2 \\wedge \\mathbf{u}_3)  = $ volume of parallelepipedon made by the vectors: $\\vec{\\mathbf{0}},\\mathbf{u}_1 ,\\mathbf{u}_2,\\mathbf{u}_3,\\mathbf{u}_1 +\\mathbf{u}_2,\\mathbf{u}_1 +\\mathbf{u}_3,\\mathbf{u}_2 +\\mathbf{u}_3,\\mathbf{u}_1 +\\mathbf{u}_2+\\mathbf{u}_3 $.\n"
   ]
  },
  {
   "cell_type": "markdown",
   "id": "dc688c0e-811f-467f-ad40-2a98590176df",
   "metadata": {},
   "source": [
    "**exercise: $\\mathbf{M}$  is a 3 by 3 matrix. Prove the following: if and only if $det(\\mathbf{M})=0$, there exist a non-zero 3 dimensional vector $\\mathbf{v}$ such that $\\mathbf{M}\\mathbf{v}=0$**"
   ]
  },
  {
   "cell_type": "markdown",
   "id": "2d0ec330-0006-453c-8b5f-f3aff039dc41",
   "metadata": {
    "tags": []
   },
   "source": [
    "### Inverse Matrix\n",
    " $\\mathbf{N}_{ij}$ is the determinant of the 2 by 2  matrix obtained from $\\mathbf{M}$ by removing the 𝑖-th row and the 𝑗-th column.  $\\mathbf{C}_{ij} = (-1)^{i+j} \\mathbf{N}_{ij}$ \n",
    "\n",
    "\n",
    "$$\\mathbf{M}^{-1}= \\frac{1}{\\mathtt{det}(\\mathbf{M})}\\begin{bmatrix}\\mathbf{C}_{11}&\\mathbf{C}_{12}&\\mathbf{C}_{13}\\\\ \\mathbf{C}_{21}&\\mathbf{C}_{22}&\\mathbf{C}_{23}\\\\ \\mathbf{C}_{31}&\\mathbf{C}_{32}&\\mathbf{C}_{33} \\end{bmatrix}^{\\top}$$\n"
   ]
  },
  {
   "cell_type": "code",
   "execution_count": 49,
   "id": "1b608a3b-1637-45ef-aad3-69809b79e376",
   "metadata": {},
   "outputs": [
    {
     "data": {
      "text/latex": [
       "$\\displaystyle \\left[\\begin{matrix}e m - f h & - b m + c h & b f - c e\\\\- d m + f g & a m - c g & - a f + c d\\\\d h - e g & - a h + b g & a e - b d\\end{matrix}\\right]$"
      ],
      "text/plain": [
       "Matrix([\n",
       "[ e*m - f*h, -b*m + c*h,  b*f - c*e],\n",
       "[-d*m + f*g,  a*m - c*g, -a*f + c*d],\n",
       "[ d*h - e*g, -a*h + b*g,  a*e - b*d]])"
      ]
     },
     "execution_count": 49,
     "metadata": {},
     "output_type": "execute_result"
    }
   ],
   "source": [
    "(M.det())*M.inv()\n"
   ]
  },
  {
   "cell_type": "markdown",
   "id": "a72408d0-1348-4b0d-aeb0-213af6a955c9",
   "metadata": {
    "tags": []
   },
   "source": [
    "### Charasteristic equation, Eigenvalue, and Eigenvector\n",
    "\n",
    "Charasteristic equation of $n$ by $n$ square matrix $\\mathbf{M}$ is defined as $\\mathtt{det}(\\mathbf{M}-\\lambda \\mathbf{I})=0$ as a equation of $\\lambda$. $\\mathbf{I}$ is the diagonal identity matrix.\n",
    "- It's obivious that the degree of the Charasteristic equation is equal to $n$.(with some mathematical induction on the determinants) With fundermental theorem of algebra, we know it has $n$ complex roots.\n",
    "\n",
    "Eigenvalue of $\\mathbf{M}$ is defined as the roots of its eigenfunction. We write it down as $\\{\\lambda_{i}\\}$. Because the existence of mutiple roots, $|\\{\\lambda_{i}\\}|\\leq n$.\n",
    "\n",
    "Since $\\mathtt{det}(\\mathbf{M}-\\lambda_i \\mathbf{I})=0$, in 2 or 3 dimension, we know for every $\\lambda_i$ there exists a eigenvector $\\mathbf{v}_i$ such that $(\\mathbf{M}-\\lambda_i \\mathbf{I})\\mathbf{v}_i=0$. The statement is also true for general $n$ and we will discuss it again later in this course.\n",
    "\n",
    "By linearity, $\\mathbf{M}\\mathbf{v}_i=\\lambda_i \\mathbf{I}\\mathbf{v}_i= \\lambda_i \\mathbf{v}_i$\n",
    "\n",
    "\n",
    "\n",
    "\n",
    "\n"
   ]
  },
  {
   "cell_type": "markdown",
   "id": "0545fae3-7138-4b34-8f12-1ee42a39cb4a",
   "metadata": {},
   "source": [
    "Collecting all the eigenvectors $\\{\\mathbf{v}_i\\}$ as $\\mathbf{V}=[\\mathbf{v}_1,\\dots,\\mathbf{v}_m]$, $m\\leq n$.\n",
    "\n",
    "We have $\\mathbf{MV}= \\mathbf{VD}$, $\\mathbf{D}$ is a diagonal matrix with diagonal terms as  $\\lambda_i$. \n",
    "\n",
    "If we are lucky, $n=m$ and $\\mathbf{V}$ is invertible. We have $\\mathbf{M}= \\mathbf{VDV}^{-1}$."
   ]
  },
  {
   "cell_type": "markdown",
   "id": "50643601-5dcd-44d1-8483-cd86727874d3",
   "metadata": {},
   "source": [
    "### Examples \n",
    "Let's try to compute several examples:\n",
    "\n",
    "First, let's consider $\\mathbf{M} =\\begin{bmatrix}1 & 0 & 0 \\\\0 & 1 & 0 \\\\0 &0 &1 \\end{bmatrix}$ \n",
    "\n",
    "Obiviously $\\mathtt{det}(\\mathbf{M}-\\lambda \\mathbf{I})=-(\\lambda -1)^3$. $\\lambda_1=1$, We can also see that $\\mathbf{M}\\mathbf{v}=\\mathbf{v} ,\\forall \\mathbf{u} \\in \\mathbb{R}^3$\n",
    "\n",
    "Next, let's consider $\\mathbf{M} =\\begin{bmatrix}a & 0 & 0 \\\\0 & b & 0 \\\\0 &0 &c \\end{bmatrix}$\n",
    ", then $\\mathtt{det}(\\mathbf{M}-\\lambda \\mathbf{I})=-(\\lambda -a)(\\lambda -b)(\\lambda -c)$. $\\lambda_1=a$,$\\lambda_2=b$,$\\lambda_3=c$, $\\mathbf{v}_1 = \\begin{bmatrix}1 \\\\0 \\\\0\\end{bmatrix}$,$\\mathbf{v}_2 = \\begin{bmatrix}0 \\\\1 \\\\0\\end{bmatrix}$,$\\mathbf{v}_3 = \\begin{bmatrix}0 \\\\0 \\\\1\\end{bmatrix}$ \n",
    "\n",
    "Now, let's consider $\\mathbf{M} =\\begin{bmatrix}0 & 0 & 0 \\\\1 & 0 & 0 \\\\0 &1 &0 \\end{bmatrix}$, then $\\mathtt{det}(\\mathbf{M}-\\lambda \\mathbf{I})=-\\lambda^3$. $\\lambda_1=0$, $\\mathbf{v}_1= \\begin{bmatrix}0 \\\\0 \\\\1\\end{bmatrix}$, and we don't have any other eigenvector.\n",
    "\n",
    "For roataional matrix:"
   ]
  },
  {
   "cell_type": "code",
   "execution_count": 2,
   "id": "36f9d873-042a-482c-91b0-276b670a3a5f",
   "metadata": {
    "tags": []
   },
   "outputs": [],
   "source": [
    "alpha, beta,theta, x1,y1,lambda1 = sp.symbols('alpha, beta,theta, x1,y1,lambda1',real=True)\n",
    "A = sp.Matrix([[sp.cos(alpha),-sp.sin(alpha)],[sp.sin(alpha),sp.cos(alpha)]])\n",
    "B = sp.Matrix([[sp.cos(alpha),-sp.sin(alpha),0],[sp.sin(alpha),sp.cos(alpha),0],[0,0,1]])\n",
    "C = sp.Matrix([[1,0,0],[0,sp.cos(theta),-sp.sin(theta)],[0,sp.sin(theta),sp.cos(theta)]])\n",
    "\n",
    "v = sp.Matrix([x1,y1])\n",
    "A = A- lambda1 *sp.eye(2)"
   ]
  },
  {
   "cell_type": "code",
   "execution_count": 3,
   "id": "ae83eacf-3d95-4022-bb60-331b9b636214",
   "metadata": {
    "tags": []
   },
   "outputs": [
    {
     "data": {
      "text/latex": [
       "$\\displaystyle \\left[\\begin{matrix}- \\lambda_{1} + \\cos{\\left(\\alpha \\right)} & - \\sin{\\left(\\alpha \\right)}\\\\\\sin{\\left(\\alpha \\right)} & - \\lambda_{1} + \\cos{\\left(\\alpha \\right)}\\end{matrix}\\right]$"
      ],
      "text/plain": [
       "Matrix([\n",
       "[-lambda1 + cos(alpha),           -sin(alpha)],\n",
       "[           sin(alpha), -lambda1 + cos(alpha)]])"
      ]
     },
     "execution_count": 3,
     "metadata": {},
     "output_type": "execute_result"
    }
   ],
   "source": [
    "A"
   ]
  },
  {
   "cell_type": "code",
   "execution_count": 163,
   "id": "e1e3b978-b430-4bfe-9884-e403cb51e095",
   "metadata": {
    "tags": []
   },
   "outputs": [
    {
     "data": {
      "text/latex": [
       "$\\displaystyle \\lambda_{1}^{2} - 2 \\lambda_{1} \\cos{\\left(\\alpha \\right)} + \\sin^{2}{\\left(\\alpha \\right)} + \\cos^{2}{\\left(\\alpha \\right)}$"
      ],
      "text/plain": [
       "lambda1**2 - 2*lambda1*cos(alpha) + sin(alpha)**2 + cos(alpha)**2"
      ]
     },
     "execution_count": 163,
     "metadata": {},
     "output_type": "execute_result"
    }
   ],
   "source": [
    "A.det()"
   ]
  },
  {
   "cell_type": "code",
   "execution_count": 164,
   "id": "6816738e-7eaf-4964-8d04-aa8fb928f90c",
   "metadata": {
    "tags": []
   },
   "outputs": [
    {
     "data": {
      "text/latex": [
       "$\\displaystyle \\left[\\begin{matrix}e^{- i \\alpha}\\\\e^{i \\alpha}\\end{matrix}\\right]$"
      ],
      "text/plain": [
       "Matrix([\n",
       "[exp(-I*alpha)],\n",
       "[ exp(I*alpha)]])"
      ]
     },
     "execution_count": 164,
     "metadata": {},
     "output_type": "execute_result"
    }
   ],
   "source": [
    "sp.Matrix(sp.solve(sp.Matrix(A).det(),lambda1 ))"
   ]
  },
  {
   "cell_type": "code",
   "execution_count": 169,
   "id": "9c07a73f-dab0-4285-b796-f85b5c57dbea",
   "metadata": {
    "tags": []
   },
   "outputs": [
    {
     "data": {
      "text/latex": [
       "$\\displaystyle \\left[\\begin{matrix}\\cos{\\left(\\alpha \\right)} & - \\sin{\\left(\\alpha \\right)} \\cos{\\left(\\theta \\right)} & \\sin{\\left(\\alpha \\right)} \\sin{\\left(\\theta \\right)}\\\\\\sin{\\left(\\alpha \\right)} & \\cos{\\left(\\alpha \\right)} \\cos{\\left(\\theta \\right)} & - \\sin{\\left(\\theta \\right)} \\cos{\\left(\\alpha \\right)}\\\\0 & \\sin{\\left(\\theta \\right)} & \\cos{\\left(\\theta \\right)}\\end{matrix}\\right]$"
      ],
      "text/plain": [
       "Matrix([\n",
       "[cos(alpha), -sin(alpha)*cos(theta),  sin(alpha)*sin(theta)],\n",
       "[sin(alpha),  cos(alpha)*cos(theta), -sin(theta)*cos(alpha)],\n",
       "[         0,             sin(theta),             cos(theta)]])"
      ]
     },
     "execution_count": 169,
     "metadata": {},
     "output_type": "execute_result"
    }
   ],
   "source": [
    "sp.Matrix(B*C)"
   ]
  },
  {
   "cell_type": "code",
   "execution_count": 170,
   "id": "de58bcf8-223a-4e5b-a401-4629a9dc268a",
   "metadata": {
    "tags": []
   },
   "outputs": [
    {
     "data": {
      "text/latex": [
       "$\\displaystyle - \\lambda_{1}^{3} + \\lambda_{1}^{2} \\cos{\\left(\\alpha \\right)} \\cos{\\left(\\theta \\right)} + \\lambda_{1}^{2} \\cos{\\left(\\alpha \\right)} + \\lambda_{1}^{2} \\cos{\\left(\\theta \\right)} - \\lambda_{1} \\sin^{2}{\\left(\\alpha \\right)} \\cos{\\left(\\theta \\right)} - \\lambda_{1} \\sin^{2}{\\left(\\theta \\right)} \\cos{\\left(\\alpha \\right)} - \\lambda_{1} \\cos^{2}{\\left(\\alpha \\right)} \\cos{\\left(\\theta \\right)} - \\lambda_{1} \\cos{\\left(\\alpha \\right)} \\cos^{2}{\\left(\\theta \\right)} - \\lambda_{1} \\cos{\\left(\\alpha \\right)} \\cos{\\left(\\theta \\right)} + \\sin^{2}{\\left(\\alpha \\right)} \\sin^{2}{\\left(\\theta \\right)} + \\sin^{2}{\\left(\\alpha \\right)} \\cos^{2}{\\left(\\theta \\right)} + \\sin^{2}{\\left(\\theta \\right)} \\cos^{2}{\\left(\\alpha \\right)} + \\cos^{2}{\\left(\\alpha \\right)} \\cos^{2}{\\left(\\theta \\right)}$"
      ],
      "text/plain": [
       "-lambda1**3 + lambda1**2*cos(alpha)*cos(theta) + lambda1**2*cos(alpha) + lambda1**2*cos(theta) - lambda1*sin(alpha)**2*cos(theta) - lambda1*sin(theta)**2*cos(alpha) - lambda1*cos(alpha)**2*cos(theta) - lambda1*cos(alpha)*cos(theta)**2 - lambda1*cos(alpha)*cos(theta) + sin(alpha)**2*sin(theta)**2 + sin(alpha)**2*cos(theta)**2 + sin(theta)**2*cos(alpha)**2 + cos(alpha)**2*cos(theta)**2"
      ]
     },
     "execution_count": 170,
     "metadata": {},
     "output_type": "execute_result"
    }
   ],
   "source": [
    "(B*C- lambda1 *sp.eye(3)).det()"
   ]
  },
  {
   "cell_type": "code",
   "execution_count": 171,
   "id": "264ed4ce-428a-4113-bcbb-b70c7058bae0",
   "metadata": {
    "tags": []
   },
   "outputs": [
    {
     "data": {
      "text/latex": [
       "$\\displaystyle - \\lambda_{1}^{3} + \\lambda_{1}^{2} \\cos{\\left(\\alpha \\right)} \\cos{\\left(\\theta \\right)} + \\lambda_{1}^{2} \\cos{\\left(\\alpha \\right)} + \\lambda_{1}^{2} \\cos{\\left(\\theta \\right)} - \\lambda_{1} \\cos{\\left(\\alpha \\right)} \\cos{\\left(\\theta \\right)} - \\lambda_{1} \\cos{\\left(\\alpha \\right)} - \\lambda_{1} \\cos{\\left(\\theta \\right)} + 1$"
      ],
      "text/plain": [
       "-lambda1**3 + lambda1**2*cos(alpha)*cos(theta) + lambda1**2*cos(alpha) + lambda1**2*cos(theta) - lambda1*cos(alpha)*cos(theta) - lambda1*cos(alpha) - lambda1*cos(theta) + 1"
      ]
     },
     "execution_count": 171,
     "metadata": {},
     "output_type": "execute_result"
    }
   ],
   "source": [
    "sp.simplify((B*C- lambda1 *sp.eye(3)).det())"
   ]
  },
  {
   "cell_type": "code",
   "execution_count": 172,
   "id": "3301eaae-7b38-4352-aa50-5fa0b066ee1a",
   "metadata": {
    "tags": []
   },
   "outputs": [
    {
     "data": {
      "text/latex": [
       "$\\displaystyle \\lambda_{1}^{2} - \\lambda_{1} \\cos{\\left(\\alpha \\right)} \\cos{\\left(\\theta \\right)} - \\lambda_{1} \\cos{\\left(\\alpha \\right)} - \\lambda_{1} \\cos{\\left(\\theta \\right)} + \\lambda_{1} + 1$"
      ],
      "text/plain": [
       "lambda1**2 - lambda1*cos(alpha)*cos(theta) - lambda1*cos(alpha) - lambda1*cos(theta) + lambda1 + 1"
      ]
     },
     "execution_count": 172,
     "metadata": {},
     "output_type": "execute_result"
    }
   ],
   "source": [
    "expr = sp.simplify((B*C- lambda1 *sp.eye(3)).det()/(1-lambda1))\n",
    "sp.simplify((B*C- lambda1 *sp.eye(3)).det()/(1-lambda1))"
   ]
  },
  {
   "cell_type": "markdown",
   "id": "36fdb387-5f52-4f3f-8306-02c935c9ab62",
   "metadata": {},
   "source": [
    "let $\\beta=-\\cos{\\left(\\alpha \\right)}\\cos{\\left(\\theta \\right)} -\\cos{\\left(\\alpha \\right)} - \\cos{\\left(\\theta \\right)} + 1$= $2-(1-\\cos{\\left(\\alpha \\right)})(1-\\cos{\\left(\\theta \\right)})$"
   ]
  },
  {
   "cell_type": "code",
   "execution_count": 7,
   "id": "ed4cb773-90c2-4ee6-b0c3-8ad027ca8c77",
   "metadata": {
    "tags": []
   },
   "outputs": [
    {
     "data": {
      "image/png": "[encoded data removed]",
      "text/plain": [
       "<Figure size 640x480 with 1 Axes>"
      ]
     },
     "metadata": {},
     "output_type": "display_data"
    }
   ],
   "source": [
    "import numpy as np\n",
    "import matplotlib.pyplot as plt\n",
    "from mpl_toolkits.mplot3d import Axes3D\n",
    "\n",
    "fig = plt.figure()\n",
    "ax = fig.add_subplot(111, projection='3d')\n",
    "\n",
    "alpha1, theta1 = np.mgrid[0.0:np.pi:10j, 0.0:np.pi:10j]\n",
    "\n",
    "z = 2-(1-np.cos(alpha1))*(1-np.cos(theta1))\n",
    "alpha1 = alpha1.flatten()\n",
    "theta1 = theta1.ravel()\n",
    "z= z.ravel()\n",
    "\n",
    "\n",
    "ax.plot(alpha1, theta1, z, 'r')\n",
    "ax.set_aspect('equal')\n",
    "plt.show()"
   ]
  },
  {
   "cell_type": "markdown",
   "id": "0412d898-e87e-4dbe-b453-f78902155491",
   "metadata": {},
   "source": [
    "***exercise: change the plot z = 2-(1-np.cos(alpha1))*(1-np.cos(theta1)), range:[0,pi]X[0,pi] into surface plot***"
   ]
  },
  {
   "cell_type": "code",
   "execution_count": 173,
   "id": "59136eeb-cbdf-40f4-abe6-08a0cdc3a89b",
   "metadata": {
    "tags": []
   },
   "outputs": [
    {
     "data": {
      "text/plain": [
       "[-beta/2 - sqrt(beta**2 - 4)/2, -beta/2 + sqrt(beta**2 - 4)/2]"
      ]
     },
     "execution_count": 173,
     "metadata": {},
     "output_type": "execute_result"
    }
   ],
   "source": [
    "sp.solve(lambda1**2 +beta*lambda1 +1,lambda1)"
   ]
  },
  {
   "cell_type": "markdown",
   "id": "1c6e9470-8c13-418a-bfe3-d91d618231c2",
   "metadata": {},
   "source": [
    "Notice that $|\\beta|\\leq 2$, therefore $\\beta^2-4\\leq 0$. Therefore, by the formula of quadratic equation the roots of this equation is conjugated with norm 1."
   ]
  },
  {
   "cell_type": "markdown",
   "id": "bb19b68e-38c8-4fe5-89d7-62a21dac3639",
   "metadata": {},
   "source": [
    "Therefore, we gave the idea how to prove Euler’s fixed point theorem  which states that any motion of a rigid body on the surface of a sphere may be represented as a *rotation about an appropriately chosen rotation pole*, called an Euler pole. Geologists have used this theorem to understand the motions of tectonic plates."
   ]
  },
  {
   "cell_type": "code",
   "execution_count": 174,
   "id": "33ba99b8-174e-4762-a823-9c5cbe22caac",
   "metadata": {
    "tags": []
   },
   "outputs": [],
   "source": [
    "expr = (B*C- lambda1 *sp.eye(3)).det() /(lambda1-1)"
   ]
  },
  {
   "cell_type": "code",
   "execution_count": 175,
   "id": "0219e542-29f6-4d50-96cf-08055a6084a4",
   "metadata": {
    "tags": []
   },
   "outputs": [
    {
     "data": {
      "text/latex": [
       "$\\displaystyle \\left[\\begin{matrix}1\\\\- \\frac{\\sqrt{\\sin^{2}{\\left(\\alpha \\right)} \\sin^{2}{\\left(\\theta \\right)} - 2 \\sin^{2}{\\left(\\alpha \\right)} \\cos{\\left(\\theta \\right)} - 2 \\sin^{2}{\\left(\\alpha \\right)} - 2 \\sin^{2}{\\left(\\theta \\right)} \\cos{\\left(\\alpha \\right)} - 2 \\sin^{2}{\\left(\\theta \\right)}}}{2} + \\frac{\\cos{\\left(\\alpha \\right)} \\cos{\\left(\\theta \\right)}}{2} + \\frac{\\cos{\\left(\\alpha \\right)}}{2} + \\frac{\\cos{\\left(\\theta \\right)}}{2} - \\frac{1}{2}\\\\\\frac{\\sqrt{\\sin^{2}{\\left(\\alpha \\right)} \\sin^{2}{\\left(\\theta \\right)} - 2 \\sin^{2}{\\left(\\alpha \\right)} \\cos{\\left(\\theta \\right)} - 2 \\sin^{2}{\\left(\\alpha \\right)} - 2 \\sin^{2}{\\left(\\theta \\right)} \\cos{\\left(\\alpha \\right)} - 2 \\sin^{2}{\\left(\\theta \\right)}}}{2} + \\frac{\\cos{\\left(\\alpha \\right)} \\cos{\\left(\\theta \\right)}}{2} + \\frac{\\cos{\\left(\\alpha \\right)}}{2} + \\frac{\\cos{\\left(\\theta \\right)}}{2} - \\frac{1}{2}\\end{matrix}\\right]$"
      ],
      "text/plain": [
       "Matrix([\n",
       "[                                                                                                                                                                                               1],\n",
       "[-sqrt(sin(alpha)**2*sin(theta)**2 - 2*sin(alpha)**2*cos(theta) - 2*sin(alpha)**2 - 2*sin(theta)**2*cos(alpha) - 2*sin(theta)**2)/2 + cos(alpha)*cos(theta)/2 + cos(alpha)/2 + cos(theta)/2 - 1/2],\n",
       "[ sqrt(sin(alpha)**2*sin(theta)**2 - 2*sin(alpha)**2*cos(theta) - 2*sin(alpha)**2 - 2*sin(theta)**2*cos(alpha) - 2*sin(theta)**2)/2 + cos(alpha)*cos(theta)/2 + cos(alpha)/2 + cos(theta)/2 - 1/2]])"
      ]
     },
     "execution_count": 175,
     "metadata": {},
     "output_type": "execute_result"
    }
   ],
   "source": [
    "sp.simplify(sp.Matrix(sp.solve(sp.simplify((B*C- lambda1 *sp.eye(3)).det()),lambda1 )))"
   ]
  },
  {
   "cell_type": "markdown",
   "id": "5ce50974-5ecc-4385-a2cb-4aba45e5d997",
   "metadata": {},
   "source": [
    "***exercise compute the eigenfunction of ***"
   ]
  },
  {
   "cell_type": "markdown",
   "id": "658187c2-f659-44b9-832e-19e3bc1d43d0",
   "metadata": {
    "tags": []
   },
   "source": [
    "### Orthogonal matrix\n",
    "\n",
    "We should elaborate a little bit more on orthogonal(orthonormal) matrices. The definition of  an orthogonal square matrix  $\\mathbf{U}$ is that $\\mathbf{U}\\mathbf{U}^\\top =\\mathbf{I}$. Roataional matrices are typical examples for orthgonal matrix. exercise"
   ]
  },
  {
   "cell_type": "code",
   "execution_count": 4,
   "id": "b4c9f9fc-325f-4cef-9f61-ab6ccb961d92",
   "metadata": {},
   "outputs": [
    {
     "data": {
      "text/latex": [
       "$\\displaystyle \\left[\\begin{matrix}\\cos{\\left(\\alpha \\right)} & - \\sin{\\left(\\alpha \\right)} & 0\\\\\\sin{\\left(\\alpha \\right)} & \\cos{\\left(\\alpha \\right)} & 0\\\\0 & 0 & 1\\end{matrix}\\right]$"
      ],
      "text/plain": [
       "Matrix([\n",
       "[cos(alpha), -sin(alpha), 0],\n",
       "[sin(alpha),  cos(alpha), 0],\n",
       "[         0,           0, 1]])"
      ]
     },
     "execution_count": 4,
     "metadata": {},
     "output_type": "execute_result"
    }
   ],
   "source": [
    "B"
   ]
  },
  {
   "cell_type": "code",
   "execution_count": 5,
   "id": "c49bf1c1-b266-4815-a9db-68842dd30912",
   "metadata": {},
   "outputs": [
    {
     "data": {
      "text/latex": [
       "$\\displaystyle \\left[\\begin{matrix}1 & 0 & 0\\\\0 & \\cos{\\left(\\theta \\right)} & - \\sin{\\left(\\theta \\right)}\\\\0 & \\sin{\\left(\\theta \\right)} & \\cos{\\left(\\theta \\right)}\\end{matrix}\\right]$"
      ],
      "text/plain": [
       "Matrix([\n",
       "[1,          0,           0],\n",
       "[0, cos(theta), -sin(theta)],\n",
       "[0, sin(theta),  cos(theta)]])"
      ]
     },
     "execution_count": 5,
     "metadata": {},
     "output_type": "execute_result"
    }
   ],
   "source": [
    "C"
   ]
  },
  {
   "cell_type": "code",
   "execution_count": 6,
   "id": "04247a8f-305c-4b50-9ee9-3b6eeef6695e",
   "metadata": {
    "tags": []
   },
   "outputs": [
    {
     "data": {
      "text/latex": [
       "$\\displaystyle \\left[\\begin{matrix}1 & 0 & 0\\\\0 & 1 & 0\\\\0 & 0 & 1\\end{matrix}\\right]$"
      ],
      "text/plain": [
       "Matrix([\n",
       "[1, 0, 0],\n",
       "[0, 1, 0],\n",
       "[0, 0, 1]])"
      ]
     },
     "execution_count": 6,
     "metadata": {},
     "output_type": "execute_result"
    }
   ],
   "source": [
    "sp.Matrix(sp.simplify(C*sp.transpose(C)))"
   ]
  },
  {
   "cell_type": "code",
   "execution_count": 178,
   "id": "2fa94ab4-98a5-4ead-a6a8-816183c5284c",
   "metadata": {
    "tags": []
   },
   "outputs": [
    {
     "data": {
      "text/latex": [
       "$\\displaystyle \\left[\\begin{matrix}1 & 0 & 0\\\\0 & 1 & 0\\\\0 & 0 & 1\\end{matrix}\\right]$"
      ],
      "text/plain": [
       "Matrix([\n",
       "[1, 0, 0],\n",
       "[0, 1, 0],\n",
       "[0, 0, 1]])"
      ]
     },
     "execution_count": 178,
     "metadata": {},
     "output_type": "execute_result"
    }
   ],
   "source": [
    "sp.Matrix(sp.simplify(B*C*sp.transpose(C)*sp.transpose(B)))"
   ]
  },
  {
   "cell_type": "code",
   "execution_count": 179,
   "id": "f54314e2-c38b-42c5-926e-620fb2c8d5b3",
   "metadata": {
    "tags": []
   },
   "outputs": [
    {
     "data": {
      "text/latex": [
       "$\\displaystyle \\left[\\begin{matrix}1 & 0 & 0\\\\0 & 1 & 0\\\\0 & 0 & 1\\end{matrix}\\right]$"
      ],
      "text/plain": [
       "Matrix([\n",
       "[1, 0, 0],\n",
       "[0, 1, 0],\n",
       "[0, 0, 1]])"
      ]
     },
     "execution_count": 179,
     "metadata": {},
     "output_type": "execute_result"
    }
   ],
   "source": [
    "sp.Matrix(sp.simplify(B*C*sp.transpose(B*C)))"
   ]
  },
  {
   "cell_type": "markdown",
   "id": "521186f9-5a5c-41f9-acf3-277ebc686bf2",
   "metadata": {},
   "source": [
    "#### Orthogonal matrix conserve length and angle\n",
    "\n",
    "It is obvious that given any 2 vectors with the same dimension, we have $\\langle \\mathbf{x},\\mathbf{y}\\rangle = \\mathbf{x}^\\top \\mathbf{y}$. Therefore for any square matrix $\\mathbf{M}$ with suitable dimensions(what are them?), $\\langle \\mathbf{x},\\mathbf{M}\\mathbf{y}\\rangle = \\mathbf{x}^\\top \\mathbf{M}\\mathbf{y}= \\mathbf{x}^\\top \\mathbf{M}^{\\top\\top}\\mathbf{y}= (\\mathbf{M}^{\\top}\\mathbf{x})^{\\top}\\mathbf{y}= \\langle \\mathbf{M}^{\\top}\\mathbf{x},\\mathbf{y}\\rangle$.\n",
    "\n",
    "Then for any orthogonal matrix $\\mathbf{U}$, $\\langle \\mathbf{U}\\mathbf{x},\\mathbf{U}\\mathbf{y}\\rangle =\\langle \\mathbf{U}^\\top\\mathbf{U}\\mathbf{x},\\mathbf{y}\\rangle = \\langle \\mathbf{x},\\mathbf{y}\\rangle = |\\mathbf{x}||\\mathbf{y}|\\mathtt{sin}\\theta$. Let $\\mathbf{x}=\\mathbf{y}$, we have $\\langle \\mathbf{U}\\mathbf{x},\\mathbf{U}\\mathbf{x}\\rangle= |\\mathbf{x}|^2$. Therefore we could say that orthogonal matrix is similiar to rigid motion which doesn't change their intrinsic relationship.\n",
    "\n"
   ]
  },
  {
   "cell_type": "code",
   "execution_count": null,
   "id": "fa8dd858-2327-4446-9459-6b80fbc43f98",
   "metadata": {},
   "outputs": [],
   "source": [
    "*exercise?: prove that any orthogonal matrix is a combination of rotations and reflections*"
   ]
  },
  {
   "cell_type": "markdown",
   "id": "a0fef087-f6d3-4668-bc3d-508584bcc426",
   "metadata": {},
   "source": [
    "Conversely, if a finite dimensional matrix conserve length for all vector. Is it a orthogonal matrix?\n",
    "\n",
    "Suppose $\\langle \\mathbf{V}\\mathbf{x},\\mathbf{V}\\mathbf{x}\\rangle = \\langle \\mathbf{x},\\mathbf{x}\\rangle, \\forall \\mathbf{x}$, $\\langle \\mathbf{V}(\\mathbf{x}+\\mathbf{y}),\\mathbf{V}(\\mathbf{x}+\\mathbf{y})\\rangle = \\langle \\mathbf{V}\\mathbf{x},\\mathbf{V}\\mathbf{x}\\rangle +2\\langle \\mathbf{V}\\mathbf{x},\\mathbf{V}\\mathbf{y}\\rangle+\\langle \\mathbf{V}\\mathbf{y},\\mathbf{V}\\mathbf{y}\\rangle$\n",
    "$\\langle \\mathbf{x}+\\mathbf{y},\\mathbf{x}+\\mathbf{y}\\rangle = \\langle \\mathbf{x},\\mathbf{x}\\rangle +2\\langle \\mathbf{x},\\mathbf{y}\\rangle+ \\langle \\mathbf{y},\\mathbf{y}\\rangle$, $\\Rightarrow \\langle \\mathbf{x},\\mathbf{y}\\rangle =\\langle \\mathbf{V}\\mathbf{x},\\mathbf{V}\\mathbf{y}\\rangle,\\forall \\mathbf{x}, \\mathbf{y} \\Rightarrow \\langle \\mathbf{x},\\mathbf{y}\\rangle =\\langle \\mathbf{x},\\mathbf{V}^{\\top}\\mathbf{V}\\mathbf{y}\\rangle,\\forall \\mathbf{x}, \\mathbf{y}$\n",
    "With duality theory(check Lax textbook), we could view $\\langle \\cdot,\\mathbf{y}\\rangle$ as a induced linear function. Under the condition of finite dimensions, $\\mathbf{y} = \\mathbf{V}^{\\top}\\mathbf{V}\\mathbf{y}, \\forall \\mathbf{y}$, Therefore $\\mathbf{V}^{\\top}\\mathbf{V} = \\mathbf{I}$ and $\\mathbf{V}$ is orthogonal."
   ]
  },
  {
   "cell_type": "markdown",
   "id": "aa9565c7-46e0-4c28-84d2-13ea1ae1782f",
   "metadata": {},
   "source": [
    "```\n",
    "The essence of man is no abstraction inherent in each single individual. In reality, it is the ensemble of the social relations.  --- \n",
    "```"
   ]
  },
  {
   "cell_type": "code",
   "execution_count": null,
   "id": "8e4a808a-6975-4329-ae01-046dca3b5c54",
   "metadata": {},
   "outputs": [],
   "source": []
  }
 ],
 "metadata": {
  "kernelspec": {
   "display_name": "Python 3 (ipykernel)",
   "language": "python",
   "name": "python3"
  },
  "language_info": {
   "codemirror_mode": {
    "name": "ipython",
    "version": 3
   },
   "file_extension": ".py",
   "mimetype": "text/x-python",
   "name": "python",
   "nbconvert_exporter": "python",
   "pygments_lexer": "ipython3",
   "version": "3.12.1"
  }
 },
 "nbformat": 4,
 "nbformat_minor": 5
}
