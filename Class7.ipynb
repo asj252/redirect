{
 "cells": [
  {
   "cell_type": "markdown",
   "id": "32715cbe-93ca-4257-85a5-a796ce41023e",
   "metadata": {},
   "source": [
    "# Linear Algebra Crash Course (with Python) Class 7\n"
   ]
  },
  {
   "cell_type": "markdown",
   "id": "43535285-ae60-4cdd-9c31-0d9e8c59a6e2",
   "metadata": {},
   "source": [
    "## 逆矩阵(补充)\n",
    "\n",
    "### 逆矩阵唯一性\n",
    "令 $\\mathbf{M}$ 是 $n\\times n$ 矩阵, 令$\\mathbf{O}$,$\\mathbf{P}$ 为 $\\mathbf{M}$的左逆右逆, 则$\\mathbf{OM}=\\mathbf{MP}=\\mathbf{I}_n$。我们有 $\\mathbf{OMP}=(\\mathbf{OM})\\mathbf{P}=\\mathbf{O}(\\mathbf{MP})=\\mathbf{P}=\\mathbf{O}$。因此左逆等于右逆，类似的逆矩阵唯一。\n",
    "\n",
    "(这里面还有一个问题，为什么有左逆就必然有右逆，这得用线性映射的维度变化来证明。这里暂时不提。)"
   ]
  },
  {
   "cell_type": "markdown",
   "id": "50502cc5-6b34-4008-9da5-c5b5ce523dcb",
   "metadata": {},
   "source": [
    "### 逆矩阵的等价性\n",
    "定理：令 $\\mathbf{M}$ 是 $n\\times n$ 矩阵, $\\mathbf{M}^{-1}$存在,若且唯若 $\\forall \\mathbf{b},\\exists!\\mathbf{x}:\\mathbf{Mx}=\\mathbf{b}$.\n",
    "\n",
    "证明：如果$\\mathbf{M}^{-1}$存在，由上可知，我们有唯一的$\\mathbf{M}^{-1}$,$\\mathbf{M}^{-1}\\mathbf{Mx}=\\mathbf{x}=\\mathbf{M}^{-1}\\mathbf{b}$。\n",
    "反之，我们令$\\mathbf{e}_1=\\begin{bmatrix} 1\\\\0\\\\ \\vdots \\\\0  \\end{bmatrix}$ ,$\\mathbf{e}_2=\\begin{bmatrix} 0\\\\1\\\\ \\vdots \\\\0  \\end{bmatrix}\\dots$\n",
    "$\\mathbf{e}_n=\\begin{bmatrix} 0\\\\0\\\\ \\vdots \\\\1  \\end{bmatrix}$.\n",
    "\n",
    "我们求解$\\mathbf{Mx}_1=\\mathbf{e}_1$, $\\mathbf{Mx}_2=\\mathbf{e}_2, \\dots$ $\\mathbf{Mx}_n=\\mathbf{e}_n$。收集起来我们有$\\mathbf{X}=[\\mathbf{x}_1,\\mathbf{x}_2,\\dots,\\mathbf{x}_n]$,与$\\mathbf{MX}=\\mathbf{I}_n$,则$\\mathbf{X}$ 为 $\\mathbf{M}$ 的逆矩阵。\n"
   ]
  },
  {
   "cell_type": "markdown",
   "id": "c0a6a1ec-4d22-418b-9c8c-53528116c863",
   "metadata": {},
   "source": [
    "## Chap7 线性变化\n",
    "### 集合的映射\n",
    "\n",
    "#### 一对一 1-1\n",
    "我们举些例子，$f: \\mathbb{R}^1\\rightarrow \\mathbb{R}^1,f(x)=x^2$ 在实数上就不是一对一函数，因为$f(-1)=f(1)=1$。可 $f(x)=x^2$ 在非负实数上就是一对一函数。函数是不是一对一在寻找逆运算上非常重要，因为正常函数是多对一。\n",
    "\n",
    "#### 满射 onto\n",
    "同样的例子， $f: \\mathbb{R}^1\\rightarrow \\mathbb{R}^1,f(x)=x^2$ 不是满射，因此 $f^{-1}(x) =g(x)=\\sqrt x$，只能定义在 $\\mathbb{R}^1_+$ 非负实数上。\n",
    "\n",
    "#### 同构 isomorphism\n",
    "修改下例子 $f: \\mathbb{R}^1_+\\rightarrow \\mathbb{R}^1_+,f(x)=x^2$,此时 $f$ 就是一个 1-1，onto 的连续函数，此时我们称  $f$ 同构。有时如果有 $f: C\\rightarrow D$,已知 $f$ 同构，我们也会称 $C$ 与 $D$ 同构。\n",
    " "
   ]
  },
  {
   "cell_type": "markdown",
   "id": "20debd57-439e-4508-9255-034758bc2dcb",
   "metadata": {},
   "source": [
    "### 线性变换\n",
    "\n",
    "简单讲线性变化就是多元一次多项式，或者连立的多元一次方程式组。*有限维的线性空间里，矩阵其实可以表达所有的线性变换，我们并不证明这点，但我们直接使用这个结论。*\n",
    "线性变换之所以重要是因为，根据泰勒展开式，一个可微分函数，局部看都是被线性关系支配。\n",
    "一个简单的例子是 $f: \\mathbb{R}^1\\rightarrow \\mathbb{R}^1,f(x)=ax+b$, 一般性的例子则是\n",
    "$$f: \\mathbb{R}^n\\rightarrow \\mathbb{R}^n,f(\\boldsymbol{\\vec x})=A\\boldsymbol{\\vec x}+\\boldsymbol{\\vec b}$$\n",
    "一个简单的非线性变换例子则是 $f: \\mathbb{R}^1\\rightarrow \\mathbb{R}^1,f(x)=x^2+ax+b$。可以看看在 $x=0$ 附近，这个函数是否被线性项支配。\n",
    "\n",
    "\n",
    "令 $A ： \\mathbb{R}^n \\to \\mathbb{R}^m$, 则 $A^T ： \\mathbb{R}^m \\to \\mathbb{R}^n$\n"
   ]
  },
  {
   "cell_type": "code",
   "execution_count": 3,
   "id": "8ec96b6d-b495-43c5-b3f5-e69365607370",
   "metadata": {
    "tags": []
   },
   "outputs": [
    {
     "data": {
      "text/plain": [
       "array([2, 5])"
      ]
     },
     "execution_count": 3,
     "metadata": {},
     "output_type": "execute_result"
    }
   ],
   "source": [
    "import numpy as np\n",
    "A = np.array([[1,2,3],[4,5,6]])\n",
    "v = np.array([1,-1,1])\n",
    "## 3 dim to 2 dim\n",
    "np.dot(A,v)"
   ]
  },
  {
   "cell_type": "markdown",
   "id": "337e115d-96f1-42b8-a2f9-5954a9a8300c",
   "metadata": {},
   "source": [
    "$C(A)=Im(A)=\\{A\\boldsymbol{\\vec x}\\}\\subseteq \\mathbb{R}^m$ 是 $A$ 的「像空间」或称为矩阵 $A$ 的列空间 , $N(A)=Ker(A)= \\{\\boldsymbol{\\vec x}|A\\boldsymbol{\\vec x}=\\boldsymbol{\\vec 0}\\}\\subseteq\\mathbb{R}^n$ 是 $A$ 的「核空间」。类似的 \n",
    "$C(A^T)=Im(A^T)=\\{A^T\\boldsymbol{\\vec y}\\}\\subseteq \\mathbb{R}^n$ 是 $A^T$ 的「像空间」或称为矩阵 $A$ 的行空间 , $N(A^T)=Ker(A^T)= \\{\\boldsymbol{\\vec y}|A^T\\boldsymbol{\\vec y}=\\boldsymbol{\\vec 0}\\}\\subseteq\\mathbb{R}^m$ 是 $A^T$ 的「核空间」。\n",
    "\n",
    "\n",
    "关于子空间的维度，有个重要的关系 $dim(Ker(A))+dim(Im(A))=n$。或者 $(\\mathbb{R}^n/Ker(A))\\cong (Im(A))$。*这部分我们省略证明。*"
   ]
  },
  {
   "cell_type": "markdown",
   "id": "6210db92-0bb2-45d2-a8d3-010f6f546618",
   "metadata": {},
   "source": [
    "考虑\n",
    "$$\\mathbf{M} = \\begin{bmatrix} 1 &0 &0 &0&0\\\\ 0 &1 &0 &0&0\\\\\\  0 &0&1 &0&0 \\\\ 0 &0 &0 &1&0 \\end{bmatrix}$$\n",
    "\n"
   ]
  },
  {
   "cell_type": "markdown",
   "id": "43fdc827-ab07-427c-bfed-42a0289940fe",
   "metadata": {},
   "source": [
    "考虑\n",
    "$$\\mathbf{M} = \\begin{bmatrix} 1 &0 &0 &0\\\\ 0 &1 &0 &0\\\\\\  0 &0&1 &0 \\\\ 0 &0 &0 &0 \\\\ 0 &0 &0 &0 \\end{bmatrix}$$"
   ]
  },
  {
   "cell_type": "markdown",
   "id": "b1e1dbe1-7544-46a1-831d-381cf87b070b",
   "metadata": {},
   "source": [
    "### 四个子空间的关系\n",
    "\n",
    "假定 $\\boldsymbol{\\vec x}\\in \\mathbb{R}^n$, 同时 $\\boldsymbol{\\vec x}\\perp Im(A^T) \\Leftrightarrow \\langle A^T\\boldsymbol{\\vec y},\\boldsymbol{\\vec x}\\rangle=0,\\forall \\boldsymbol{\\vec y\\in\\mathbb{R}^m}\\Leftrightarrow\\langle \\boldsymbol{\\vec y},A\\boldsymbol{\\vec x}\\rangle=0,\\forall \\boldsymbol{\\vec y\\in\\mathbb{R}^m}\\Leftrightarrow A\\boldsymbol{\\vec x}=0 \\Leftrightarrow \\boldsymbol{\\vec x}\\in Ker(A)$\n",
    "$\\Rightarrow (Im(A^T))^\\perp=Ker(A) \\Leftrightarrow Im(A^T)\\bigoplus Ker(A)=\\mathbb{R}^n$ Direct sum\n",
    "类似的  $Im(A)\\bigoplus Ker(A^T)=\\mathbb{R}^m$\n",
    "\n",
    "自然我们有 $dim(Ker(A))+dim(Im(A^T))=n$，结合上一段的结论，因此$dim(Im(A))=dim(Im(A^T))$ 。意味着行空间于列空间的维数相等。"
   ]
  },
  {
   "cell_type": "markdown",
   "id": "e2cf102f-f1b1-492a-b306-6a0f07d0a34e",
   "metadata": {},
   "source": [
    "### 左逆右逆的存在性\n",
    "我们假设有方阵$\\mathbf{A}$,$\\mathbf{B}$:$\\mathbf{AB}=\\mathbf{I}_n$,我们需要证明$\\mathbf{BA}=\\mathbf{I}_n$, 由于 $\\mathbf{BAB}=\\mathbf{B}$,我们有 $(\\mathbf{BA}-\\mathbf{I})\\mathbf{B}=0$。\n",
    "由于以线性变换的观点 $\\mathbf{B}:\\mathbb{R}^n \\to \\mathbb{R}^n$,因为$\\mathbf{AB}=\\mathbf{I}_n$，因此 $\\mathtt{ker}(\\mathbf{B})=\\{\\phi\\}$, 由于 $dim(\\mathtt{ker}(B))+dim(\\mathtt{Im}(B))=n$,因此 $dim(\\mathtt{Im}(B))=n$,由于我们之前对$\\mathbb{R}^n$维度的论证,可推得$\\mathtt{Im}(B)=\\mathbb{R}^n$，因此可推得 $(\\mathbf{BA}-\\mathbf{I})\\mathbf{x}=0,\\forall \\mathbf{x}\\in \\mathbb{R}^n$。自然$(\\mathbf{BA}-\\mathbf{I})=0$"
   ]
  },
  {
   "cell_type": "code",
   "execution_count": null,
   "id": "2503a69d-1389-495d-8195-e9c19eaf3f09",
   "metadata": {},
   "outputs": [],
   "source": []
  }
 ],
 "metadata": {
  "kernelspec": {
   "display_name": "Python 3 (ipykernel)",
   "language": "python",
   "name": "python3"
  },
  "language_info": {
   "codemirror_mode": {
    "name": "ipython",
    "version": 3
   },
   "file_extension": ".py",
   "mimetype": "text/x-python",
   "name": "python",
   "nbconvert_exporter": "python",
   "pygments_lexer": "ipython3",
   "version": "3.12.1"
  }
 },
 "nbformat": 4,
 "nbformat_minor": 5
}
