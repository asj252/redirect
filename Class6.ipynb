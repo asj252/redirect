{
 "cells": [
  {
   "cell_type": "markdown",
   "id": "af1aa243-ace2-46d8-8a34-3e8db90e273f",
   "metadata": {},
   "source": [
    "# Linear Algebra Crash Course (with Python) Class 6\n",
    "## Chap 5 conti.\n"
   ]
  },
  {
   "cell_type": "markdown",
   "id": "0a8ba630-d400-4289-9e65-d093e884087f",
   "metadata": {},
   "source": [
    "考虑 \n",
    "$$\\mathbf{M}= \\begin{bmatrix} \\mathbf{u}_1^\\top\\\\\\mathbf{u}_2^\\top\\\\\\mathbf{u}_3^\\top  \\\\\\vdots\\\\ \\mathbf{u}_n^\\top\\end{bmatrix}$$\n",
    "\n",
    "假设 $u_{11}\\neq 0$, 我们可以设计$\\mathbf{L}_1$,使得\n",
    "$$\\mathbf{L}_1 = \\begin{bmatrix} 1 & & &\\\\ -\\frac{u_{21}}{u_{11}} &1 & &\\\\\\  -\\frac{u_{31}}{u_{11}} &0&1 & \\\\\\vdots\\\\ -\\frac{u_{n1}}{u_{11}} &\\dots & &1 \\end{bmatrix}$$\n",
    "\n",
    "注意\n",
    "\n",
    "$$\\mathbf{L}_1^{-1} = \\begin{bmatrix} 1 & & &\\\\ \\frac{u_{21}}{u_{11}} &1 & &\\\\\\  \\frac{u_{31}}{u_{11}} &0&1 & \\\\\\vdots\\\\ \\frac{u_{n1}}{u_{11}} &\\dots & &1 \\end{bmatrix}$$"
   ]
  },
  {
   "cell_type": "markdown",
   "id": "d91ccb73-956c-4dd2-bc20-ff5f16988ce6",
   "metadata": {},
   "source": [
    "$$\\mathbf{L}_1 \\mathbf{M}=\\begin{bmatrix} \\mathbf{u}_1^\\top\\\\\\mathbf{u}_2^\\top - \\frac{u_{21}}{u_{11}}\\mathbf{u}_1^\\top  \\\\\\mathbf{u}_3^\\top - \\frac{u_{31}}{u_{11}}\\mathbf{u}_1^\\top  \\\\\\vdots\\\\ \\mathbf{u}_n^\\top - \\frac{u_{n1}}{u_{11}}\\mathbf{u}_1^\\top \\end{bmatrix} = \\begin{bmatrix} u_{11} & \\dots & &\\\\ 0&u_{22} - \\frac{u_{21}u_{11}}{u_{11}} &\\dots  &\\\\\\  0 && & \\\\\\vdots\\\\ 0 &\\dots & & \\end{bmatrix}$$"
   ]
  },
  {
   "cell_type": "markdown",
   "id": "a22bc0d8-efe9-4311-a661-e38ee360e9d5",
   "metadata": {},
   "source": [
    "如果我们很幸运的话，$u_{22} - \\frac{u_{21}u_{11}}{u_{11}}$ 以及类似的对角线元素都不等于零。但如果我们不幸的话，这些有可能是 0，或是一个很小的数，这时我们需要交换行数(把一个较大的数字换上来)，即将 $p$ 行 $q$ 行交换，具体我们可以定义矩阵 $\\mathbf{P}=(\\delta_{ij}-\\delta_{ip}\\delta_{jp}-\\delta_{iq}\\delta_{jq}+\\delta_{ip}\\delta_{jq}+\\delta_{iq}\\delta_{jp})_{ij}$, 注意 $\\mathbf{P}= \\mathbf{P}^\\top= \\mathbf{P}^{-1}$.\n",
    "\n",
    "利用 $\\mathbf{PLM}$ 我们可以继续，但是 $\\mathbf{PL}$ 不会是个下三角矩阵，这时候我们用一个技巧 $\\mathbf{PLM}=\\mathbf{PLPPM}=(\\mathbf{PLP})(\\mathbf{PM})$, $\\mathbf{PLP}$ 依旧是个下三角矩阵，而原本的矩阵则从$\\mathbf{M}$ 变成$\\mathbf{PM}$，用这方法我们可以得到$\\mathbf{LPM}=\\mathbf{U}$。注意到这过程中 $\\mathbf{L}$一直是可逆的，因此$\\mathbf{PM}=\\mathbf{L}^{-1}\\mathbf{U}$。Pivot"
   ]
  },
  {
   "cell_type": "markdown",
   "id": "f72a8392-f51a-4483-9a08-821e1231a53f",
   "metadata": {},
   "source": [
    "我们现在先考虑方阵的状况，我们注意到 $\\mathbf{U}$ 的对角线可能有零元素的出现。我们现在需要说明的是 $\\mathbf{U}$ 可逆，若且唯若 $\\mathbf{U}$对角线上没有任何零元素。首先我们证明若的部分，假设对角线上没有任何零元素，我们可以从最下一行出发，解决$\\mathbf{Ux}=\\mathbf{b},\\forall \\mathbf{b}$的问题，显然$\\mathbf{U}$可逆。唯若的部分，假设假设对角线上有任何零元素，不妨假设从下往上数的一个零元素在$i$行。我们依旧尝试由下而上解决 $\\mathbf{Ux}=\\mathbf{b}$的问题, 我们注意到 $b_{i+1}\\dots b_{n}$ 决定了$x_{i+1}\\dots x_{n}$, 由于对角线的第$i$行为$0$,所以$x_{i}$ 的取值无法改变$b_{i}$,由于这是上三角矩阵 $x_{1} \\dots x_{i-1}$ 的取值无法改变$b_{i}$,左手边是个固定的数，右手边是个变数，因此$\\mathbf{U}$不可逆。"
   ]
  },
  {
   "cell_type": "markdown",
   "id": "433fe33e-e76b-420e-8db8-c71232cb2dcc",
   "metadata": {},
   "source": [
    "## Chap6 行列式"
   ]
  },
  {
   "cell_type": "markdown",
   "id": "a88110b7-424f-426d-957a-f2558557784b",
   "metadata": {},
   "source": [
    "行列式是方阵 $n\\times n$ 的*多线性函数*，计作 $\\mathtt{Det}(\\mathbf{A})$，是个数字。从这个函数包含了关于方阵非常多的讯息。比方说当 $\\mathtt{Det}(\\mathbf{A}) \\neq0$，则 $\\mathbf{A}$ 可逆。由于我们可以把 $\\mathbf{A}$ 可以看成线性变换，则 $\\mathtt{Det}(\\mathbf{A})$ 可以看成一个单位体积在线性变换后的体积（参考对角线矩阵）。\n"
   ]
  },
  {
   "cell_type": "markdown",
   "id": "5959098a-2ba6-46bc-a7d3-22d05f7b6c8a",
   "metadata": {},
   "source": [
    "### 二维方阵的行列式\n",
    "二维方阵的行列式，以及逆矩阵可以这样定义\n",
    "$$\\mathbf{A}=\\begin{pmatrix}\n",
    "      a &b \\\\\n",
    "    c&d  \\\\\n",
    "\\end{pmatrix}$$ \n",
    "则，\n",
    "$$\\mathtt{Det}(\\mathbf{A})=ad-bc\\;,\\;\\mathbf{A}^{-1}=\\frac{1}{\\mathtt{Det}(\\mathbf{A})}\\begin{pmatrix}\n",
    "      d &-b \\\\\n",
    "    -c&a  \\\\ \n",
    "\\end{pmatrix} $$\n"
   ]
  },
  {
   "cell_type": "markdown",
   "id": "cee5221f-3227-4840-a6c6-1cadf51a2f69",
   "metadata": {},
   "source": [
    "### 关于行列式的一些规则\n",
    "==从规则一、规则二、规则三，可以推导出后续的所有规则，以及一个唯一的多线性函数==\n",
    "\n",
    "1. *单位矩阵的行列式为 1。\n",
    "2. *矩阵的行交换，则行列式变号。*（乘以 $-1$）\n",
    "3. *对于每行来说，固定其它行不变的情况下，行列式函数都是线性的。*（多线性）\n",
    "\t注意 $\\mathtt{Det}(2\\boldsymbol{I}_n) \\neq2 \\mathtt{Det}(\\boldsymbol{I}_n)=2$。\n",
    "\t$\\mathtt{Det}(2\\boldsymbol{I}_n)=2^n \\mathtt{Det}(\\boldsymbol{I}_n)=2^n$。\n",
    "\t注意到有规则1-3，则行列式可以暴力展开，再根据后面的规则对每个方阵得到**唯一定义**的行列式。（只是很难计算）\n",
    "4. 从2得知，*如果方阵有两行完全相同，则其行列式为0。*\n",
    "5. 由4与3得知，*在一行上，加上其他行向量的线性组合，不改变行列式的值*，这代表`高斯消去法`，或 `LU分解`都不影响行列式，是用来求行列式的好方法。\n",
    "6. 从5与4得知*矩阵如果有一行为0，其行列式为0。*\n",
    "7. 1与3得知*对角线矩阵的行列式是对角线元素相乘。*\n",
    "8. 由7与5,6得知*上三角矩阵的行列式是对角线元素相乘。*（从最后一行开始）\n",
    "9. 由8与5得知，*如果 $\\mathbf{A}$ 不可逆则 $\\mathtt{Det}(\\mathbf{A})=0$, 如果 $\\mathbf{A}$ 可逆则 $\\mathtt{Det}(\\mathbf{A})\\neq0$*. alt way have formula\n",
    "10. $\\mathtt{Det}(\\mathbf{AB})=\\mathtt{Det}(\\mathbf{A})\\mathtt{Det}(\\mathbf{B})$\n",
    "\t我们首先假设 $B$ 不可逆，显然 $AB$ 也不可逆，则$\\mathtt{Det}(AB)=\\mathtt{Det}(A)\\mathtt{Det}(B)=0$。\n",
    "\t若$B$ 可逆，则定义$D(A)=\\mathtt{Det}(AB)/\\mathtt{Det}(B)$, 我们检查 $D$ 满足规则1-3\n",
    "\t1. $D(\\boldsymbol{I})=1$\n",
    "\t2. 当 $A$ 的行交换时，$AB$ 行也交换了，因此$\\mathtt{Det}(AB)$ 变号了。\n",
    "\t3. 对于每行来说 $D(A)$ 也是线性的。\n",
    "11. $\\mathtt{Det}(A^T)=\\mathtt{Det}(A)$\n",
    "\t\t由8，我们知道 $\\mathtt{Det}(L^T)=\\mathtt{Det}(L)$,$\\mathtt{Det}(U^T)=\\mathtt{Det}(U)$。由2，$|\\mathtt{Det}(P)|=1$ 因为$PP^T=I$由10，$\\mathtt{Det}(P)=\\mathtt{Det}(P^T)$  从 `LU分解` 我们知道 $PA=LU$, $A^TP^T=U^TL^T$,由 10以及以上论述，可以得知$\\mathtt{Det}(A^T)=\\mathtt{Det}(A)$ 。\n",
    "12. 从11，我们得知行列式函数对于列也有规则1-3。\n"
   ]
  },
  {
   "cell_type": "markdown",
   "id": "b0794b37-c256-433d-a593-4957dcc89346",
   "metadata": {},
   "source": [
    "### 关于行列式的计算方式\n",
    "\n",
    " 我们用 $2\\times 2$,以及 $3\\times 3$ 来说明一下。令\n",
    "\t $$A=\\begin{pmatrix}a &b \\\\c&d  \\\\\\end{pmatrix}$$\n",
    "\t则有\n",
    "\t\t$$\\mathtt{Det}(A)=\\mathtt{Det}\\begin{pmatrix}a&0\\\\c&d\\\\\\end{pmatrix}+\\mathtt{Det}\\begin{pmatrix}0&b\\\\c&d\\\\\\end{pmatrix}$$\n",
    "\t$$=\\mathtt{Det}\\begin{pmatrix}a&0\\\\c&0\\\\\\end{pmatrix}+\\mathtt{Det}\\begin{pmatrix}a&0\\\\0&d\\\\\\end{pmatrix}+\\mathtt{Det}\\begin{pmatrix}0&b\\\\c&0\\\\\\end{pmatrix}+\\mathtt{Det}\\begin{pmatrix}0&b\\\\0&d\\\\\\end{pmatrix}$$\n",
    "\t$$=\\mathtt{Det}\\begin{pmatrix}a&0\\\\0&d\\\\\\end{pmatrix}+\\mathtt{Det}\\begin{pmatrix}0&b\\\\c&0\\\\\\end{pmatrix}=ad-bc$$\n",
    "\t$3\\times 3$ 的例子\n",
    "    \n"
   ]
  },
  {
   "cell_type": "markdown",
   "id": "5ef23fc8-33c4-4f67-b399-d85b791d2e94",
   "metadata": {},
   "source": [
    "\n",
    "$$A=\\begin{pmatrix}\n",
    "      a_{11} & a_{12}& a_{13} \\\\\n",
    "    a_{21}&a_{22}& a_{23}  \\\\\n",
    " a_{31}&a_{32}& a_{33}\n",
    "\t\\end{pmatrix}$$\n",
    "则有\n",
    "\t$$\\mathtt{Det}(A)=\\mathtt{Det}\\begin{pmatrix}a_{11} & 0& 0 \\\\    a_{21}&a_{22}& a_{23}  \\\\ a_{31}&a_{32}& a_{33}\t\\end{pmatrix}+\\mathtt{Det}\\begin{pmatrix}      0 & a_{12}& 0 \\\\ a_{21}&a_{22}& a_{23}  \\\\ a_{31}&a_{32}& a_{33}\t\\end{pmatrix}+\\mathtt{Det}\\begin{pmatrix}0 & 0& a_{13} \\\\ a_{21}&a_{22}& a_{23}  \\\\ a_{31}&a_{32}& a_{33}\\end{pmatrix}$$\n",
    "\t\t"
   ]
  },
  {
   "cell_type": "markdown",
   "id": "7f92e089-9801-416c-85f8-226e12a8fd25",
   "metadata": {},
   "source": [
    "\n",
    "我们把其中的一项拿出来针对列展开，则可以清楚看到\n",
    "\t\n",
    "$$\\mathtt{Det}\\begin{pmatrix}0 & a_{12}& 0 \\\\\n",
    "    a_{21}&a_{22}& a_{23}  \\\\ a_{31}&a_{32}& a_{33}\n",
    "\\end{pmatrix}=\\mathtt{Det}\\begin{pmatrix}\n",
    "      0 & a_{12}& 0 \\\\\n",
    "    a_{21}&0& a_{23}  \\\\ a_{31}&0& a_{33}\n",
    "\\end{pmatrix}+\\mathtt{Det}\\begin{pmatrix}\n",
    "      0 & 0& 0 \\\\\n",
    "    a_{21}&a_{22}& a_{23}  \\\\ a_{31}&0& a_{33}\n",
    "\\end{pmatrix}+\\mathtt{Det}\\begin{pmatrix}\n",
    "      0 & 0& 0 \\\\\n",
    "    a_{21}&0& a_{23}  \\\\ a_{31}&a_{32}& a_{33}\n",
    "\\end{pmatrix}$$\n",
    " $$=\\mathtt{Det}\\begin{pmatrix}\n",
    "      0 & a_{12}& 0 \\\\\n",
    "    a_{21}&0& a_{23}  \\\\ a_{31}&0& a_{33}\n",
    "\\end{pmatrix}=-1^{1+2}\\times a_{12}\\times(a_{21}a_{33}-a_{23}a_{31})$$ "
   ]
  },
  {
   "cell_type": "markdown",
   "id": "43a8dcad-429f-4b9c-9488-04a2a49ac184",
   "metadata": {},
   "source": [
    "由此可以看出 $\\mathtt{Det}(A)$ 的两个公式\n",
    "1. $P=(\\alpha,\\beta,\\dots,\\omega)$ 是一个 $n$ 个不同物体的排列，则$$\\mathtt{Det}(A)=\\sum_{P}\\mathtt{Det}(P)a_{1\\alpha}a_{2\\beta}\\dots a_{n\\omega}  $$\n",
    "2.令 $M_{ij}$ 为 $A$ 矩阵去掉 $i$ 排，$j$ 行的 $n-1$ 阶矩阵。则 $C_{ij}=(-1)^{i+j}M_{ij}$ 且 \n",
    "$$\\mathtt{Det}(A)=a_{i1}C_{i1}+a_{i2}C_{i2}+\\dots+a_{in}C_{in}$$"
   ]
  },
  {
   "cell_type": "markdown",
   "id": "0a72a705-d2fd-4dbc-9817-c4394e76a2a2",
   "metadata": {},
   "source": [
    "### Cramer 公式\n",
    "Cramer 公式是计算方程组解答的一个公式，需要的计算量高，矩阵过大时没什么用，数学上表示的挺漂亮的。\n",
    "\n",
    "假设$\\mathtt{Det}(A)\\neq0$,$A\\boldsymbol{\\vec x}=\\boldsymbol{\\vec b}$ 则我们可以把 $A$ 的第 $i$ 个列向量换成 $\\boldsymbol{\\vec b}$ 得到 $B_i$。则我们可以解出 $\\vec x$, 其中 $$x_i=\\frac{\\mathtt{Det}(B_i)}{\\mathtt{Det}(A)}$$\n",
    "我们稍微叙述下证明的思路：\n",
    "\t$$A\\begin{pmatrix}\n",
    "      x_{1} & 0& 0 \\\\\n",
    "    x_{2}&1& 0  \\\\\n",
    " x_{3}&0& 1\n",
    "\t\\end{pmatrix}=\\begin{pmatrix}\n",
    "      b_{1} & a_{12}& a_{13} \\\\\n",
    "    b_{2}&a_{22}& a_{23}  \\\\\n",
    " b_{3}&a_{32}& a_{33}\n",
    "\t\\end{pmatrix}$$ 两边同取 $\\mathtt{Det}$ 则有 $\\mathtt{Det}(A)x_1=\\mathtt{Det}(B_1)$, 稍微变化一下中间乘的矩阵，可以得到 $\\mathtt{Det}(A)x_i=\\mathtt{Det}(B_i)$\n",
    "\n",
    "### Cofactor 与逆矩阵\n",
    "类似的我们可以计算$AC^T=\\mathtt{Det}(A)\\boldsymbol{I}$，其中$C=(\\mathtt{Det}(C_{ij}))$因此我们有$A^{-1}=C^T/\\mathtt{Det}(A)$。 \n",
    "\n",
    "\n",
    "### 行列式与体积\n",
    "这里的关键是，我们要证明高维空间的平行多面体的体积具有行列式的规则一、二、三。\n",
    "规则一是单位体积没什么问题。规则二是扩充体积，使其有正负号，也没什么问题。规则三有两部分第一部分是某部分向量放大缩小几倍，体积也会放大缩小几倍几倍，这也没问题。真正比较不直觉的是向量合成问题。这时候我们考虑到其他不动的行空间维数是 $n-1$ 维的，有效的向量其实是垂直于 $n-1$ 维子空间的部分，因此可以相加减。所以规则一、二、三都成立。之后我们学会`SVD` 分解之后可以更好看清楚这点。"
   ]
  },
  {
   "cell_type": "code",
   "execution_count": null,
   "id": "bb3ae3d9-d9e3-400e-999b-0458e79a450f",
   "metadata": {},
   "outputs": [],
   "source": []
  }
 ],
 "metadata": {
  "kernelspec": {
   "display_name": "Python 3 (ipykernel)",
   "language": "python",
   "name": "python3"
  },
  "language_info": {
   "codemirror_mode": {
    "name": "ipython",
    "version": 3
   },
   "file_extension": ".py",
   "mimetype": "text/x-python",
   "name": "python",
   "nbconvert_exporter": "python",
   "pygments_lexer": "ipython3",
   "version": "3.12.1"
  }
 },
 "nbformat": 4,
 "nbformat_minor": 5
}
