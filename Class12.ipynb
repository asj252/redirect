{
 "cells": [
  {
   "cell_type": "markdown",
   "id": "87fd90c0-9da0-4340-8ca5-4d515d2a8da5",
   "metadata": {},
   "source": [
    "# Linear Algebra Crash Course (with Python) Class 12\n"
   ]
  },
  {
   "attachments": {},
   "cell_type": "markdown",
   "id": "30735ff9-ee24-4e67-b953-a02128a1e883",
   "metadata": {
    "tags": []
   },
   "source": [
    "## Chap 10 总结 & 复习\n",
    "\n",
    "# 概论\n",
    "\n",
    "线性代数总结下来是讨论两大问题，一个是 $\\mathbf{Mx}=\\mathbf{b}$ 的方程式求解问题，一个是 $\\mathbf{Mv}=\\sigma \\mathbf{v}$ 的特征值、特征向量问题。两个问题又被行列式串联起来，如果有 $\\mathbf{M}$是方阵以及，$\\mathtt{det}(\\mathbf{M})=0$，则有非零向量$v$, 使得 $\\mathbf{Mv}=\\mathbf{0}$。 \n",
    "\n",
    "透过特征方程式 $\\mathtt{det}(\\mathbf{M-\\lambda})=0$求解 (代数基本定理),我们可以得到一连串行列式为零的方阵，并且尝试获得特征值、特征向量。 \n",
    "\n",
    "特征值，与特征向量在解偏微分方程(PDE，Partial Differential Equation)非常有用，还有其它种种方面，问题在于并不是所有的方阵，都有完整的特征向量分解(特征值为复数是另一较小问题)，因此不具有普遍性。\n",
    "\n",
    "对称矩阵则解决了完整的特征向量分解这个问题，而且还额外为特征向量提供正交性，在 PDE 也是非常有用，但由于要求对称性，所以局限性更高了。\n",
    "\n",
    "（*）奇异值分解（以及伪逆）则是对所有的矩阵都有效，并且有奇异值为实数，基底变换为正交矩阵等优良性质，奇异值分解的计算依赖于对称矩阵的计算，事实上可以看作对称矩阵特征分解的附带结论，奇异值分解的缺点在需要解特征方程式，手算较为复杂。\n",
    "\n",
    "（*）伪逆是基于奇异值分解的理论成果，完美解决了在欧式距离下的方程式求最佳解或是最佳近似解问题，缺点在于需要解特征方程式（或求不一定存在的逆矩阵），手算较为复杂。\n",
    "\n",
    "## 线性映射\n",
    "用线性映射的观点，可以比较好的诠释 方程式求解以及特征值、特征向量的问题。我们把一个 $m\\times n$ 的矩阵 $\\mathbf{M}$ 看成 $\\mathbb{R}^n \\rightarrow \\mathbb{R}^m$ 的线性映射，我们则有 $\\mathtt{Im}(\\mathbf{M})$，以及 $\\mathtt{ker}(\\mathbf{M})$ 等观念，以及相关关于维数的定理。\n",
    "注意 $\\mathbf{x}\\in \\mathtt{ker}(\\mathbf{M}) \\Longleftrightarrow \\mathbf{Mx}= \\mathbf{0}$。以及 $\\mathbf{b}\\in \\mathtt{Im}(\\mathbf{M}) \\Longleftrightarrow \\mathbf{Mx}= \\mathbf{b}$有解。 \n",
    "\n",
    "在有限维的情况下，我们可以证明 $\\mathbb{R}^n \\rightarrow \\mathbb{R}^n$ 的映射 $1-1$ 必然导致 onto，onto 必然导致 $1-1$。并由此证明$\\mathbf{A},\\mathbf{B}$ 都是 $n$ 维矩阵的情况下,若 $\\mathbf{AB}=\\mathbf{I}$ 则 $\\mathbf{BA}=\\mathbf{I}$。\n",
    "\n",
    "\n"
   ]
  },
  {
   "cell_type": "markdown",
   "id": "98566acd-9244-41e2-8b4e-996d2db46674",
   "metadata": {},
   "source": [
    "## 基础行变换\n",
    "初中数学的消元法(高斯消去法)，$LU$分解，以增广矩阵求取逆矩阵，行列式值的计算等等，都可以看成对原矩阵或是增广矩阵进行基础行变换操作，这里的核心是基础行变换操作是**可逆的**，**可以看成矩阵乘法**，大部分操作可以看成乘与一个行列式为1的**矩阵**，偶尔是-1以及其它，所以不会改变方程式的可解性，大致上不会改变原方阵的行列式。\n",
    "\n",
    "基础列变换用的比较少。"
   ]
  },
  {
   "cell_type": "markdown",
   "id": "25ae02e1-cdf8-4b66-aca2-20267c4a53cb",
   "metadata": {},
   "source": [
    "## 列操作\n",
    "操作列则不用这么麻烦，只需要一个向量就能操作，当然其结果也是一个向量。我们这里比较常做的事情是收集一堆列操作的结果成为一个矩阵。例如$\\mathbf{Mp}_i= \\sigma_i \\mathbf{p}_i$，收集起来我们则有  $$\\mathbf{MP}= \\mathbf{P\\Sigma}$$\n",
    "\n"
   ]
  },
  {
   "cell_type": "markdown",
   "id": "f918d47e-479d-49ac-9bf0-236db90be110",
   "metadata": {},
   "source": [
    "## 二次型\n",
    "二次型，可以说是对称方阵的一个应用，比如说我们有 $x^2+2xy+y^2+2xz+ z^2$, 其对应的对称方阵即为:\n",
    "$\\begin{bmatrix}\n",
    "      1 & 1 & 1 \\\\\n",
    "    1&1 &0 \\\\\n",
    "\t1&0&1 \\end{bmatrix}$\n",
    "显然\n",
    "$$\\begin{bmatrix} x& y & z\\end{bmatrix}\\begin{bmatrix}\n",
    "      1 & 1 & 1 \\\\\n",
    "    1&1 &0 \\\\\n",
    "\t1&0&1 \\end{bmatrix} \\begin{bmatrix} x\\\\ y \\\\ z\\end{bmatrix}=x^2+2xy+y^2+2xz+ z^2$$"
   ]
  },
  {
   "cell_type": "code",
   "execution_count": 4,
   "id": "fa86b2c4-d6d5-4c0e-a520-8222f6a9c92e",
   "metadata": {},
   "outputs": [],
   "source": [
    "import sympy as sp\n",
    "def print_nice(matrix):\n",
    "  return sp.Matrix(matrix)"
   ]
  },
  {
   "cell_type": "code",
   "execution_count": 23,
   "id": "13a8f637-8492-40ab-9beb-001d5a875b08",
   "metadata": {},
   "outputs": [
    {
     "data": {
      "text/latex": [
       "$\\displaystyle \\left[\\begin{matrix}2 - \\lambda & 2 & -1\\\\2 & - \\lambda - 1 & 2\\\\-1 & 2 & 2 - \\lambda\\end{matrix}\\right]$"
      ],
      "text/plain": [
       "Matrix([\n",
       "[2 - lamda,          2,        -1],\n",
       "[        2, -lamda - 1,         2],\n",
       "[       -1,          2, 2 - lamda]])"
      ]
     },
     "execution_count": 23,
     "metadata": {},
     "output_type": "execute_result"
    }
   ],
   "source": [
    "# ($5 例题14，P107)\n",
    "M = sp.Matrix([[2,2,-1],[2,-1,2],[-1,2,2]])\n",
    "lamda = sp.symbols('lamda')\n",
    "# lambda is a conserved word in python\n",
    "N = M- lamda *sp.eye(3)\n",
    "print_nice(N)\n"
   ]
  },
  {
   "cell_type": "code",
   "execution_count": 11,
   "id": "554e3bf9-ff24-4217-8df8-dccc835dbe8c",
   "metadata": {},
   "outputs": [
    {
     "data": {
      "text/latex": [
       "$\\displaystyle - \\lambda^{3} + 3 \\lambda^{2} + 9 \\lambda - 27$"
      ],
      "text/plain": [
       "-lamda**3 + 3*lamda**2 + 9*lamda - 27"
      ]
     },
     "execution_count": 11,
     "metadata": {},
     "output_type": "execute_result"
    }
   ],
   "source": [
    "N.det()"
   ]
  },
  {
   "cell_type": "code",
   "execution_count": 12,
   "id": "f0b82f55-6dd7-4f08-8a4a-cc962a0fef50",
   "metadata": {},
   "outputs": [
    {
     "data": {
      "text/plain": [
       "[-3, 3]"
      ]
     },
     "execution_count": 12,
     "metadata": {},
     "output_type": "execute_result"
    }
   ],
   "source": [
    "sp.solve(N.det())"
   ]
  },
  {
   "cell_type": "code",
   "execution_count": 17,
   "id": "4b936a9c-6dc4-43c6-baad-c4b2cdbeb597",
   "metadata": {},
   "outputs": [
    {
     "data": {
      "text/latex": [
       "$\\displaystyle \\left[\\begin{matrix}5 & 2 & -1\\\\2 & 2 & 2\\\\-1 & 2 & 5\\end{matrix}\\right]$"
      ],
      "text/plain": [
       "Matrix([\n",
       "[ 5, 2, -1],\n",
       "[ 2, 2,  2],\n",
       "[-1, 2,  5]])"
      ]
     },
     "execution_count": 17,
     "metadata": {},
     "output_type": "execute_result"
    }
   ],
   "source": [
    "N1=N.subs('lamda',-3)\n",
    "N2=N.subs('lamda',3)\n",
    "print_nice(N1)"
   ]
  },
  {
   "cell_type": "markdown",
   "id": "2f6e998f-4e03-4f1b-b500-4c121fbe23d5",
   "metadata": {},
   "source": [
    "观察一下这矩阵 rank 不会是 1，同时 $\\begin{bmatrix} 1\\\\-2 \\\\1 \\end{bmatrix}$ 在它的核 $\\mathtt{kernel}$里面。"
   ]
  },
  {
   "cell_type": "code",
   "execution_count": 19,
   "id": "7558f5ec-4179-4319-af92-f6a7aa34f1b6",
   "metadata": {},
   "outputs": [
    {
     "data": {
      "text/latex": [
       "$\\displaystyle \\left[\\begin{matrix}-1 & 2 & -1\\\\2 & -4 & 2\\\\-1 & 2 & -1\\end{matrix}\\right]$"
      ],
      "text/plain": [
       "Matrix([\n",
       "[-1,  2, -1],\n",
       "[ 2, -4,  2],\n",
       "[-1,  2, -1]])"
      ]
     },
     "execution_count": 19,
     "metadata": {},
     "output_type": "execute_result"
    }
   ],
   "source": [
    "print_nice(N2)"
   ]
  },
  {
   "cell_type": "markdown",
   "id": "ffeb27e4-3011-440e-bc4b-10e9c6a75e87",
   "metadata": {},
   "source": [
    "观察一下这矩阵 rank 是 1，因此 $\\mathtt{kernel}$ 有二维，我们可以取 $\\begin{bmatrix} 2\\\\1 \\\\0 \\end{bmatrix}$, $\\begin{bmatrix} 0\\\\1 \\\\2 \\end{bmatrix}$ 注意这跟前一个特征向量，天生是垂直的，因此我们只需操作一下，使得这两个也互相垂直。"
   ]
  },
  {
   "cell_type": "markdown",
   "id": "e0415daa-488d-4c3b-b34e-427c6e791476",
   "metadata": {},
   "source": [
    "不妨修改第二个向量为 $\\begin{bmatrix} 0\\\\1 \\\\2 \\end{bmatrix} +k \\begin{bmatrix} 2\\\\1 \\\\0 \\end{bmatrix}$, 考虑一下与第一个向量内积并使其互相垂直，得到 $5k+1=0$, $k=-\\frac{1}{5}$. 因此第二个向量为 $\\begin{bmatrix} -\\frac{2}{5} \\\\ \\frac{4}{5} \\\\ 2 \\end{bmatrix}$"
   ]
  },
  {
   "cell_type": "code",
   "execution_count": 26,
   "id": "f62ec631-70f8-4724-bbf1-52681c0631c7",
   "metadata": {},
   "outputs": [],
   "source": [
    "v1= sp.Matrix([1,-2,1])\n",
    "v2= sp.Matrix([2,1,0])\n",
    "#v3 = sp.Matrix([-2/5,4/5,2])\n",
    "v3 = sp.Matrix([sp.Rational(-2, 5),sp.Rational(4, 5),2])"
   ]
  },
  {
   "cell_type": "code",
   "execution_count": 33,
   "id": "a8637830-f3cb-4e48-af84-dbba540686e5",
   "metadata": {},
   "outputs": [
    {
     "data": {
      "text/latex": [
       "$\\displaystyle \\left[\\begin{matrix}\\frac{\\sqrt{6}}{6} & \\frac{2 \\sqrt{5}}{5} & - \\frac{\\sqrt{30}}{30}\\\\- \\frac{\\sqrt{6}}{3} & \\frac{\\sqrt{5}}{5} & \\frac{\\sqrt{30}}{15}\\\\\\frac{\\sqrt{6}}{6} & 0 & \\frac{\\sqrt{30}}{6}\\end{matrix}\\right]$"
      ],
      "text/plain": [
       "Matrix([\n",
       "[ sqrt(6)/6, 2*sqrt(5)/5, -sqrt(30)/30],\n",
       "[-sqrt(6)/3,   sqrt(5)/5,  sqrt(30)/15],\n",
       "[ sqrt(6)/6,           0,   sqrt(30)/6]])"
      ]
     },
     "execution_count": 33,
     "metadata": {},
     "output_type": "execute_result"
    }
   ],
   "source": [
    "v1= v1/v1.norm()\n",
    "v2= v2/v2.norm()\n",
    "v3= v3/v3.norm()\n",
    "P = sp.BlockMatrix([v1,v2,v3])\n",
    "print_nice(P)"
   ]
  },
  {
   "cell_type": "code",
   "execution_count": 34,
   "id": "41040103-d795-46b1-ab2d-308d96ae0fee",
   "metadata": {},
   "outputs": [
    {
     "data": {
      "text/latex": [
       "$\\displaystyle \\left[\\begin{matrix}1 & 0 & 0\\\\0 & 1 & 0\\\\0 & 0 & 1\\end{matrix}\\right]$"
      ],
      "text/plain": [
       "Matrix([\n",
       "[1, 0, 0],\n",
       "[0, 1, 0],\n",
       "[0, 0, 1]])"
      ]
     },
     "execution_count": 34,
     "metadata": {},
     "output_type": "execute_result"
    }
   ],
   "source": [
    "print_nice(P*P.T)"
   ]
  },
  {
   "cell_type": "code",
   "execution_count": 35,
   "id": "49e55c3a-af82-4b54-b3b7-88f2db33573e",
   "metadata": {},
   "outputs": [
    {
     "data": {
      "text/latex": [
       "$\\displaystyle \\left[\\begin{matrix}- \\frac{\\sqrt{6}}{2} & \\frac{6 \\sqrt{5}}{5} & - \\frac{\\sqrt{30}}{10}\\\\\\sqrt{6} & \\frac{3 \\sqrt{5}}{5} & \\frac{\\sqrt{30}}{5}\\\\- \\frac{\\sqrt{6}}{2} & 0 & \\frac{\\sqrt{30}}{2}\\end{matrix}\\right]$"
      ],
      "text/plain": [
       "Matrix([\n",
       "[-sqrt(6)/2, 6*sqrt(5)/5, -sqrt(30)/10],\n",
       "[   sqrt(6), 3*sqrt(5)/5,   sqrt(30)/5],\n",
       "[-sqrt(6)/2,           0,   sqrt(30)/2]])"
      ]
     },
     "execution_count": 35,
     "metadata": {},
     "output_type": "execute_result"
    }
   ],
   "source": [
    "print_nice(M*P)"
   ]
  },
  {
   "cell_type": "code",
   "execution_count": 36,
   "id": "f6e47411-e248-470e-9a16-e803a26d10c9",
   "metadata": {},
   "outputs": [
    {
     "data": {
      "text/latex": [
       "$\\displaystyle \\left[\\begin{matrix}-3 & 0 & 0\\\\0 & 3 & 0\\\\0 & 0 & 3\\end{matrix}\\right]$"
      ],
      "text/plain": [
       "Matrix([\n",
       "[-3, 0, 0],\n",
       "[ 0, 3, 0],\n",
       "[ 0, 0, 3]])"
      ]
     },
     "execution_count": 36,
     "metadata": {},
     "output_type": "execute_result"
    }
   ],
   "source": [
    "print_nice(P.inv()*M*P)"
   ]
  },
  {
   "cell_type": "markdown",
   "id": "ece43ddf-ee50-4118-badd-5da21222fc21",
   "metadata": {},
   "source": [
    "## Cramer rule 补充\n",
    "\n",
    "回忆 Cramer rule 如下：\n",
    "\n",
    "假设$\\mathtt{det}(\\mathbf{M})\\neq0$,$\\mathbf{Mx}=\\mathbf{b}_j$ 则我们可以把 $\\mathbf{M}$ 的第 $i$ 个列向量换成 $\\mathbf{b}_j$ 得到 $\\mathbf{B}_{ij}$。则我们可以解出 $\\mathbf{x}_j$, 其中 $$x_{ij}=\\frac{\\mathtt{det}(\\mathbf{B}_{ij})}{\\mathtt{det}(\\mathbf{M})}$$\n",
    "我们稍微叙述下证明的思路：\n",
    "假设 $\\mathbf{M}$ 为  $3 \\times 3$ 可逆矩阵\n",
    "\t$$\\mathbf{M}\\begin{bmatrix}\n",
    "      x_{1j} & 0& 0 \\\\\n",
    "    x_{2j}&1& 0  \\\\\n",
    " x_{3j}&0& 1\n",
    "\t\\end{bmatrix}=\\begin{bmatrix}\n",
    "      b_{1j} & m_{12}& m_{13} \\\\\n",
    "    b_{2j}&m_{22}& m_{23}  \\\\\n",
    " b_{3j}&m_{32}& m_{33}\n",
    "\t\\end{bmatrix}$$ 两边同取 $\\mathtt{det}$ 则有 $\\mathtt{det}(\\mathbf{M})x_{1j}=\\mathtt{det}(\\mathbf{B}_{1j})$, 稍微变化一下中间乘的矩阵，可以得到 $\\mathtt{det}(\\mathbf{M})x_{ij}=\\mathtt{det}(\\mathbf{B}_{ij})$\n",
    "\n",
    "回忆完毕。\n",
    "\n",
    "\n",
    "现在令 $\\mathbf{b}_1 = \\begin{bmatrix}1 \\\\ 0 \\\\ 0 \\end{bmatrix}$, $\\mathbf{b}_2 = \\begin{bmatrix}0 \\\\ 1 \\\\ 0 \\end{bmatrix}$, $\\mathbf{b}_3 = \\begin{bmatrix}0 \\\\ 0 \\\\ 1 \\end{bmatrix}$, 对应的 $(x_{ij})=\\mathbf{M}^{-1}$"
   ]
  },
  {
   "cell_type": "code",
   "execution_count": null,
   "id": "212bf4ce-acad-44e0-9e69-88521e3296bc",
   "metadata": {},
   "outputs": [],
   "source": []
  },
  {
   "cell_type": "code",
   "execution_count": null,
   "id": "31d3f82b-f273-420b-928d-a584ccff3197",
   "metadata": {},
   "outputs": [],
   "source": []
  }
 ],
 "metadata": {
  "kernelspec": {
   "display_name": "Python 3 (ipykernel)",
   "language": "python",
   "name": "python3"
  },
  "language_info": {
   "codemirror_mode": {
    "name": "ipython",
    "version": 3
   },
   "file_extension": ".py",
   "mimetype": "text/x-python",
   "name": "python",
   "nbconvert_exporter": "python",
   "pygments_lexer": "ipython3",
   "version": "3.12.1"
  }
 },
 "nbformat": 4,
 "nbformat_minor": 5
}
