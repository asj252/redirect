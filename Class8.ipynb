{
 "cells": [
  {
   "cell_type": "markdown",
   "id": "87fd90c0-9da0-4340-8ca5-4d515d2a8da5",
   "metadata": {},
   "source": [
    "# Linear Algebra Crash Course (with Python) Class 8\n"
   ]
  },
  {
   "cell_type": "markdown",
   "id": "30735ff9-ee24-4e67-b953-a02128a1e883",
   "metadata": {
    "tags": []
   },
   "source": [
    "## Chap 7 conti.\n",
    "\n",
    "### 函数 1-1 的定义:\n",
    "令 $f$ 为一个函数，$C$, $D$ 为两个集合，$f:C\\rightarrow D$ 是 1-1 ,若且唯若 $\\forall x,y\\in C, x\\neq y\\Rightarrow f(x)\\neq f(y)$。开始不一样的东西，结果也不一样。\n",
    "\n",
    "### 函数 onto 的定义:\n",
    "令 $f$ 为一个函数，$C$, $D$ 为两个集合，$f:C\\rightarrow D$ 是 onto ,若且唯若 $\\forall y \\in D, \\Rightarrow \\exists x \\in C:f(x)=y$。我们将 $x$ 称作为 $y$ 的 pre-image, $y$ 称作为 $x$ 的 image(像)\n",
    "\n",
    "### 有限维向量空间的自同态(endomorphism)定理：\n",
    "令$\\mathbf{M}$ 是$\\mathbb{R}^n \\rightarrow \\mathbb{R}^n$ 的一个线性映射，则我们有 $\\mathbf{M}$ 是1-1 $\\Leftrightarrow \\mathbf{M}$ 是onto。\n",
    "\n",
    "证明：$\\mathbf{M}$ 是1-1 则 $\\mathtt{Ker}(\\mathbf{M})=\\{\\phi\\} \\Rightarrow dim(\\mathtt{Ker}(\\mathbf{M}))=0$。$\\because dim(\\mathtt{Ker}(\\mathbf{M}))+dim(\\mathtt{Im}(\\mathbf{M}))=n \\Rightarrow dim(\\mathtt{Im}(\\mathbf{M}))=n \\Rightarrow \\mathtt{Im}(\\mathbf{M})=\\mathbb{R}^n$。\n",
    "\n",
    "$\\mathbf{M}$ 是 onto 则 $\\mathtt{Im}(\\mathbf{M})=\\mathbb{R}^n \\Rightarrow dim(\\mathtt{Im}(\\mathbf{M}))=n$。$\\because dim(\\mathtt{Ker}(\\mathbf{M}))+dim(\\mathtt{Im}(\\mathbf{M}))=n \\Rightarrow dim(\\mathtt{Ker}(\\mathbf{M}))=0 \\Rightarrow \\mathtt{Ker}(\\mathbf{M})=\\{\\phi\\}$。"
   ]
  },
  {
   "cell_type": "markdown",
   "id": "8b6309d7-e96e-4ff9-9bd0-3ffaa163c80e",
   "metadata": {},
   "source": [
    "单位正交矩阵 $\\mathbf{U}$ 是典型的  1-1 onto,我们有$\\mathbf{U}^\\top \\mathbf{U}=\\mathbf{I}$, 我们称之为自同构。 "
   ]
  },
  {
   "cell_type": "markdown",
   "id": "ed24fe3a-d841-4edd-b43c-cf9aefc1d6de",
   "metadata": {},
   "source": [
    "### 无限维线性空间的左逆右逆反例\n",
    "我们考虑 $\\mathbb{R}^\\infty$,以及它的一组基底$\\{ \\mathbf{e}_n:n\\in \\mathbb{N}\\}_\\infty$。\n",
    "\n",
    "我们定义以下线性变换 \n",
    "\n",
    "$\\mathbf{M}:\\mathbf{M} \\mathbf{e}_n = \\mathbf{e}_{2n}$,\n",
    "\n",
    "$\\mathbf{O}:\\left\\{\n",
    "\\mathbf{O} \\mathbf{e}_{2n+1} = 0 \\\\\n",
    "\\mathbf{O} \\mathbf{e}_{2n} = \\mathbf{e}_{n}\n",
    "\\right.$ , 其中 $n \\in \\mathbb{N}$\n",
    "\n",
    "显然 $\\mathbf{MO}\\neq \\mathbf{OM}= \\mathbf{I}_{\\infty}$"
   ]
  },
  {
   "cell_type": "markdown",
   "id": "ab7774d9-5f6c-4d9e-b825-5522ef087913",
   "metadata": {},
   "source": [
    "## 线性方程组的解\n",
    "*例子1：*我们考虑 $\\mathbf{D}_1:\\mathbb{R}^5 \\rightarrow \\mathbb{R}^4$ \n",
    "$$\\mathbf{D}_1 = \\begin{bmatrix} 1 &0 &0 &0&0\\\\ 0 &1 &0 &0&0\\\\\\  0 &0&1 &0&0 \\\\ 0 &0 &0 &1&0 \\end{bmatrix}$$\n",
    "\n",
    "$dim(\\mathtt{Ker}(\\mathbf{D}_1))=1$ , $dim(\\mathtt{Im}(\\mathbf{D}_1))=4$. **$\\mathbf{D}_1$ is onto(满射)**.\n",
    "\n",
    "因此 $\\mathbf{D}_1\\mathbf{x}=\\mathbf{b}$, 有解，且有无穷多组解。"
   ]
  },
  {
   "cell_type": "markdown",
   "id": "52267dff-368e-42c1-b6f7-0e7ce646079e",
   "metadata": {},
   "source": [
    "*例子2：*我们考虑 $\\mathbf{D}_2:\\mathbb{R}^4 \\rightarrow \\mathbb{R}^5$ \n",
    "$$\\mathbf{D}_2 = \\begin{bmatrix} 1 &0 &0 &0\\\\ 0 &1 &0 &0\\\\\\  0 &0&1 &0 \\\\ 0 &0 &0 &1 \\\\ 0 &0 &0 &0 \\end{bmatrix}$$\n",
    "\n",
    "$dim(\\mathtt{Ker}(\\mathbf{D}_2))=0$, **$\\mathbf{D}_2$ is 1-1(单射)**. $dim(\\mathtt{Im}(\\mathbf{D}_2))=4$. \n",
    "\n",
    "因此 $\\mathbf{D}_2\\mathbf{x}=\\mathbf{b}$, 不一定有解，如果有解只有一组解。"
   ]
  },
  {
   "cell_type": "markdown",
   "id": "222f3308-66df-4bf8-bdcf-c8b75f5b890a",
   "metadata": {},
   "source": [
    "*例子3：*我们考虑 $\\mathbf{D}_3:\\mathbb{R}^4 \\rightarrow \\mathbb{R}^5$ \n",
    "$$\\mathbf{D}_3 = \\begin{bmatrix} 1 &0 &0 &0\\\\ 0 &1 &0 &0\\\\\\  0 &0&1 &0 \\\\ 0 &0 &0 &0 \\\\ 0 &0 &0 &0 \\end{bmatrix}$$\n",
    "\n",
    "$dim(\\mathtt{Ker}(\\mathbf{D}_3))=1$. $dim(\\mathtt{Im}(\\mathbf{D}_3))=3$. \n",
    "\n",
    "因此 $\\mathbf{D}_3\\mathbf{x}=\\mathbf{b}$, 不一定有解，如果有解有无穷多组解。"
   ]
  },
  {
   "cell_type": "markdown",
   "id": "9745e7c2-1cc7-4ff9-9bec-167b1f727e2b",
   "metadata": {},
   "source": [
    "*例子4：*我们考虑 $\\mathbf{D}_4:\\mathbb{R}^4 \\rightarrow \\mathbb{R}^5$ 是一个对角线矩阵 \n",
    "$\\mathbf{U}:\\mathbb{R}^5 \\rightarrow \\mathbb{R}^5$,\n",
    "$\\mathbf{V}:\\mathbb{R}^4 \\rightarrow \\mathbb{R}^4$ 分别是单位正交矩阵。\n",
    "\n",
    "我们现在考虑 $\\mathbf{M}_4 \\mathbf{x}= \\mathbf{b}$,其中 $\\mathbf{M}_4 = \\mathbf{U}\\mathbf{D}_4\\mathbf{V}^\\top$.\n",
    "\n",
    "令$\\mathbf{x}^{\\prime}=\\mathbf{V}^\\top \\mathbf{x}$\n",
    ", $\\mathbf{b}^{\\prime}=\\mathbf{U}^\\top \\mathbf{b}$ 可知\n",
    "$\\mathbf{D}_4\\mathbf{x}^{\\prime}=\\mathbf{b}^{\\prime}$.\n",
    "由于 $\\mathbf{U},\\mathbf{V}$ 都是 1-1 onto 因此 $\\mathbf{M}_4$ 的可解性跟 $\\mathbf{D}_4$ 的可解性是一致的"
   ]
  },
  {
   "cell_type": "markdown",
   "id": "53c7e7b2-2a3a-4066-b7a0-7a7b2211dc86",
   "metadata": {},
   "source": [
    "## 点到子空间的距离\n",
    "\n",
    "在方程式无解的情况下，我们经常会想求取$L_2$意义下最接近的解(欧式距离)。\n",
    "在方程式无穷多解的情况下，我们也经常会想求取最经济的一组解($L_2$距离最短)。\n",
    "\n",
    "例1，例2，例3\n",
    "定义 $\\mathbf{D}_{pinv}=\\mathbf{D}^{\\top}$, 可以取 $\\hat{\\mathbf{x}}=\\mathbf{D}_{pinv}\\mathbf{b}$,\n",
    "\n",
    "pinv = pseudo inverse, 伪逆。\n",
    "\n",
    "\n",
    "对于一般的对角线矩阵$\\mathbf{D}=(\\delta_{ij}d_{ij})$，我们定义 $\\mathbf{D}_{pinv}[i][j]=\\left\\{\n",
    "\\begin{align*}\n",
    "0 &\\text{ if } d_{ij}=0 \\\\\n",
    "\\delta_{ji}/d_{ji} &\\text{ else } \\end{align*}\n",
    "\\right.$\n",
    "\n",
    "\n",
    "例4 我们可以令 $\\mathbf{M}_{pinv} = \\mathbf{V}\\mathbf{D}_{pinv} \\mathbf{U}^\\top$ \n"
   ]
  },
  {
   "cell_type": "markdown",
   "id": "c360a3a9-1167-47d0-b5ca-3234c85fa796",
   "metadata": {},
   "source": [
    "### 我们用另一个角度再说一次\n",
    "\n",
    "点到线段的最短距离是什么，原因是什么？\n",
    "\n",
    "点到平面的最短距离是什么，原因是什么？\n",
    "\n",
    "点到超平面 Hyperplane 的最短距离是什么，原因是什么？\n",
    "\n",
    "点到子空间的最短距离是什么，原因是什么？\n",
    "\n",
    "垂直于子空间是什么意思，是任意子空间的向量，与垂直部分内积为 0\n",
    "\n",
    "我们将一组k个线性独立的子空间基底写成\n"
   ]
  },
  {
   "cell_type": "markdown",
   "id": "bc343715-a7e8-427e-a1f1-48ded4fe8ec8",
   "metadata": {},
   "source": [
    "\n",
    "$\\mathbf{M}=\\left[\\begin{array}{c|c|c|c|c}\n",
    " &     & \\\\\n",
    " &    & \\\\\n",
    " \\textbf{v}_1&   \\textbf{v}_2 & \\textbf{v}_3 & \\dots & \\textbf{v}_m\\\\ \n",
    " &  & \\\\\n",
    " &  & \\\\\n",
    "\\end{array}\\right]$\n",
    "\n",
    "\n",
    "\n"
   ]
  },
  {
   "cell_type": "markdown",
   "id": "774ade34-adba-4adc-be2c-b6881e687cee",
   "metadata": {},
   "source": [
    "\n",
    "$\\mathbf{M}: C\\rightarrow D$\n",
    "\n",
    "$\\mathtt{Im}(\\mathbf{M})= \\{\\mathbf{Mx}\\}\\subset D$\n",
    "\n",
    "给定 $\\mathbf{b}\\in D$, 我们可以将 $\\mathbf{b}$ 垂直投影到 $\\mathbf{Mx}_b$，这个垂直的意思是 \n",
    "$\\mathbf{M}^\\top (\\mathbf{b}-\\mathbf{Mx}_b)=0$, 换句话说\n",
    "\n",
    "$$ \\mathbf{M}^\\top\\mathbf{Mx}_b = \\mathbf{M}^\\top \\mathbf{b} $$\n",
    "\n",
    "若$\\mathbf{M}^\\top\\mathbf{M}$ 可逆则\n",
    "$$(\\mathbf{M}^\\top\\mathbf{M})^{-1} \\mathbf{M}^\\top \\textbf{b}=\\textbf{x}_b$$\n",
    "不可逆我们也有\n",
    "$$(\\mathbf{M}^\\top\\mathbf{M})_{pinv} \\mathbf{M}^\\top \\textbf{b}=\\textbf{x}_b$$\n"
   ]
  },
  {
   "cell_type": "markdown",
   "id": "579dcff4-591d-4aaa-9ad2-c53c0fa160bb",
   "metadata": {},
   "source": [
    "我们检查一下两个做法结果是否一致\n",
    "令 $\\mathbf{M} = \\mathbf{U}\\mathbf{D}\\mathbf{V}^\\top$\n",
    "则\n",
    "$$ \\mathbf{M}_{pinv} = \\mathbf{V}\\mathbf{D}_{pinv}\\mathbf{U}^\\top $$\n",
    "$$ \\mathbf{M}^\\top = \\mathbf{V}\\mathbf{D}^\\top\\mathbf{U}^\\top $$\n",
    "$$ \\mathbf{M}^\\top \\mathbf{M}= \\mathbf{V}\\mathbf{D}^\\top\\mathbf{D}\\mathbf{V}^\\top $$\n",
    "$$ (\\mathbf{M}^\\top \\mathbf{M})_{pinv}= \\mathbf{V}(\\mathbf{D}^\\top\\mathbf{D})_{pinv}\\mathbf{V}^\\top $$\n",
    "$$(\\mathbf{M}^\\top \\mathbf{M})_{pinv}\\mathbf{M}^\\top= \\mathbf{V}(\\mathbf{D}^\\top\\mathbf{D})_{pinv}\\mathbf{D}^\\top\\mathbf{U}^\\top  $$\n"
   ]
  },
  {
   "cell_type": "code",
   "execution_count": 1,
   "id": "a1b05a96-dec3-4951-aebe-dae636f6469e",
   "metadata": {
    "tags": []
   },
   "outputs": [
    {
     "data": {
      "text/plain": [
       "''"
      ]
     },
     "execution_count": 1,
     "metadata": {},
     "output_type": "execute_result"
    }
   ],
   "source": [
    "## some code example"
   ]
  },
  {
   "cell_type": "markdown",
   "id": "8e4952ee-e5c4-49fe-a8b9-93da1cd2b307",
   "metadata": {},
   "source": [
    "## 线性回归/最小平方差\n",
    "我们考虑第$i$次实验观察到的数据 $b_i,m_{i1},m_{i2},m_{i3} \\dots ,m_{in}$\n",
    "我们希望能建立一个关系，用 $m_{i1},m_{i2},m_{i3} \\dots ,m_{in}$ 来预测 $b_i$,即 $b_i \\sim m_{i1}x_1 + m_{i2}x_2  \\dots +m_{in}x_n$。\n",
    "\n",
    "如果我们固定一套参数 $\\mathbf{x}$, 面对全部的实验，我们有 $\\mathbf{b}\\sim \\mathbf{Mx}$, 我们可以考虑取$\\mathbf{x}$ 使得 $|\\mathbf{Mx}-\\mathbf{b}|_{l_2}$ 最小。由上述讨论，我们得知 可以取 $\\mathbf{x}=\\mathbf{M}_{pinv}\\mathbf{b}$"
   ]
  },
  {
   "cell_type": "code",
   "execution_count": null,
   "id": "e683a55b-e12a-4fb2-a7c8-4be2a3b06fca",
   "metadata": {},
   "outputs": [],
   "source": []
  }
 ],
 "metadata": {
  "kernelspec": {
   "display_name": "Python 3 (ipykernel)",
   "language": "python",
   "name": "python3"
  },
  "language_info": {
   "codemirror_mode": {
    "name": "ipython",
    "version": 3
   },
   "file_extension": ".py",
   "mimetype": "text/x-python",
   "name": "python",
   "nbconvert_exporter": "python",
   "pygments_lexer": "ipython3",
   "version": "3.12.1"
  }
 },
 "nbformat": 4,
 "nbformat_minor": 5
}
