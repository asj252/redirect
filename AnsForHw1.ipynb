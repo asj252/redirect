{
 "cells": [
  {
   "cell_type": "markdown",
   "id": "d289ac02-9085-4a8f-8798-9a661533520e",
   "metadata": {},
   "source": [
    "# Answer For Homework 1"
   ]
  },
  {
   "cell_type": "markdown",
   "id": "9556ef41-01ec-422c-be85-d11f31887a22",
   "metadata": {},
   "source": [
    "***exercise: compute the following,***  \n",
    "(1).$$\\begin{pmatrix}3&-2&1 \\\\ 1 &-1&2\\end{pmatrix}\\begin{pmatrix}-1&5\\\\-2&4\\\\3&-1 \\end{pmatrix}=\n",
    "\\begin{pmatrix}4&6\\\\7&-1\\end{pmatrix}\n",
    "$$  \n",
    "\n",
    "(2).$$\\begin{pmatrix}3&1&2&-1 \\\\ 0 &3&1&0 \\\\1&0&1&0 \\end{pmatrix}\\begin{pmatrix}0&5\\\\2&0\\\\0&-1\\\\-3&0 \\end{pmatrix}=\\begin{pmatrix}5&13\\\\6&-1\\\\0&4\\end{pmatrix}\n",
    "$$  \n",
    "\n",
    "(3).$$\\begin{pmatrix}1 \\\\ 2 \\\\ 3 \\\\ 4\\end{pmatrix}\\begin{pmatrix}4&3&2&1 \\end{pmatrix}=\n",
    "\\begin{pmatrix}4 &3&2&1\\\\ 8&6&4&2 \\\\ 12&9&6&3 \\\\ 16&12&8&4\\end{pmatrix}\n",
    "$$  \n",
    "\n",
    "(4).$$\\begin{pmatrix}4&3&2&1 \\end{pmatrix}\\begin{pmatrix}1 \\\\ 2 \\\\ 3 \\\\ 4\\end{pmatrix}=20\n",
    "$$\n",
    "(5).$$\\begin{pmatrix}0&-1&0 \\\\ 1 &0&1 \\\\ 0 &1&0 \\end{pmatrix}^4 = \\begin{pmatrix}0&0&0 \\\\ 0&0&0 \\\\ 0 &0&0 \\end{pmatrix} \n",
    "$$\n",
    "(6).$$\\begin{pmatrix}2&1&0 \\\\ 0 &2&1 \\\\ 0 &0&2 \\end{pmatrix}^4 = \\begin{pmatrix}16&32&24 \\\\ 0 &16&32 \\\\ 0 &0&16 \\end{pmatrix} \n",
    "$$\n",
    "(7).$$\\begin{pmatrix}a&0&0 \\\\ 0&b&0 \\\\ 0 &0&c \\end{pmatrix}^n=\\begin{pmatrix}a^n&0&0 \\\\ 0&b^n&0 \\\\ 0 &0&c^n \\end{pmatrix}\n",
    "$$\n",
    "(8).$$\\begin{pmatrix}1&1 \\\\ 1 &1 \\end{pmatrix}^n = \\begin{pmatrix}2^{n-1}&2^{n-1} \\\\ 2^{n-1} &2^{n-1} \\end{pmatrix} \n",
    "$$"
   ]
  },
  {
   "cell_type": "markdown",
   "id": "143f0a6e-9f9b-4679-9f20-a18233836df3",
   "metadata": {},
   "source": [
    "5) nilpotent matrix 幂零矩阵\n",
    "6) upper triangular matrix 上三角矩阵"
   ]
  },
  {
   "cell_type": "markdown",
   "id": "e96cf61d-ffc4-4d60-a200-c167ab833d52",
   "metadata": {},
   "source": [
    "1. $\\mathbf{v}_1,\\mathbf{v}_2,\\mathbf{v}_3$ are 3-dimensional column vectors. Let $\\mathbf{V}=\\begin{bmatrix}\\mathbf{v}_1 & \\mathbf{v}_2 & \\mathbf{v}_3 \\end{bmatrix}$ and $\\mathbf{D}=\\begin{bmatrix}d_1 & 0 & 0 \\\\0 & d_2 & 0 \\\\0 &0 & d_3 \\end{bmatrix}$. Compute $\\mathbf{V}\\mathbf{D}$ and $\\mathbf{D} \\mathbf{V}^{\\top}$ in terms of $\\mathbf{v}_1,\\mathbf{v}_2,\\mathbf{v}_3$\n",
    "\n",
    "\n",
    "\n",
    "\n",
    "我们有三个三维列向量 $\\mathbf{v}_1,\\mathbf{v}_2,\\mathbf{v}_3$,将其并排在一起得到一个3x3的矩阵 $\\mathbf{V}$，另外我们有3x3对角线矩阵 $\\mathbf{D}$ 。计算 $\\mathbf{V}\\mathbf{D}$与 $\\mathbf{D} \\mathbf{V}^{\\top}$,并用 $\\mathbf{v}_1,\\mathbf{v}_2,\\mathbf{v}_3$ 表示其计算结果。\n",
    "\n",
    "Ans:  $\\mathbf{V}\\mathbf{D}=\\begin{bmatrix}d_1\\mathbf{v}_1 & d_2\\mathbf{v}_2 & d_3\\mathbf{v}_3 \\end{bmatrix}$, $\\mathbf{D}\\mathbf{V}^{\\top}=\\begin{bmatrix}d_1\\mathbf{v}_1^{\\top} \\\\ d_2\\mathbf{v}_2^{\\top} \\\\ d_3\\mathbf{v}_3^{\\top} \\end{bmatrix}$ \n",
    "\n"
   ]
  },
  {
   "cell_type": "markdown",
   "id": "534bdc07-2f73-4cec-803c-ed24c768d1f9",
   "metadata": {},
   "source": [
    "emphasizse transpose and matrix multiplication in previous note"
   ]
  },
  {
   "cell_type": "markdown",
   "id": "571b73a6-2aea-4d4a-9a5a-b1299a892797",
   "metadata": {},
   "source": [
    "2. Use 3 dimensional matrix to represent 2 dimensional translation(shifting).\n",
    "\n",
    "使用三维矩阵表示二维平移运动。\n",
    "\n",
    "Ans: Let $\\mathbf{M}= \\begin{bmatrix}1 & 0 & a \\\\0 & 1 & b \\\\0 &0 & 1 \\end{bmatrix}$ and $\\mathbf{v}= \\begin{bmatrix}x \\\\y\\\\1 \\end{bmatrix}$, we have $\\mathbf{Mv}=\\begin{bmatrix}x+a \\\\y+b\\\\1 \\end{bmatrix}$.\n",
    "\n",
    "Suppose $\\mathbf{N}= \\begin{bmatrix}1 & 0 & c \\\\0 & 1 & d \\\\0 &0 & 1 \\end{bmatrix}$, we have\n",
    "$\\mathbf{MN}= \\begin{bmatrix}1 & 0 & a+c \\\\0 & 1 & b+d \\\\0 &0 & 1 \\end{bmatrix}$."
   ]
  },
  {
   "cell_type": "markdown",
   "id": "6ec867d0-7857-4c42-9876-5a5c122c450e",
   "metadata": {},
   "source": [
    "3. a) Prove the two 2-dim vectors $\\mathbf{u}_1$ , $\\mathbf{u}_2$ are pararrel if and only if $\\mathtt{det}([\\mathbf{u}_1 , \\mathbf{u}_2])=0$\n",
    "\n",
    "证明两个二维向量平行，若且唯若两向量形成的行列式为0.\n",
    "\n",
    "b)  $\\mathbf{M}$  is a 2 by 2 matrix. Prove the following: if and only if $\\mathtt{det}(\\mathbf{M})=0$, there exists a non-zero 2 dimensional vector $\\mathbf{v}$ such that $\\mathbf{M}\\mathbf{v}=0$.\n",
    "\n",
    "证明2维矩阵M的行列式为0 ，若且唯若存在非零向量x 使得 Mx为零向量。\n",
    "\n",
    "Ans: a)suppose $\\mathbf{u}_1 = \\begin{bmatrix}a \\\\b \\end{bmatrix}$, $\\mathbf{u}_2 = \\begin{bmatrix}c \\\\d \\end{bmatrix}$. $\\mathtt{det}([\\mathbf{u}_1 , \\mathbf{u}_2])=0 \\Leftrightarrow ad-bc=0$. If $d=0$ then $b$ or $c$ =0, obviously $\\mathbf{u}_1 \\parallel \\mathbf{u}_2$ Similiarly, if $b=0$ then $a$ or $d$ =0. obviously $\\mathbf{u}_1 \\parallel \\mathbf{u}_2$. Therefore we could assume $b\\neq 0 $ & $ d\\neq0$. so $\\frac{a}{b}=\\frac{c}{d}$ and $\\mathbf{u}_1 \\parallel \\mathbf{u}_2$. \n",
    "\n",
    "Conversely, assuming $\\mathbf{u}_1 \\parallel \\mathbf{u}_2$ and $\\mathbf{u}_1\\neq \\vec{0}$, we have $\\mathbf{u}_1 = \\begin{bmatrix}a \\\\b \\end{bmatrix}$, $\\mathbf{u}_2 = \\begin{bmatrix}ka \\\\kb \\end{bmatrix}$. $\\mathtt{det}([\\mathbf{u}_1 , \\mathbf{u}_2])=kab-kab=0$.\n",
    "\n",
    "b) Following a) Let $\\mathbf{x} = \\begin{bmatrix}1 \\\\k \\end{bmatrix}$. $\\mathbf{Mx}=\\begin{bmatrix}\n",
    "\\mathbf{u}_1 + k\\mathbf{u}_2 \\end{bmatrix}=0 \\Leftrightarrow \\mathbf{u}_1 \\parallel \\mathbf{u}_2$"
   ]
  },
  {
   "cell_type": "markdown",
   "id": "3deac3f7-56df-418d-b07d-6dc607a951a2",
   "metadata": {},
   "source": [
    "\n",
    "4. $\\mathbf{M}$  is a 3 by 3 matrix. Prove the following: if and only if $det(\\mathbf{M})=0$, there exist a non-zero 3 dimensional vector $\\mathbf{v}$ such that $\\mathbf{M}\\mathbf{v}=0$.\n",
    "\n",
    "证明3维矩阵M的行列式为0 ，若且唯若存在非零向量x 使得 Mx为零向量。\n",
    "\n",
    "Ans:Following the notation in the book, $\\mathbf{M}=\\begin{bmatrix}\\mathbf{u}_1&\\mathbf{u}_2&\\mathbf{u}_3\\end{bmatrix}$. $\\mathtt{det}\\mathbf{M}=0 \\Leftrightarrow \\mathbf{u}_1 \\cdot(\\mathbf{u}_2 \\wedge \\mathbf{u}_3)=0  $\n",
    " $ \\mathbf{u}_1 \\cdot(\\mathbf{u}_2 \\wedge \\mathbf{u}_3)=0  \\Leftrightarrow \\mathbf{u}_1 \\perp (\\mathbf{u}_2 \\wedge \\mathbf{u}_3)$. Assuming $\\mathbf{u}_2 $,$ \\mathbf{u}_3$ are not parallel and both non-zero,  $\\mathbf{u}_1 $ is a linear combination of $\\mathbf{u}_2 $ and $ \\mathbf{u}_3$. Therefore exist a a non-zero 3 dimensional vector $\\mathbf{v}$ such that $\\mathbf{M}\\mathbf{v}=0$ and vice versa."
   ]
  },
  {
   "cell_type": "markdown",
   "id": "179b18c6-a210-48c5-9308-1501928d3ccc",
   "metadata": {},
   "source": []
  },
  {
   "cell_type": "code",
   "execution_count": null,
   "id": "f6a26211-6d6a-4e20-b07b-bdb3fd6ec6d0",
   "metadata": {},
   "outputs": [],
   "source": []
  }
 ],
 "metadata": {
  "kernelspec": {
   "display_name": "Python 3 (ipykernel)",
   "language": "python",
   "name": "python3"
  },
  "language_info": {
   "codemirror_mode": {
    "name": "ipython",
    "version": 3
   },
   "file_extension": ".py",
   "mimetype": "text/x-python",
   "name": "python",
   "nbconvert_exporter": "python",
   "pygments_lexer": "ipython3",
   "version": "3.12.1"
  }
 },
 "nbformat": 4,
 "nbformat_minor": 5
}
