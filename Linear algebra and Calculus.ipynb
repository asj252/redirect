{
 "cells": [
  {
   "cell_type": "markdown",
   "id": "4873a03a-145b-4ea6-8eca-94df25647f36",
   "metadata": {
    "tags": []
   },
   "source": [
    "# 线性代数与微积分"
   ]
  },
  {
   "cell_type": "markdown",
   "id": "e3c91e1d-26bf-4f00-979d-658d6afa9d76",
   "metadata": {
    "tags": []
   },
   "source": [
    "## 微分的本质"
   ]
  },
  {
   "cell_type": "markdown",
   "id": "75d31a5d-61cb-4f95-8609-ec9901a9cc92",
   "metadata": {},
   "source": [
    "微分的本质是，一个单变数(可微分)函数局部来看总是线性的。\n",
    "\n",
    "$$\\begin{align*}f(x_0+\\Delta x) &= f(x_0) + \\frac{\\partial f}{\\partial x}(x_0)\\Delta x+O((\\Delta x)^2)\\\\\n",
    "&\\sim f(x_0) + \\frac{\\partial f}{\\partial x}(x_0)\\Delta x \\end{align*}$$"
   ]
  },
  {
   "cell_type": "markdown",
   "id": "aff0f168-cc04-43bd-b26d-53aef654a9a1",
   "metadata": {
    "tags": []
   },
   "source": [
    "## 多变数微分"
   ]
  },
  {
   "cell_type": "markdown",
   "id": "cf24daec-3c28-4dc3-a000-e8ce6391d0b9",
   "metadata": {},
   "source": [
    "当然一个函数的变数可以有很多,所以我们有\n",
    "$$\\begin{align*}\\Delta f(\\mathbf{x}_0)=f(\\mathbf{x}_0+\\Delta \\mathbf{x}) - f(\\mathbf{x}_0) &=  \\frac{\\partial f}{\\partial x_j}(\\mathbf{x}_0)\\Delta x_j+O(|\\Delta \\mathbf{x}|^2)\\\\\n",
    "&\\sim \\frac{\\partial f}{\\partial x_j}(\\mathbf{x}_0)\\Delta x_j \\end{align*}$$\n",
    "\n",
    "我们仔细看其中这一项 $$ \\begin{align*}\\frac{\\partial f}{\\partial x_j}(\\mathbf{x}_0)\\Delta x_j &= \\sum_{j=1}^{q} \\frac{\\partial f}{\\partial x_j}(\\mathbf{x}_0)\\Delta x_j \\\\\n",
    "&= \\begin{bmatrix} \\frac{\\partial f}{\\partial x_1}& \\dots &\\frac{\\partial f}{\\partial x_q} \\end{bmatrix} \\begin{bmatrix} \\Delta x_1 \\\\ \\vdots \\\\ \\Delta x_q \\end{bmatrix} \\end{align*}$$"
   ]
  },
  {
   "cell_type": "markdown",
   "id": "2c782044-215b-4032-be03-0da55ed7c110",
   "metadata": {
    "tags": []
   },
   "source": [
    "## 变数的变数"
   ]
  },
  {
   "cell_type": "markdown",
   "id": "566eb1f3-e0ca-472d-8864-f2c15b6b2299",
   "metadata": {},
   "source": [
    "我们还能有变数的变数，也就是说 $\\mathbf{x}=\\mathbf{x}(\\mathbf{y})$,把$\\mathbf{x}$看成$\\mathbf{y}$的函数， 因此\n",
    "\n",
    "$$\\begin{align*}\\Delta x_j(\\mathbf{y}_0)=x_j(\\mathbf{y}_0+\\Delta \\mathbf{y}) - x_j(\\mathbf{y}_0) &=  \\frac{\\partial x_j}{\\partial y_k}(\\mathbf{y}_0)\\Delta y_k+O(|\\Delta \\mathbf{y}|^2)\\\\\n",
    "&\\sim \\frac{\\partial x_j}{\\partial y_k}(\\mathbf{y}_0)\\Delta y_k \\end{align*}$$\n",
    "\n",
    "我们仔细看其中这一项 $$ \\begin{align*}\\frac{\\partial x_j}{\\partial y_k}(\\mathbf{y}_0)\\Delta y_k &= \\sum_{k=1}^{r} \\frac{ \\partial x_j}{\\partial y_k}(\\mathbf{y}_0)\\Delta y_k \\\\\n",
    "&= \\begin{bmatrix} \\frac{\\partial x_j}{\\partial y_1}& \\dots &\\frac{\\partial x_j}{\\partial y_r} \\end{bmatrix} \\begin{bmatrix} \\Delta y_1 \\\\ \\vdots \\\\ \\Delta y_r \\end{bmatrix} \\end{align*}$$"
   ]
  },
  {
   "cell_type": "markdown",
   "id": "1df7aceb-71c1-41b1-bcbb-8caa6fc59f33",
   "metadata": {},
   "source": [
    "## 链式法则(Chain rule)"
   ]
  },
  {
   "cell_type": "markdown",
   "id": "3a173c51-3975-48e4-9e0e-26346a61a562",
   "metadata": {},
   "source": [
    "一维度的链式法则相对简单\n",
    "$\\frac{\\partial f}{\\partial y}(x(y_0))\\Delta y= \\frac{\\partial f}{\\partial x}(x_0) \\frac{\\partial x(y_0)}{\\partial y}(y_0)\\Delta y$\n",
    "如果我们考虑 $\\mathbf{x}$,$\\mathbf{y}$ 都是向量，我们则有\n",
    "\n",
    "$\\Delta f(\\mathbf{x}_0)\\sim \\frac{\\partial f}{\\partial x_j}(\\mathbf{x}_0)\\Delta x_j \\sim  \\frac{\\partial f}{\\partial x_j}(\\mathbf{x}_0)\\frac{\\partial x_j}{\\partial y_k}(\\mathbf{y}_0)\\Delta y_k  $"
   ]
  },
  {
   "cell_type": "markdown",
   "id": "410b38e4-1ce4-4bf1-b80f-ea59490cbc9e",
   "metadata": {},
   "source": [
    "$\\Delta f= \\begin{bmatrix} \\frac{\\partial f}{\\partial x_1}& \\dots &\\frac{\\partial f}{\\partial x_q} \\end{bmatrix} \\begin{bmatrix} \\frac{\\partial x_1}{\\partial y_1}& \\dots &\\frac{\\partial x_1}{\\partial q_r} \\\\ \\vdots \\\\  \\frac{\\partial x_q}{\\partial y_1}& \\dots &\\frac{\\partial x_q}{\\partial q_r}  \\end{bmatrix} \\begin{bmatrix} \\Delta y_1 \\\\ \\vdots \\\\ \\Delta y_q \\end{bmatrix} $"
   ]
  },
  {
   "cell_type": "markdown",
   "id": "cbb195a7-4056-439b-849d-1f2afe1c2bf9",
   "metadata": {},
   "source": [
    "现在如果 $\\mathbf{f}$ 本身是一个向量，则\n",
    "\n",
    "$\\Delta f_i= \\begin{bmatrix} \\frac{\\partial f_i}{\\partial x_1}& \\dots &\\frac{\\partial f_i}{\\partial x_q} \\end{bmatrix} \\begin{bmatrix} \\frac{\\partial x_1}{\\partial y_1}& \\dots &\\frac{\\partial x_1}{\\partial q_r} \\\\ \\vdots \\\\  \\frac{\\partial x_q}{\\partial y_1}& \\dots &\\frac{\\partial x_q}{\\partial q_r}  \\end{bmatrix} \\begin{bmatrix} \\Delta y_1 \\\\ \\vdots \\\\ \\Delta y_q \\end{bmatrix} $"
   ]
  },
  {
   "cell_type": "markdown",
   "id": "55f9b38b-46d4-42d2-b6a8-fad0c1adb7cd",
   "metadata": {},
   "source": [
    "收集起来我们则有\n",
    "$\\Delta \\mathbf{f}= \\begin{bmatrix} \\frac{\\partial f_1}{\\partial x_1}& \\dots &\\frac{\\partial f_1}{\\partial x_q} \\\\ \\vdots \\\\  \\frac{\\partial f_p}{\\partial x_1}& \\dots &\\frac{\\partial f_p}{\\partial x_q} \\end{bmatrix} \\begin{bmatrix} \\frac{\\partial x_1}{\\partial y_1}& \\dots &\\frac{\\partial x_1}{\\partial q_r} \\\\ \\vdots \\\\  \\frac{\\partial x_q}{\\partial y_1}& \\dots &\\frac{\\partial x_q}{\\partial q_r}  \\end{bmatrix} \\begin{bmatrix} \\Delta y_1 \\\\ \\vdots \\\\ \\Delta y_r \\end{bmatrix} $\n",
    "\n",
    "或者\n",
    "\n",
    "$\\Delta \\mathbf{f}=\\sum_{j=1}^{q}\\sum_{k=1}^{r} \\frac{\\partial f_i}{\\partial x_j}(\\mathbf{x}_0)\\frac{\\partial x_j}{\\partial y_k}(\\mathbf{x}_0)\\Delta y_k = \\frac{\\partial f_i}{\\partial x_j} \\frac{\\partial x_j}{\\partial y_k} \\Delta \\mathbf{y}$\n",
    "\n",
    "所以我们可以把矩阵乘法看成链式法则。\n",
    "由于爱因斯坦 (Albert Einstein) 的相对论考虑了不同坐标系中物体运动的差异，因此用了非常多链式法则，我们可以把 爱因斯坦求和公式，看成是爱因斯坦对链式法则的简化表达式"
   ]
  },
  {
   "cell_type": "code",
   "execution_count": null,
   "id": "cd828648-dbbf-4790-81d3-cd3c31d57084",
   "metadata": {},
   "outputs": [],
   "source": []
  }
 ],
 "metadata": {
  "kernelspec": {
   "display_name": "Python 3 (ipykernel)",
   "language": "python",
   "name": "python3"
  },
  "language_info": {
   "codemirror_mode": {
    "name": "ipython",
    "version": 3
   },
   "file_extension": ".py",
   "mimetype": "text/x-python",
   "name": "python",
   "nbconvert_exporter": "python",
   "pygments_lexer": "ipython3",
   "version": "3.11.5"
  }
 },
 "nbformat": 4,
 "nbformat_minor": 5
}
