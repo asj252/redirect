{
 "cells": [
  {
   "cell_type": "markdown",
   "id": "c07a8e79-fe2e-4919-bfaa-05c5b27ca5f3",
   "metadata": {
    "tags": []
   },
   "source": [
    "## Exercise1:\n",
    "***change the plot z = 2-(1-np.cos(alpha1))*(1-np.cos(theta1)), range:[0,pi]X[0,pi] into surface plot***\n",
    "***将以下程式代码改成 surface plot，这部分直接贴上程式代码***"
   ]
  },
  {
   "cell_type": "code",
   "execution_count": 8,
   "id": "501c1a0c-7420-4a06-af6e-a1bdbf3f358e",
   "metadata": {
    "tags": []
   },
   "outputs": [],
   "source": [
    "matplotlib qt"
   ]
  },
  {
   "cell_type": "code",
   "execution_count": 9,
   "id": "35f717a3-dcee-43bc-abd0-95c39664f2f5",
   "metadata": {
    "tags": []
   },
   "outputs": [],
   "source": [
    "import numpy as np\n",
    "import matplotlib.pyplot as plt\n",
    "from mpl_toolkits.mplot3d import Axes3D\n",
    "\n",
    "fig = plt.figure()\n",
    "ax = fig.add_subplot(111, projection='3d')\n",
    "\n",
    "alpha1, theta1 = np.mgrid[0.0:np.pi:10j, 0.0:np.pi:10j]\n",
    "\n",
    "z = 2-(1-np.cos(alpha1))*(1-np.cos(theta1))\n",
    "alpha1 = alpha1.flatten()\n",
    "theta1 = theta1.ravel()\n",
    "z= z.ravel()\n",
    "\n",
    "\n",
    "ax.plot(alpha1, theta1, z, 'r')\n",
    "ax.set_aspect('equal')\n",
    "plt.show()"
   ]
  },
  {
   "cell_type": "code",
   "execution_count": 10,
   "id": "b5e636d3-b7ac-449c-80c9-1a920728b989",
   "metadata": {
    "tags": []
   },
   "outputs": [],
   "source": [
    "import numpy as np\n",
    "import matplotlib.pyplot as plt\n",
    "from mpl_toolkits.mplot3d import Axes3D\n",
    "\n",
    "fig = plt.figure()\n",
    "ax = fig.add_subplot(111, projection='3d')\n",
    "\n",
    "alpha, theta = np.mgrid[0.0:np.pi:100j, 0.0:np.pi:100j]\n",
    "\n",
    "x = alpha\n",
    "y = theta\n",
    "z = 2 - (1 - np.cos(alpha)) * (1 - np.cos(theta))\n",
    "\n",
    "ax.plot_surface(x, y, z, cmap='viridis')\n",
    "ax.set_xlabel('X')\n",
    "ax.set_ylabel('Y')\n",
    "ax.set_zlabel('Z')\n",
    "plt.show()"
   ]
  },
  {
   "cell_type": "markdown",
   "id": "a1d710da-bdde-4474-9af7-0c4440b0d240",
   "metadata": {
    "tags": []
   },
   "source": [
    "## Exercise2:\n",
    "\n",
    "***a) Compute the charasteristic equation ~~eigenfunction~~ of $\\mathbf{M}=\\begin{bmatrix}\\cos{\\left(\\alpha \\right)} & - \\sin{\\left(\\alpha \\right)}\\\\\\sin{\\left(\\alpha \\right)} & \\cos{\\left(\\alpha \\right)}\\end{bmatrix}$  \n",
    "计算 $\\mathbf{M}$ 的特征方程式  \n",
    "b) Compute eigenvalues of $\\mathbf{M}$  \n",
    "计算 $\\mathbf{M}$ 的特征值  \n",
    "c) Compute eigenvectors of $\\mathbf{M}$  \n",
    "计算 $\\mathbf{M}$ 的特征向量 $\\mathbf{u_1},\\mathbf{u_2}$  \n",
    "d) Compute $\\mathbf{Mu_1},\\mathbf{Mu_2}$  \n",
    "计算 $\\mathbf{Mu_1},\\mathbf{Mu_2}$  \n",
    "e) $\\mathbf{S}=\\begin{bmatrix}\\mathbf{u_1}& \\mathbf{u_2}\\end{bmatrix}$，compute $\\mathbf{S}^{-1}$, and verify $\\mathbf{S}\\mathbf{S}^{-1}=\\mathbf{I}$  \n",
    "使用公式得到 $\\mathbf{S}^{-1}$, 并且验证 $\\mathbf{S}\\mathbf{S}^{-1}=\\mathbf{I}$***"
   ]
  },
  {
   "cell_type": "markdown",
   "id": "6791f03d-3812-4745-bc5d-fa6225817d94",
   "metadata": {},
   "source": [
    "a) $\\mathtt{det}(\\mathbf{M}-\\lambda\\mathbf{I})=0 \\Rightarrow (\\mathtt{cos}\\alpha- \\lambda)^2+\\mathtt{sin}^2\\alpha=0$\n",
    "The charasteristic equation is $\\lambda^2-2\\lambda\\mathtt{cos}\\alpha +1=0$."
   ]
  },
  {
   "cell_type": "markdown",
   "id": "18f1e9c5-bfda-4df9-86e7-d741049b59ae",
   "metadata": {},
   "source": [
    "b) $\\lambda= \\mathtt{cos}\\alpha \\pm i\\mathtt{sin}\\alpha= e^{i\\alpha}$"
   ]
  },
  {
   "cell_type": "markdown",
   "id": "77cbec71-f47b-4dd7-a519-eeb6fca3ef7f",
   "metadata": {
    "tags": []
   },
   "source": [
    "c) $\\{\\mathbf{u}_1,\\mathbf{u}_2\\}=\\{ \\begin{bmatrix}i\\\\1\\end{bmatrix},\\begin{bmatrix}i\\\\-1\\end{bmatrix} \\}$"
   ]
  },
  {
   "cell_type": "markdown",
   "id": "137aed6d-f448-496a-9351-d2d1258ce3cd",
   "metadata": {},
   "source": [
    "d) $\\{\\mathbf{Mu}_1,\\mathbf{Mu}_2\\}=\\{ (\\mathtt{cos}\\alpha + i\\mathtt{sin}\\alpha)\\begin{bmatrix}i\\\\1\\end{bmatrix}, (\\mathtt{cos}\\alpha - i\\mathtt{sin}\\alpha)\\begin{bmatrix}i\\\\-1\\end{bmatrix} \\}$"
   ]
  },
  {
   "cell_type": "markdown",
   "id": "4b5632d8-647e-467f-85c8-d1d52c2e0881",
   "metadata": {
    "tags": []
   },
   "source": [
    "e) $\\mathbf{S}=\\begin{bmatrix} i&i \\\\ 1&-1 \\end{bmatrix} $, $\\mathbf{S}^{-1}=\\frac{i}{2}\\begin{bmatrix} -1&-i \\\\ -1&i \\end{bmatrix} $ "
   ]
  },
  {
   "cell_type": "code",
   "execution_count": null,
   "id": "af324909-b2eb-4438-9d60-dc67781cd5fa",
   "metadata": {},
   "outputs": [],
   "source": []
  }
 ],
 "metadata": {
  "kernelspec": {
   "display_name": "Python 3 (ipykernel)",
   "language": "python",
   "name": "python3"
  },
  "language_info": {
   "codemirror_mode": {
    "name": "ipython",
    "version": 3
   },
   "file_extension": ".py",
   "mimetype": "text/x-python",
   "name": "python",
   "nbconvert_exporter": "python",
   "pygments_lexer": "ipython3",
   "version": "3.12.1"
  }
 },
 "nbformat": 4,
 "nbformat_minor": 5
}
