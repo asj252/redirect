{
 "cells": [
  {
   "cell_type": "markdown",
   "id": "ebe56d1c-a9ec-47dd-afde-b4d7d2fc1353",
   "metadata": {},
   "source": [
    "# Linear Algebra Crash Course (with Python) Class 3\n",
    "\n",
    "# Chap 3: 3d symmetric matrix\n",
    "\n",
    "## The importance of eigen-decomposition\n",
    "\n",
    "Eigenvalue and eigenvector decomposition is an important tool for matrix decomposition. It allows representing a matrix as a combination of eigenvectors and eigenvalues. This decomposition provides finite dimensional approximate solutions for systems of differential equations in the form of Fourier series, with extensive applications in classical and quantum physics research. \n",
    "\n",
    "- For example, it can be used to find the **eigenstates(eigenfunction) of the Schrödinger equation** for describing quantum systems. \n",
    "\n",
    "Additionally, eigenvalue and eigenvector decomposition serves as an effective technique for assessing the inherent structure and significance of high-dimensional data.\n",
    "- For instance, Google's PageRank(a pun) algorithm constructs **a transition matrix based on the link structure between webpages** and then ranks pages according to the magnitude of the corresponding eigenvalue. \n",
    "\n",
    "It is evident that eigenvalue decomposition is an important tool connecting linear algebra, numerical analysis, and data analysis. Its applications are far-reaching, playing a crucial role in scientific computing and data science research.\n",
    "\n",
    "***Could be a research topic***"
   ]
  },
  {
   "cell_type": "markdown",
   "id": "8ad1a4bf-b756-41f7-84c0-7cfaf231586a",
   "metadata": {},
   "source": [
    "\n",
    "## The failure of eigen-decomposition\n",
    "\n",
    "However, not every $n$ by $n$ square matrix could process a full set eigen-decomposition consisted of $n$ eigenvalues and $n$ eigenvectors. \n",
    "\n",
    "Example:\n",
    "\n",
    "$\\mathbf{A}=\\begin{bmatrix}\n",
    "0 & 0 & 0 &0\\\\\n",
    "1 & 0 & 0 &0 \\\\\n",
    "0 & 1&0& 0\\\\\n",
    "0 & 0 & 1 &0\\\\\n",
    "\\end{bmatrix}$\n",
    "\n",
    "We can see $\\mathbf{A}^4=0$. Therefore the only possible eigenvalue of $\\mathbf{A}$ is $0$. However when we solve the equation $\\mathbf{A}\\mathbf{v}=0$, we only get one solution $[0,0,0,1]^T$, and we have  $A^4[1,0,0,0]^T=A^3[0,1,0,0]^T=A^2[0,0,1,0]^T=A[0,0,0,1]^T=0$. It's like there are four people standing on a deck, and every time they take a step forward, one person jumps into the water.\n",
    "\n",
    "***exercise:write down $\\mathbf{A}$, $\\mathbf{A}^2$, $\\mathbf{A}^3$***\n"
   ]
  },
  {
   "cell_type": "markdown",
   "id": "d7a49918-9b4e-4fc3-af8f-8371d9b19010",
   "metadata": {},
   "source": [
    "In other cases, eigenvalues and their eigenvectors decomposition could result in complex variables. Their (physical) meaning could be a bit hard to understand."
   ]
  },
  {
   "cell_type": "markdown",
   "id": "943563af-95d0-4224-aef6-363ab86d79a2",
   "metadata": {},
   "source": [
    "## The wonderful symmetric matrix\n",
    "\n",
    "Symmetric matrices are really a special kind of matrices and appear everywhere in science world. We shall state their usages & good properties, demonstrate how to compute them with python, and leave the proof of following statements to the later chapters.\n",
    "\n",
    "Nevertheless, we should prove the failure of eigen-decomposition of genereal matrices would not happen again with symmetric matrices and state \n",
    "\n",
    "Assume $\\mathbf{S}^n \\mathbf{u}=0$, and $\\mathbf{S}^{n-1} \\mathbf{u}\\neq0$, where $\\mathbf{S}$ is a symmetric matrix, $n\\geq2$, and $\\mathbf{u}$ is a non-zero vector. Let $\\mathbf{v}=\\mathbf{S}^{n-2} \\mathbf{u}$, then we get $\\mathbf{v}\\neq0$, $\\mathbf{S}\\mathbf{v}\\neq0$, and $\\mathbf{S}^2\\mathbf{v}=0$. Consider $0=\\langle \\mathbf{v},\\mathbf{S}^2\\mathbf{v}\\rangle=\\langle \\mathbf{S}^{\\top}\\mathbf{v},\\mathbf{S}\\mathbf{v}\\rangle=\\langle \\mathbf{S}\\mathbf{v},\\mathbf{S}\\mathbf{v}\\rangle = |\\mathbf{S}\\mathbf{v}|^2$, then we have $\\mathbf{S}\\mathbf{v}=0$ which is a contradiciton.\n",
    "\n",
    "With the same technique, we could prove many other things (like the following statements)."
   ]
  },
  {
   "cell_type": "markdown",
   "id": "5aba27f2-9ee1-4c80-aa6e-5f7ce2c5a88a",
   "metadata": {},
   "source": [
    "## Eigen-decomposition of symmetric matrix (Spectral theory)\n",
    "\n",
    "*Statement: Every symmetric matrix could process a full set eigen-decomposition consisted of $n$ eigenvalues and $n$ eigenvectors.* "
   ]
  },
  {
   "cell_type": "markdown",
   "id": "06291e0a-85c9-4e18-9427-b9db820def85",
   "metadata": {},
   "source": [
    "*Statement:The eigenvectors of a symmetric matix are orthogonal to each other.*\n",
    "\n",
    "Therefore the transition matrix is orthonormal. We could write down their eigen-decomposition in the form of\n",
    "\n",
    "$$\\mathbf{S}\\mathbf{U} = \\mathbf{U}\\mathbf{D}$$\n",
    "\n",
    "$$\\mathbf{S} = \\mathbf{U}\\mathbf{D}\\mathbf{U}^{-1} =\\mathbf{U}\\mathbf{D}\\mathbf{U}^{\\top}$$"
   ]
  },
  {
   "cell_type": "markdown",
   "id": "3e9dbb7c-c9c4-4573-a82b-58e92a1ecccd",
   "metadata": {},
   "source": [
    "With this understanding, we could state one usage of symmetric matrix.\n",
    "\n",
    "Consider $f(x,y)= 2x^2-3y^2$ which corresponds to symmetric matrix $\\begin{bmatrix}2 & 0 \\\\0 & -3  \\end{bmatrix}$ and quadratic form $\\begin{bmatrix}x &y \\end{bmatrix}\\begin{bmatrix}2 & 0 \\\\0 & -3  \\end{bmatrix}\\begin{bmatrix}x \\\\y \\end{bmatrix}$. Now we consider the maximum and minumum of $f(x,y)$ with a constraint $x^2+y^2=1$\n",
    "\n",
    "It is not hard to see the maximum and minumum happens at $(1,0),(0,1)$. Obviously, the similiar statement could be applied to other diagonal matrix.\n",
    "\n",
    "Consider $x^2+2xy+2y^2$ which corresponds to symmetric matrix $\\mathbf{S}=\\begin{bmatrix}1 & 1 \\\\1 & 2  \\end{bmatrix}$ and quadratic form $\\begin{bmatrix}x &y \\end{bmatrix}\\begin{bmatrix}1 & 1 \\\\1 & 2  \\end{bmatrix}\\begin{bmatrix}x \\\\y \\end{bmatrix}$. Now we consider the maximum and minumum of $f(x,y)$ with a constraint $x^2+y^2=1$\n",
    "\n",
    "By the eigen-decomposition $\\mathbf{S} = \\mathbf{U}\\mathbf{D}\\mathbf{U}^{\\top}$, we see if $|\\mathbf{x}|=1$, then $|\\mathbf{U}\\mathbf{x}|=1$. Therefore every quadratic form is corresponding to a diagonal matrix and their extreme value problem around unit circle could be solved accordingly.\n"
   ]
  },
  {
   "cell_type": "code",
   "execution_count": 2,
   "id": "9c6d5b44-f2ee-430d-a5c3-2993386bc34e",
   "metadata": {
    "tags": []
   },
   "outputs": [],
   "source": [
    "import numpy as np"
   ]
  },
  {
   "cell_type": "code",
   "execution_count": 34,
   "id": "187a5582-7791-49d6-b28b-3362216886d9",
   "metadata": {
    "tags": []
   },
   "outputs": [
    {
     "name": "stdout",
     "output_type": "stream",
     "text": [
      "The eigenvectors are:\n",
      "[[-0.85065081 -0.52573111]\n",
      " [ 0.52573111 -0.85065081]]\n",
      "The eigenvalues are:\n",
      "[0.38196601 2.61803399]\n",
      "[[1. 0.]\n",
      " [0. 1.]]\n",
      "[-0.85065081  0.52573111]\n",
      "[-0.3249197   0.20081142]\n",
      "[-0.3249197   0.20081142]\n"
     ]
    }
   ],
   "source": [
    "A = np.array([[1,1],[1,2]])\n",
    "evalues1, evectors1 = np.linalg.eig(A)\n",
    "print('The eigenvectors are:')\n",
    "print(evectors1)\n",
    "print('The eigenvalues are:')\n",
    "print(evalues1)\n",
    "\n",
    "print(np.dot(evectors1,evectors1.T))\n",
    "print(evectors1.T[0])\n",
    "print(evalues1[0]*evectors1.T[0])\n",
    "print(np.dot(A,evectors1.T[0]))"
   ]
  },
  {
   "cell_type": "code",
   "execution_count": 5,
   "id": "23cb76b6-d471-4a6f-b6fe-6c14ea020ab1",
   "metadata": {
    "tags": []
   },
   "outputs": [
    {
     "name": "stdout",
     "output_type": "stream",
     "text": [
      "The eigenvectors are:\n",
      "[[ 1.00000000e+000 -1.00000000e+000]\n",
      " [ 0.00000000e+000  2.00416836e-292]]\n",
      "The eigenvectors are:\n",
      "[[ 1. -1.]\n",
      " [-1.  1.]]\n",
      "The eigenvalues are:\n",
      "[0. 0.]\n",
      "The First Eigenvector are:\n",
      "[1. 0.]\n",
      "[0. 0.]\n",
      "[0. 0.]\n"
     ]
    }
   ],
   "source": [
    "A = np.array([[0,1],[0,0]])\n",
    "evalues1, evectors1 = np.linalg.eig(A)\n",
    "print('The eigenvectors are:')\n",
    "print(evectors1)\n",
    "print('The Inner product of eigenvectors are:')\n",
    "print(np.dot(evectors1.T,evectors1))\n",
    "print('The eigenvalues are:')\n",
    "print(evalues1)\n",
    "print('The First Eigenvector is:')\n",
    "print(evectors1.T[0])\n",
    "print('The First Eigenvector times first eigenvalue is:')\n",
    "print(evalues1[0]*evectors1.T[0])\n",
    "print(np.dot(A,evectors1.T[0]))"
   ]
  },
  {
   "cell_type": "code",
   "execution_count": 45,
   "id": "1c6dd700-c0d9-4a3e-b42e-ee2bb2d56d09",
   "metadata": {
    "tags": []
   },
   "outputs": [
    {
     "name": "stdout",
     "output_type": "stream",
     "text": [
      "[[8 1 4 4]\n",
      " [1 7 9 9]\n",
      " [3 1 2 9]\n",
      " [9 1 3 1]]\n",
      "[[ 97  87  69  89]\n",
      " [ 87 212 109  52]\n",
      " [ 69 109  95  43]\n",
      " [ 89  52  43  92]]\n",
      "The eigenvalues are:\n",
      "[16.54181955+0.j          5.39713395+0.j         -1.96947675+1.50308452j\n",
      " -1.96947675-1.50308452j]\n",
      "The eigenvectors are:\n",
      "[[ 0.43046466+0.j          0.13121142+0.j          0.15620955+0.07043601j\n",
      "   0.15620955-0.07043601j]\n",
      " [ 0.73810537+0.j         -0.98468254+0.j          0.47713067+0.25275973j\n",
      "   0.47713067-0.25275973j]\n",
      " [ 0.3670873 +0.j          0.06905261+0.j         -0.76930008+0.j\n",
      "  -0.76930008-0.j        ]\n",
      " [ 0.36762421+0.j          0.09173659+0.j          0.23421772-0.18004342j\n",
      "   0.23421772+0.18004342j]]\n",
      "The Inner product of eigenvectors are:\n",
      "[[ 1.        +0.j         -0.61124466+0.j          0.22311922+0.1506952j\n",
      "   0.22311922-0.1506952j ]\n",
      " [-0.61124466+0.j          1.        +0.j         -0.48096161-0.25616265j\n",
      "  -0.48096161+0.25616265j]\n",
      " [ 0.22311922+0.1506952j  -0.48096161-0.25616265j  0.79747131+0.17886568j\n",
      "   1.        +0.j        ]\n",
      " [ 0.22311922-0.1506952j  -0.48096161+0.25616265j  1.        +0.j\n",
      "   0.79747131-0.17886568j]]\n",
      "The First Eigenvector is:\n",
      "[0.43046466+0.j 0.73810537+0.j 0.3670873 +0.j 0.36762421+0.j]\n",
      "The First Eigenvector times first eigenvalue is:\n",
      "[ 7.12066865+0.j 12.20960582+0.j  6.07229183+0.j  6.08117337+0.j]\n",
      "[ 7.12066865+0.j 12.20960582+0.j  6.07229183+0.j  6.08117337+0.j]\n",
      "=================================\n",
      "Symmetric matrix\n",
      "The eigenvalues are:\n",
      "[3.66128186e+02 1.01982453e+02 2.91424378e-01 2.75979371e+01]\n",
      "The eigenvectors are:\n",
      "[[-0.45231792 -0.46346118  0.76153132 -0.02612046]\n",
      " [-0.68887443  0.56588276 -0.04932531  0.45032848]\n",
      " [-0.44719518  0.1190634  -0.22258637 -0.85807674]\n",
      " [-0.34767369 -0.67141965 -0.60670616  0.24541046]]\n",
      "The Inner product of eigenvectors are:\n",
      "[[ 1.00000000e+00 -3.33066907e-16 -2.22044605e-16  5.55111512e-17]\n",
      " [-3.33066907e-16  1.00000000e+00  2.22044605e-16  1.24900090e-16]\n",
      " [-2.22044605e-16  2.22044605e-16  1.00000000e+00 -4.16333634e-16]\n",
      " [ 5.55111512e-17  1.24900090e-16 -4.16333634e-16  1.00000000e+00]]\n",
      "The First Eigenvector is:\n",
      "[-0.45231792 -0.68887443 -0.44719518 -0.34767369]\n",
      "The First Eigenvector times first eigenvalue is:\n",
      "[-165.60633915 -252.216344   -163.73075974 -127.29313725]\n",
      "[-165.60633915 -252.216344   -163.73075974 -127.29313725]\n"
     ]
    }
   ],
   "source": [
    "A = np.random.randint(1, 10, size=(4, 4))\n",
    "\n",
    "print(A)\n",
    "evalues1, evectors1 = np.linalg.eig(A)\n",
    "print(np.dot(A,A.T))\n",
    "evalues2, evectors2 = np.linalg.eig(np.dot(A,A.T))\n",
    "\n",
    "print('The eigenvalues are:')\n",
    "print(evalues1)\n",
    "print('The eigenvectors are:')\n",
    "print(evectors1)\n",
    "print('The Inner product of eigenvectors are:')\n",
    "print(np.dot(evectors1.T,evectors1))\n",
    "print('The First Eigenvector is:')\n",
    "print(evectors1.T[0])\n",
    "print('The First Eigenvector times first eigenvalue is:')\n",
    "print(evalues1[0]*evectors1.T[0])\n",
    "print(np.dot(A,evectors1.T[0]))\n",
    "print('=================================')\n",
    "print('Symmetric matrix')\n",
    "\n",
    "print('The eigenvalues are:')\n",
    "print(evalues2)\n",
    "print('The eigenvectors are:')\n",
    "print(evectors2)\n",
    "print('The Inner product of eigenvectors are:')\n",
    "print(np.dot(evectors2.T,evectors2))\n",
    "print('The First Eigenvector is:')\n",
    "print(evectors2.T[0])\n",
    "print('The First Eigenvector times first eigenvalue is:')\n",
    "print(evalues2[0]*evectors2.T[0])\n",
    "print(np.dot(np.dot(A,A.T),evectors2.T[0]))\n"
   ]
  },
  {
   "cell_type": "code",
   "execution_count": 15,
   "id": "6c91830c-5f4a-4a5d-b46b-694f0697501b",
   "metadata": {
    "tags": []
   },
   "outputs": [
    {
     "data": {
      "text/plain": [
       "array([[3.81966011e-01, 0.00000000e+00],\n",
       "       [1.66533454e-16, 2.61803399e+00]])"
      ]
     },
     "execution_count": 15,
     "metadata": {},
     "output_type": "execute_result"
    }
   ],
   "source": [
    "np.linalg.multi_dot([evectors1.T,A,evectors1])"
   ]
  },
  {
   "cell_type": "code",
   "execution_count": 6,
   "id": "ad8032bd-8924-4581-8876-87adea0d58d7",
   "metadata": {
    "tags": []
   },
   "outputs": [
    {
     "name": "stdout",
     "output_type": "stream",
     "text": [
      "[[-0.67028426  0.72847433  0.14157742]\n",
      " [ 0.62554549  0.65727018 -0.42034361]\n",
      " [ 0.39926415  0.19318659  0.89625169]]\n",
      "[0.5075656 1.413941  1.0784934]\n"
     ]
    }
   ],
   "source": [
    "A = np.array([[1,0.4,0.2],[0.4,1,-0.1],[0.2,-0.1,1]])\n",
    "evalues1, evectors1 = np.linalg.eig(A)\n",
    "print(evectors1)\n",
    "print(evalues1)"
   ]
  },
  {
   "cell_type": "code",
   "execution_count": 1,
   "id": "f79510c9-48d2-40b9-a28c-71bbe13e1924",
   "metadata": {
    "tags": []
   },
   "outputs": [],
   "source": [
    "a = np.random.rand(3,3)  # generate a random array shaped (3,3)\n",
    "\n",
    "a = (a + a.T)/2  # a becomes a random simmetric matrix    \n",
    "\n",
    "evalues1, evectors1 = np.linalg.eig(a)"
   ]
  },
  {
   "cell_type": "code",
   "execution_count": 3,
   "id": "5008d067-4628-418f-8057-1115fd46604d",
   "metadata": {
    "tags": []
   },
   "outputs": [
    {
     "data": {
      "text/plain": [
       "array([[-0.71002836, -0.52434846,  0.4700196 ],\n",
       "       [-0.51145899, -0.07477653, -0.856048  ],\n",
       "       [-0.48401388,  0.8482141 ,  0.21508928]])"
      ]
     },
     "execution_count": 3,
     "metadata": {},
     "output_type": "execute_result"
    }
   ],
   "source": [
    "evectors1"
   ]
  },
  {
   "cell_type": "code",
   "execution_count": 6,
   "id": "af67c9ca-9b7e-4551-8971-3866978b1d54",
   "metadata": {
    "tags": []
   },
   "outputs": [
    {
     "data": {
      "text/plain": [
       "1.6651603187104127e-16"
      ]
     },
     "execution_count": 6,
     "metadata": {},
     "output_type": "execute_result"
    }
   ],
   "source": [
    "np.dot(evectors1[1],evectors1[2])"
   ]
  },
  {
   "cell_type": "code",
   "execution_count": 2,
   "id": "04f87ca4-41cf-4039-bc34-a1e3cd6b03e5",
   "metadata": {
    "tags": []
   },
   "outputs": [
    {
     "data": {
      "text/plain": [
       "array([ 1.75529111,  0.08388121, -0.53694962])"
      ]
     },
     "execution_count": 2,
     "metadata": {},
     "output_type": "execute_result"
    }
   ],
   "source": [
    "evalues1"
   ]
  },
  {
   "cell_type": "markdown",
   "id": "141e63a8-d939-4677-a024-74ea2983662b",
   "metadata": {
    "tags": []
   },
   "source": [
    "## Singular value decomposition\n",
    "Despite most matrices are non-sqare and not symmetric, we could create symmetric (square) matrix for every matrix $\\mathbf{A}$."
   ]
  },
  {
   "cell_type": "markdown",
   "id": "a98de12b-1904-4780-a5d8-95690a33b7ed",
   "metadata": {},
   "source": [
    "For example: $\\mathbf{A}\\mathbf{A}^{\\top}$, $\\mathbf{A}^{\\top}\\mathbf{A}$ are symmetric matrix.\n",
    "\n",
    "It is easy to see $\\mathbf{A}\\mathbf{A}^{\\top}$, $\\mathbf{A}^{\\top}\\mathbf{A}$ are both semi-definite (a matrix $\\mathbf{M}$ is semi-definate means $\\forall \\mathbf{v},\\langle \\mathbf{v},\\mathbf{M}\\mathbf{v}\\rangle \\geq 0$).\n",
    "\n",
    "Therefore we could write down the following two equations.\n",
    "\n",
    "$$\\mathbf{A}\\mathbf{A}^{\\top} = \\mathbf{U}\\Lambda_1^2\\mathbf{U}^{\\top}$$\n",
    "$$\\mathbf{A}^{\\top}\\mathbf{A} = \\mathbf{V}\\Lambda_2^2\\mathbf{V}^{\\top}$$"
   ]
  },
  {
   "cell_type": "markdown",
   "id": "27fce1a9-44ec-49a3-8ff0-2399829148c7",
   "metadata": {},
   "source": [
    "The proof of singular value decomposition would show that essentially $\\Lambda_1^2 =\\Lambda_2^2$, therefore it is easy to guess \n",
    "$$\\mathbf{A} = \\mathbf{U}\\Lambda\\mathbf{V}^{\\top}$$\n",
    "which is the singular value decomposition we want."
   ]
  },
  {
   "cell_type": "markdown",
   "id": "e3090166-0a28-4008-832e-b13e0670263a",
   "metadata": {},
   "source": [
    "Singular value decomposition is actually a direct result of spectral theory (spectral decomposition). \n",
    "Assuming spectral theory holds, we have a full set of eigenvalues and eigenvectors for $\\mathbf{A}^{\\top}\\mathbf{A}$ as  $\\{\\lambda_i\\}$ and $\\{\\mathbf{v}_i\\}$\n",
    "\n",
    "The proof of singular value decomposition is a one liner. \n",
    "\n",
    "$\\langle \\mathbf{v}_i,\\mathbf{A}^{\\top}\\mathbf{A}\\mathbf{v}_j\\rangle = \\langle \\mathbf{v}_i,\\lambda_j\\mathbf{v}_j\\rangle=0$, since $\\mathbf{v}_i \\perp \\mathbf{v}_j$ for $i\\neq j$.\n",
    "On the other hand, $\\langle \\mathbf{v}_i,\\mathbf{A}^{\\top}\\mathbf{A}\\mathbf{v}_j\\rangle = \\langle \\mathbf{A}\\mathbf{v}_i,\\mathbf{A}\\mathbf{v}_j\\rangle$. $\\sigma_i\\mathbf{u}_i \\triangleq\\mathbf{A}\\mathbf{v}_i$, then we have $\\mathbf{U}\\Sigma= \\mathbf{A}\\mathbf{V} $ and $\\mathbf{A} = \\mathbf{U}\\Sigma\\mathbf{V}^{\\top} $.\n"
   ]
  },
  {
   "cell_type": "markdown",
   "id": "8ef96587-2f2d-4aa6-9232-e9c47eacb0c1",
   "metadata": {},
   "source": [
    "### Singular value decomposition for some common matrices\n",
    "\n",
    "Scalar\n",
    "\n",
    "reflection\n",
    "\n",
    "rotation\n",
    "\n",
    "projection matrix\n",
    "\n",
    "jordan form failed matrix"
   ]
  },
  {
   "cell_type": "code",
   "execution_count": 3,
   "id": "4a500479-f06d-490a-8501-1faa4ecaef27",
   "metadata": {
    "tags": []
   },
   "outputs": [
    {
     "name": "stdout",
     "output_type": "stream",
     "text": [
      "[[1. 0.]\n",
      " [0. 1.]]\n",
      "[1. 1.]\n",
      "[[ 1.  0.]\n",
      " [-0. -1.]]\n",
      "[[ 1.  0.]\n",
      " [ 0. -1.]]\n"
     ]
    }
   ],
   "source": [
    "A = np.array([[1,0],[0,-1]])\n",
    "U,sigma,VT = np.linalg.svd(A)\n",
    "print(U)\n",
    "print(sigma)\n",
    "print(VT)\n",
    "print(np.linalg.multi_dot([U,np.diag(sigma),VT]))"
   ]
  },
  {
   "cell_type": "code",
   "execution_count": 29,
   "id": "d59349aa-e463-41e4-99c7-e55292a65969",
   "metadata": {
    "tags": []
   },
   "outputs": [
    {
     "name": "stdout",
     "output_type": "stream",
     "text": [
      "[[0. 1.]\n",
      " [1. 0.]]\n",
      "[5. 1.]\n",
      "[[0. 1.]\n",
      " [1. 0.]]\n",
      "[[1. 0.]\n",
      " [0. 5.]]\n"
     ]
    }
   ],
   "source": [
    "A = np.array([[1,0],[0,5]])\n",
    "U,sigma,VT = np.linalg.svd(A)\n",
    "print(U)\n",
    "print(sigma)\n",
    "print(VT)\n",
    "print(np.linalg.multi_dot([U,np.diag(sigma),VT]))"
   ]
  },
  {
   "cell_type": "code",
   "execution_count": 32,
   "id": "f7756660-5746-4cbc-8a8f-a3f4e7348e5c",
   "metadata": {
    "tags": []
   },
   "outputs": [
    {
     "name": "stdout",
     "output_type": "stream",
     "text": [
      "[[-0.70710678 -0.70710678]\n",
      " [-0.70710678  0.70710678]]\n",
      "[1. 1.]\n",
      "[[-1. -0.]\n",
      " [ 0.  1.]]\n",
      "[[ 0.70710678 -0.70710678]\n",
      " [ 0.70710678  0.70710678]]\n"
     ]
    }
   ],
   "source": [
    "A = np.array([[ 0.70710678, -0.70710678],\n",
    " [ 0.70710678,  0.70710678]])\n",
    "U,sigma,VT = np.linalg.svd(A)\n",
    "print(U)\n",
    "print(sigma)\n",
    "print(VT)\n",
    "print(np.linalg.multi_dot([U,np.diag(sigma),VT]))"
   ]
  },
  {
   "cell_type": "code",
   "execution_count": 16,
   "id": "89eb9d47-36dd-43d4-820b-9fb5710ec14c",
   "metadata": {
    "tags": []
   },
   "outputs": [],
   "source": [
    "import sympy as sp\n",
    "alpha, beta,theta, x1,y1,lambda1 = sp.symbols('alpha, beta,theta, x1,y1,lambda1',real=True)\n",
    "\n",
    "B = sp.Matrix([[sp.cos(alpha),-sp.sin(alpha),0],[sp.sin(alpha),sp.cos(alpha),0],[0,0,1]])\n",
    "C = sp.Matrix([[1,0,0],[0,sp.cos(theta),-sp.sin(theta)],[0,sp.sin(theta),sp.cos(theta)]])"
   ]
  },
  {
   "cell_type": "code",
   "execution_count": 17,
   "id": "efc1b554-8b20-4f8d-bdbc-3bdea2e40044",
   "metadata": {
    "tags": []
   },
   "outputs": [
    {
     "data": {
      "text/latex": [
       "$\\displaystyle \\left[\\begin{matrix}\\cos{\\left(\\alpha \\right)} & - \\sin{\\left(\\alpha \\right)} & 0\\\\\\sin{\\left(\\alpha \\right)} & \\cos{\\left(\\alpha \\right)} & 0\\\\0 & 0 & 1\\end{matrix}\\right]$"
      ],
      "text/plain": [
       "Matrix([\n",
       "[cos(alpha), -sin(alpha), 0],\n",
       "[sin(alpha),  cos(alpha), 0],\n",
       "[         0,           0, 1]])"
      ]
     },
     "execution_count": 17,
     "metadata": {},
     "output_type": "execute_result"
    }
   ],
   "source": [
    "B"
   ]
  },
  {
   "cell_type": "code",
   "execution_count": 18,
   "id": "5d4092dd-6b84-4dc7-9853-3cad10017372",
   "metadata": {
    "tags": []
   },
   "outputs": [
    {
     "data": {
      "text/latex": [
       "$\\displaystyle \\left[\\begin{matrix}1 & 0 & 0\\\\0 & \\cos{\\left(\\theta \\right)} & - \\sin{\\left(\\theta \\right)}\\\\0 & \\sin{\\left(\\theta \\right)} & \\cos{\\left(\\theta \\right)}\\end{matrix}\\right]$"
      ],
      "text/plain": [
       "Matrix([\n",
       "[1,          0,           0],\n",
       "[0, cos(theta), -sin(theta)],\n",
       "[0, sin(theta),  cos(theta)]])"
      ]
     },
     "execution_count": 18,
     "metadata": {},
     "output_type": "execute_result"
    }
   ],
   "source": [
    "C"
   ]
  },
  {
   "cell_type": "code",
   "execution_count": 25,
   "id": "373405b7-c766-41a9-936f-54bea1eb38ef",
   "metadata": {
    "tags": []
   },
   "outputs": [
    {
     "data": {
      "text/latex": [
       "$\\displaystyle \\left[\\begin{matrix}\\frac{\\sqrt{2}}{2} & - \\frac{1}{2} & \\frac{1}{2}\\\\\\frac{\\sqrt{2}}{2} & \\frac{1}{2} & - \\frac{1}{2}\\\\0 & \\frac{\\sqrt{2}}{2} & \\frac{\\sqrt{2}}{2}\\end{matrix}\\right]$"
      ],
      "text/plain": [
       "Matrix([\n",
       "[sqrt(2)/2,      -1/2,       1/2],\n",
       "[sqrt(2)/2,       1/2,      -1/2],\n",
       "[        0, sqrt(2)/2, sqrt(2)/2]])"
      ]
     },
     "execution_count": 25,
     "metadata": {},
     "output_type": "execute_result"
    }
   ],
   "source": [
    "A = (B*C).subs([(alpha, sp.pi / 4),(theta, sp.pi / 4)])\n",
    "A"
   ]
  },
  {
   "cell_type": "code",
   "execution_count": 30,
   "id": "5b757a82-9d9f-44a0-90a2-aabb81b8f8f7",
   "metadata": {
    "tags": []
   },
   "outputs": [
    {
     "data": {
      "text/plain": [
       "array([[ 0.70710678, -0.5       ,  0.5       ],\n",
       "       [ 0.70710678,  0.5       , -0.5       ],\n",
       "       [ 0.        ,  0.70710678,  0.70710678]])"
      ]
     },
     "execution_count": 30,
     "metadata": {},
     "output_type": "execute_result"
    }
   ],
   "source": [
    "np.array(A).astype(np.float64)"
   ]
  },
  {
   "cell_type": "code",
   "execution_count": 29,
   "id": "64aad29c-d34f-4b85-9083-0b3dbb305191",
   "metadata": {
    "tags": []
   },
   "outputs": [
    {
     "name": "stdout",
     "output_type": "stream",
     "text": [
      "[[-0.70710678  0.5         0.5       ]\n",
      " [-0.70710678 -0.5        -0.5       ]\n",
      " [ 0.          0.70710678 -0.70710678]]\n",
      "[1. 1. 1.]\n",
      "[[-1. -0. -0.]\n",
      " [ 0.  0.  1.]\n",
      " [-0. -1. -0.]]\n",
      "[[ 0.70710678 -0.5         0.5       ]\n",
      " [ 0.70710678  0.5        -0.5       ]\n",
      " [ 0.          0.70710678  0.70710678]]\n"
     ]
    }
   ],
   "source": [
    "U,sigma,VT = np.linalg.svd(np.array(A).astype(np.float64))\n",
    "print(U)\n",
    "print(sigma)\n",
    "print(VT)\n",
    "print(np.linalg.multi_dot([U,np.diag(sigma),VT]))"
   ]
  },
  {
   "cell_type": "code",
   "execution_count": 3,
   "id": "aea81d5d-31c3-43fd-8913-2e94eee9d25e",
   "metadata": {
    "tags": []
   },
   "outputs": [
    {
     "name": "stdout",
     "output_type": "stream",
     "text": [
      "[[ 0.  0.  0. -1.]\n",
      " [ 0.  0. -1.  0.]\n",
      " [-1.  0.  0.  0.]\n",
      " [ 0. -1.  0.  0.]]\n",
      "[1. 1. 1. 0.]\n",
      "[[-0. -1. -0. -0.]\n",
      " [-0. -0. -1. -0.]\n",
      " [-1. -0. -0. -0.]\n",
      " [ 0.  0.  0.  1.]]\n",
      "[[0. 0. 0. 0.]\n",
      " [1. 0. 0. 0.]\n",
      " [0. 1. 0. 0.]\n",
      " [0. 0. 1. 0.]]\n"
     ]
    }
   ],
   "source": [
    "A = np.array([[0,0,0,0],[1,0,0,0],[0,1,0,0],[0,0,1,0]])\n",
    "U,sigma,VT = np.linalg.svd(A)\n",
    "print(U)\n",
    "print(sigma)\n",
    "print(VT)\n",
    "print(np.linalg.multi_dot([U,np.diag(sigma),VT]))"
   ]
  },
  {
   "cell_type": "code",
   "execution_count": null,
   "id": "5ffd2b7a-ba40-46c4-935a-dbe7f3cbd5f8",
   "metadata": {},
   "outputs": [],
   "source": []
  }
 ],
 "metadata": {
  "kernelspec": {
   "display_name": "Python 3 (ipykernel)",
   "language": "python",
   "name": "python3"
  },
  "language_info": {
   "codemirror_mode": {
    "name": "ipython",
    "version": 3
   },
   "file_extension": ".py",
   "mimetype": "text/x-python",
   "name": "python",
   "nbconvert_exporter": "python",
   "pygments_lexer": "ipython3",
   "version": "3.12.1"
  }
 },
 "nbformat": 4,
 "nbformat_minor": 5
}
